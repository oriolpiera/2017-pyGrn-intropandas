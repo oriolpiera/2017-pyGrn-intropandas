{
 "cells": [
  {
   "cell_type": "markdown",
   "metadata": {
    "collapsed": true,
    "slideshow": {
     "slide_type": "slide"
    }
   },
   "source": [
    "<CENTER>\n",
    "<img src=\"https://secure.meetupstatic.com/photos/theme_head/d/9/1/7/full_7435575.jpeg\" width=\"100%\">\n",
    "\n",
    "  <header>\n",
    "    <h1>Introducció a Pandas</h1>\n",
    "    <h3>12 Juliol 2017</h3>\n",
    "    <h2>@victormartin</h2>\n",
    "    <p></p>\n",
    "  </header>\n",
    "</CENTER>"
   ]
  },
  {
   "cell_type": "markdown",
   "metadata": {
    "slideshow": {
     "slide_type": "slide"
    }
   },
   "source": [
    "\n",
    "# Contingut d'aquesta xerrada\n",
    "\n",
    "- Per què necessites pandas?\n",
    "- Introducció bàsica a les estructures de dades\n",
    "- Exemples d'algunes funcionalitats de pandas amb dades del **portal Girona Open Data** http://www.girona.cat/opendata\n",
    "\n",
    "Material original de Joris Van den Bossche https://github.com/jorisvandenbossche/2015-PyDataParis\n",
    "\n",
    "Per veure aquest notebook en format de presentació (Reveal.js):\n",
    "\n",
    "```\n",
    "$ipython nbconvert pandas_introduction.ipynb --to slides --post serve\n",
    "```"
   ]
  },
  {
   "cell_type": "markdown",
   "metadata": {
    "slideshow": {
     "slide_type": "slide"
    }
   },
   "source": [
    "Alguns imports:"
   ]
  },
  {
   "cell_type": "code",
   "execution_count": 71,
   "metadata": {
    "collapsed": true,
    "slideshow": {
     "slide_type": "-"
    }
   },
   "outputs": [],
   "source": [
    "%matplotlib inline\n",
    "\n",
    "import pandas as pd\n",
    "import numpy as np\n",
    "\n",
    "import os\n",
    "from datetime import datetime\n",
    "\n",
    "import matplotlib.pyplot as plt\n",
    "import matplotlib.pylab as pylab\n",
    "\n",
    "pylab.rcParams['figure.figsize'] = (16, 6)\n",
    "\n",
    "import seaborn"
   ]
  },
  {
   "cell_type": "markdown",
   "metadata": {
    "slideshow": {
     "slide_type": "slide"
    }
   },
   "source": [
    "# Primer una petita demostració"
   ]
  },
  {
   "cell_type": "markdown",
   "metadata": {
    "collapsed": true,
    "slideshow": {
     "slide_type": "subslide"
    }
   },
   "source": [
    "## Case study: Padró Municipal Girona 2015\n",
    "\n",
    "Al portal Girona Open Data podem trobar les dades del padró municipal de Girona"
   ]
  },
  {
   "cell_type": "code",
   "execution_count": 2,
   "metadata": {
    "slideshow": {
     "slide_type": "subslide"
    }
   },
   "outputs": [
    {
     "data": {
      "text/html": [
       "<iframe src=http://www.girona.cat/opendata/ width=1024 height=350></iframe>"
      ],
      "text/plain": [
       "<IPython.core.display.HTML object>"
      ]
     },
     "execution_count": 2,
     "metadata": {},
     "output_type": "execute_result"
    }
   ],
   "source": [
    "from IPython.display import HTML\n",
    "HTML('<iframe src=http://www.girona.cat/opendata/ width=1024 height=350></iframe>')"
   ]
  },
  {
   "cell_type": "code",
   "execution_count": 3,
   "metadata": {
    "collapsed": true,
    "slideshow": {
     "slide_type": "skip"
    }
   },
   "outputs": [],
   "source": [
    "data_folder = os.path.join(os.getcwd(), 'data')\n",
    "data = pd.read_csv(\n",
    "    os.path.join(data_folder, '2015-padro.csv'), \n",
    "    sep=';', \n",
    "    parse_dates=[\"data_naixement\", \"data_alta\"])"
   ]
  },
  {
   "cell_type": "code",
   "execution_count": 4,
   "metadata": {
    "slideshow": {
     "slide_type": "subslide"
    }
   },
   "outputs": [
    {
     "data": {
      "text/html": [
       "<div>\n",
       "<table border=\"1\" class=\"dataframe\">\n",
       "  <thead>\n",
       "    <tr style=\"text-align: right;\">\n",
       "      <th></th>\n",
       "      <th>districte</th>\n",
       "      <th>seccio</th>\n",
       "      <th>sexe</th>\n",
       "      <th>codi_nivell_estudis</th>\n",
       "      <th>nivell_estudis</th>\n",
       "      <th>data_naixement</th>\n",
       "      <th>codi_municipi_naixement</th>\n",
       "      <th>municipi_pais_naixement</th>\n",
       "      <th>codi_provincia_naixement</th>\n",
       "      <th>provincia_naixement</th>\n",
       "      <th>codi_nacionalitat</th>\n",
       "      <th>nacionalitat</th>\n",
       "      <th>data_alta</th>\n",
       "      <th>codi_municipi_procedencia</th>\n",
       "      <th>municipi_pais_procedencia</th>\n",
       "      <th>codi_provincia_procedencia</th>\n",
       "      <th>provincia_procedencia</th>\n",
       "    </tr>\n",
       "  </thead>\n",
       "  <tbody>\n",
       "    <tr>\n",
       "      <th>98202</th>\n",
       "      <td>6</td>\n",
       "      <td>4</td>\n",
       "      <td>DONA</td>\n",
       "      <td>0</td>\n",
       "      <td>NO APLICABLE MENOR 16</td>\n",
       "      <td>2009-01-01</td>\n",
       "      <td>079</td>\n",
       "      <td>GIRONA</td>\n",
       "      <td>17</td>\n",
       "      <td>GIRONA</td>\n",
       "      <td>108</td>\n",
       "      <td>ESPAÑA</td>\n",
       "      <td>2009-10-18</td>\n",
       "      <td>079</td>\n",
       "      <td>GIRONA</td>\n",
       "      <td>17.0</td>\n",
       "      <td>GIRONA</td>\n",
       "    </tr>\n",
       "    <tr>\n",
       "      <th>48900</th>\n",
       "      <td>3</td>\n",
       "      <td>12</td>\n",
       "      <td>DONA</td>\n",
       "      <td>20</td>\n",
       "      <td>PRIMÀRIA INCOMPLETA</td>\n",
       "      <td>1937-01-01</td>\n",
       "      <td>074</td>\n",
       "      <td>LLERENA</td>\n",
       "      <td>6</td>\n",
       "      <td>BADAJOZ</td>\n",
       "      <td>108</td>\n",
       "      <td>ESPAÑA</td>\n",
       "      <td>1996-01-05</td>\n",
       "      <td>074</td>\n",
       "      <td>LLERENA</td>\n",
       "      <td>6.0</td>\n",
       "      <td>BADAJOZ</td>\n",
       "    </tr>\n",
       "    <tr>\n",
       "      <th>71083</th>\n",
       "      <td>3</td>\n",
       "      <td>5</td>\n",
       "      <td>HOME</td>\n",
       "      <td>42</td>\n",
       "      <td>BATXILLER SUPERIOR, BUP</td>\n",
       "      <td>1997-01-01</td>\n",
       "      <td>079</td>\n",
       "      <td>GIRONA</td>\n",
       "      <td>17</td>\n",
       "      <td>GIRONA</td>\n",
       "      <td>108</td>\n",
       "      <td>ESPAÑA</td>\n",
       "      <td>2000-06-16</td>\n",
       "      <td>025</td>\n",
       "      <td>BORDILS</td>\n",
       "      <td>17.0</td>\n",
       "      <td>GIRONA</td>\n",
       "    </tr>\n",
       "  </tbody>\n",
       "</table>\n",
       "</div>"
      ],
      "text/plain": [
       "       districte  seccio  sexe  codi_nivell_estudis           nivell_estudis  \\\n",
       "98202          6       4  DONA                    0    NO APLICABLE MENOR 16   \n",
       "48900          3      12  DONA                   20      PRIMÀRIA INCOMPLETA   \n",
       "71083          3       5  HOME                   42  BATXILLER SUPERIOR, BUP   \n",
       "\n",
       "      data_naixement codi_municipi_naixement municipi_pais_naixement  \\\n",
       "98202     2009-01-01                     079                  GIRONA   \n",
       "48900     1937-01-01                     074                 LLERENA   \n",
       "71083     1997-01-01                     079                  GIRONA   \n",
       "\n",
       "       codi_provincia_naixement provincia_naixement codi_nacionalitat  \\\n",
       "98202                        17              GIRONA               108   \n",
       "48900                         6             BADAJOZ               108   \n",
       "71083                        17              GIRONA               108   \n",
       "\n",
       "      nacionalitat  data_alta codi_municipi_procedencia  \\\n",
       "98202       ESPAÑA 2009-10-18                       079   \n",
       "48900       ESPAÑA 1996-01-05                       074   \n",
       "71083       ESPAÑA 2000-06-16                       025   \n",
       "\n",
       "      municipi_pais_procedencia  codi_provincia_procedencia  \\\n",
       "98202                    GIRONA                        17.0   \n",
       "48900                   LLERENA                         6.0   \n",
       "71083                   BORDILS                        17.0   \n",
       "\n",
       "      provincia_procedencia  \n",
       "98202                GIRONA  \n",
       "48900               BADAJOZ  \n",
       "71083                GIRONA  "
      ]
     },
     "execution_count": 4,
     "metadata": {},
     "output_type": "execute_result"
    }
   ],
   "source": [
    "data.sample(3)"
   ]
  },
  {
   "cell_type": "markdown",
   "metadata": {
    "slideshow": {
     "slide_type": "subslide"
    }
   },
   "source": [
    "Obtenir respostes a preguntes sobre aquestes dades amb molt poques línees de codi:\n",
    "\n",
    "**Quina edat tenen els seus habitants?**\n",
    "\n"
   ]
  },
  {
   "cell_type": "code",
   "execution_count": 73,
   "metadata": {
    "scrolled": false
   },
   "outputs": [
    {
     "data": {
      "text/plain": [
       "<matplotlib.axes._subplots.AxesSubplot at 0x113e5e550>"
      ]
     },
     "execution_count": 73,
     "metadata": {},
     "output_type": "execute_result"
    },
    {
     "data": {
      "image/png": "[encoded data removed]",
      "text/plain": [
       "<matplotlib.figure.Figure at 0x1149cae90>"
      ]
     },
     "metadata": {},
     "output_type": "display_data"
    }
   ],
   "source": [
    "((datetime.now() - data[\"data_naixement\"]).dt.days / 365).round(0).hist()"
   ]
  },
  {
   "cell_type": "markdown",
   "metadata": {
    "slideshow": {
     "slide_type": "subslide"
    }
   },
   "source": [
    "**De on venen els nous ciutadans de Girona?**"
   ]
  },
  {
   "cell_type": "code",
   "execution_count": 74,
   "metadata": {},
   "outputs": [
    {
     "data": {
      "text/plain": [
       "<matplotlib.axes._subplots.AxesSubplot at 0x113e88590>"
      ]
     },
     "execution_count": 74,
     "metadata": {},
     "output_type": "execute_result"
    },
    {
     "data": {
      "image/png": "[encoded data removed]",
      "text/plain": [
       "<matplotlib.figure.Figure at 0x115ad0b10>"
      ]
     },
     "metadata": {},
     "output_type": "display_data"
    }
   ],
   "source": [
    "data[data[\"municipi_pais_naixement\"]!=\"GIRONA\"][\"municipi_pais_naixement\"].value_counts().head(10).plot.bar()"
   ]
  },
  {
   "cell_type": "markdown",
   "metadata": {
    "slideshow": {
     "slide_type": "subslide"
    }
   },
   "source": [
    "**Quina es la evolució de l'arribada de estrangers?**"
   ]
  },
  {
   "cell_type": "code",
   "execution_count": 75,
   "metadata": {},
   "outputs": [
    {
     "data": {
      "text/plain": [
       "<matplotlib.axes._subplots.AxesSubplot at 0x11599d050>"
      ]
     },
     "execution_count": 75,
     "metadata": {},
     "output_type": "execute_result"
    },
    {
     "data": {
      "image/png": "[encoded data removed]",
      "text/plain": [
       "<matplotlib.figure.Figure at 0x115e728d0>"
      ]
     },
     "metadata": {},
     "output_type": "display_data"
    }
   ],
   "source": [
    "estrangers = data[data[\"nacionalitat\"]!=\"ESPAÑA\"]\n",
    "estrangers_any = estrangers.groupby([estrangers[\"data_alta\"].dt.year,\"nacionalitat\"]).size().to_frame(\"Num Arribades\").unstack(\"nacionalitat\").fillna(0)\n",
    "#estrangers_any.sum().sort_values(ascending=False).head(5)\n",
    "estrangers_any.loc[2005:,pd.IndexSlice[:,[\"HONDURAS\",\"MARRUECOS\",\"RUMANIA\",\"CHINA\",\"GAMBIA\"]]].plot()"
   ]
  },
  {
   "cell_type": "markdown",
   "metadata": {},
   "source": [
    "Tornarem a les dades del padró, i veurem pas a pas com treballar-hi amb pandas"
   ]
  },
  {
   "cell_type": "markdown",
   "metadata": {
    "slideshow": {
     "slide_type": "slide"
    }
   },
   "source": [
    "# Per què necessites pandas?"
   ]
  },
  {
   "cell_type": "markdown",
   "metadata": {
    "slideshow": {
     "slide_type": "subslide"
    }
   },
   "source": [
    "## Per què necessites pandas?\n",
    "\n",
    "Quan treballes amb *dades tabulars o estructurades* (com R dataframes, taules SQL, fulls de càlcul Excel, ...):\n",
    "\n",
    "- Importar dades\n",
    "- Netejar-les\n",
    "- Primera exploració\n",
    "- Processarles per al seu anàlisis\n",
    "- Analitzarles (juntament scikit-learn, statsmodels, ...) \n",
    "\n",
    "(Spoiler Intro to data science ;) )"
   ]
  },
  {
   "cell_type": "markdown",
   "metadata": {
    "collapsed": true,
    "slideshow": {
     "slide_type": "subslide"
    }
   },
   "source": [
    "# Pandas: anàlisis de dades en python\n",
    "\n",
    "Per processament de dades en Python, la llibrería [Pandas](http://pandas.pydata.org) ha esdevingut essencial.\n",
    "\n",
    "Què és ``pandas``?\n",
    "\n",
    "* Pots pensar en Pandas com arrays NumPy amb etiquetes per files i columnes, i un millor suport per a tipus de dades heterogenis... però es molt més que això \n",
    "* També pots pensar en Pandas com els `data.frame` de `R` però per a Python.\n",
    "* Molt potent per treballar amb missing data, treballar amb sèries temporals, per llegir i escriure les dades, per canviar la seva forma, agrupar, fusionar, etc.,\n",
    "\n",
    "Documentació: http://pandas.pydata.org/pandas-docs/stable/"
   ]
  },
  {
   "cell_type": "markdown",
   "metadata": {
    "slideshow": {
     "slide_type": "subslide"
    }
   },
   "source": [
    "## Features principals\n",
    "\n",
    "* Suport fàcil, ràpid i flexible per a multitud de formats de dades\n",
    "* Mètodes per treballar amb missing data (`.dropna()`, `pd.isnull()`)\n",
    "* Merging and joining (`concat`, `join`)\n",
    "* Grouping: `groupby` functionality\n",
    "* Reshaping (`stack`, `pivot`)\n",
    "* Manipulació potent de sèries temporals (resampling, timezones, ..)\n",
    "* Fàcil visualització en forma de gràfics"
   ]
  },
  {
   "cell_type": "markdown",
   "metadata": {
    "slideshow": {
     "slide_type": "slide"
    }
   },
   "source": [
    "# Estructures de dades bàsiques\n",
    "\n",
    "Pandas fa tot això amb dos tipus d'objectes, construits sobre arrays de Numpy: l'objecte ``Series``, i l'objecte ``DataFrame``."
   ]
  },
  {
   "cell_type": "markdown",
   "metadata": {
    "slideshow": {
     "slide_type": "subslide"
    }
   },
   "source": [
    "## Series\n",
    "\n",
    "Series bàsicament es un contenidor per **dades uni-dimensionals etiquetades**. Es pot instanciar de la mateixa manera que els arrays NumPy:"
   ]
  },
  {
   "cell_type": "code",
   "execution_count": 8,
   "metadata": {},
   "outputs": [
    {
     "data": {
      "text/plain": [
       "0    0.1\n",
       "1    0.2\n",
       "2    0.3\n",
       "3    0.4\n",
       "dtype: float64"
      ]
     },
     "execution_count": 8,
     "metadata": {},
     "output_type": "execute_result"
    }
   ],
   "source": [
    "s = pd.Series([0.1, 0.2, 0.3, 0.4])\n",
    "s"
   ]
  },
  {
   "cell_type": "markdown",
   "metadata": {
    "slideshow": {
     "slide_type": "subslide"
    }
   },
   "source": [
    "### Atributs de Series: `index` i `values`\n",
    "\n",
    "Series incorpora el concepte de un **index**, el cual per defecte son nombres enters de *0* a *N - 1*"
   ]
  },
  {
   "cell_type": "code",
   "execution_count": 9,
   "metadata": {},
   "outputs": [
    {
     "data": {
      "text/plain": [
       "RangeIndex(start=0, stop=4, step=1)"
      ]
     },
     "execution_count": 9,
     "metadata": {},
     "output_type": "execute_result"
    }
   ],
   "source": [
    "s.index"
   ]
  },
  {
   "cell_type": "markdown",
   "metadata": {},
   "source": [
    "Pots accedir a la representació internta del array numpy amb l'atribut `.values`:"
   ]
  },
  {
   "cell_type": "code",
   "execution_count": 10,
   "metadata": {},
   "outputs": [
    {
     "data": {
      "text/plain": [
       "array([ 0.1,  0.2,  0.3,  0.4])"
      ]
     },
     "execution_count": 10,
     "metadata": {},
     "output_type": "execute_result"
    }
   ],
   "source": [
    "s.values"
   ]
  },
  {
   "cell_type": "markdown",
   "metadata": {
    "slideshow": {
     "slide_type": "subslide"
    }
   },
   "source": [
    "Podem accedir als valors de la serie fent servir l'index, com en els arrays de Numpy::"
   ]
  },
  {
   "cell_type": "code",
   "execution_count": 11,
   "metadata": {},
   "outputs": [
    {
     "data": {
      "text/plain": [
       "0.10000000000000001"
      ]
     },
     "execution_count": 11,
     "metadata": {},
     "output_type": "execute_result"
    }
   ],
   "source": [
    "s[0]"
   ]
  },
  {
   "cell_type": "markdown",
   "metadata": {
    "slideshow": {
     "slide_type": "subslide"
    }
   },
   "source": [
    "Però a diferència dels arrays de Numpy, aquest index pot ser un altra cosa que no siguin nombres enters:"
   ]
  },
  {
   "cell_type": "code",
   "execution_count": 12,
   "metadata": {},
   "outputs": [
    {
     "data": {
      "text/plain": [
       "a    0\n",
       "b    1\n",
       "c    2\n",
       "d    3\n",
       "dtype: int64"
      ]
     },
     "execution_count": 12,
     "metadata": {},
     "output_type": "execute_result"
    }
   ],
   "source": [
    "s2 = pd.Series(np.arange(4), index=['a', 'b', 'c', 'd'])\n",
    "s2"
   ]
  },
  {
   "cell_type": "code",
   "execution_count": 13,
   "metadata": {},
   "outputs": [
    {
     "data": {
      "text/plain": [
       "2"
      ]
     },
     "execution_count": 13,
     "metadata": {},
     "output_type": "execute_result"
    }
   ],
   "source": [
    "s2['c']"
   ]
  },
  {
   "cell_type": "markdown",
   "metadata": {
    "slideshow": {
     "slide_type": "subslide"
    }
   },
   "source": [
    "D'aquesta manera, pots pensar en un objecte ``Series`` com una cosa similar a un ```SortedDictionary<K,V>```:"
   ]
  },
  {
   "cell_type": "code",
   "execution_count": 14,
   "metadata": {},
   "outputs": [
    {
     "data": {
      "text/plain": [
       "Barcelona    5.518430\n",
       "Girona       0.741308\n",
       "Lleida       0.427208\n",
       "Tarragona    0.790185\n",
       "dtype: float64"
      ]
     },
     "execution_count": 14,
     "metadata": {},
     "output_type": "execute_result"
    }
   ],
   "source": [
    "poblacio = pd.Series({'Barcelona': 5.518430, 'Girona': 0.741308, 'Lleida': 0.427208, 'Tarragona': 0.790185})\n",
    "poblacio"
   ]
  },
  {
   "cell_type": "code",
   "execution_count": 15,
   "metadata": {},
   "outputs": [
    {
     "data": {
      "text/plain": [
       "0.74130799999999997"
      ]
     },
     "execution_count": 15,
     "metadata": {},
     "output_type": "execute_result"
    }
   ],
   "source": [
    "poblacio['Girona']"
   ]
  },
  {
   "cell_type": "markdown",
   "metadata": {
    "slideshow": {
     "slide_type": "fragment"
    }
   },
   "source": [
    "pero amb la potència dels arrays numpy:"
   ]
  },
  {
   "cell_type": "code",
   "execution_count": 16,
   "metadata": {},
   "outputs": [
    {
     "data": {
      "text/plain": [
       "Barcelona    5518430.0\n",
       "Girona        741308.0\n",
       "Lleida        427208.0\n",
       "Tarragona     790185.0\n",
       "dtype: float64"
      ]
     },
     "execution_count": 16,
     "metadata": {},
     "output_type": "execute_result"
    }
   ],
   "source": [
    "poblacio * 1000000"
   ]
  },
  {
   "cell_type": "markdown",
   "metadata": {
    "slideshow": {
     "slide_type": "subslide"
    }
   },
   "source": [
    "Podem indexar i seleccionar les Series:"
   ]
  },
  {
   "cell_type": "code",
   "execution_count": 17,
   "metadata": {},
   "outputs": [
    {
     "data": {
      "text/plain": [
       "0.74130799999999997"
      ]
     },
     "execution_count": 17,
     "metadata": {},
     "output_type": "execute_result"
    }
   ],
   "source": [
    "poblacio['Girona']"
   ]
  },
  {
   "cell_type": "code",
   "execution_count": 18,
   "metadata": {},
   "outputs": [
    {
     "data": {
      "text/plain": [
       "Girona       0.741308\n",
       "Lleida       0.427208\n",
       "Tarragona    0.790185\n",
       "dtype: float64"
      ]
     },
     "execution_count": 18,
     "metadata": {},
     "output_type": "execute_result"
    }
   ],
   "source": [
    "poblacio['Girona':'Tarragona']"
   ]
  },
  {
   "cell_type": "markdown",
   "metadata": {
    "slideshow": {
     "slide_type": "subslide"
    }
   },
   "source": [
    "Moltes de les coses que podem fer amb arrays numpy, poden ser aplicades també als objectes."
   ]
  },
  {
   "cell_type": "markdown",
   "metadata": {},
   "source": [
    "Fancy indexing, seleccionar objectes de l'índex a través de llists o booleans:"
   ]
  },
  {
   "cell_type": "code",
   "execution_count": 19,
   "metadata": {},
   "outputs": [
    {
     "data": {
      "text/plain": [
       "Girona    0.741308\n",
       "Lleida    0.427208\n",
       "dtype: float64"
      ]
     },
     "execution_count": 19,
     "metadata": {},
     "output_type": "execute_result"
    }
   ],
   "source": [
    "poblacio[['Girona', 'Lleida']]"
   ]
  },
  {
   "cell_type": "code",
   "execution_count": 20,
   "metadata": {},
   "outputs": [
    {
     "data": {
      "text/plain": [
       "Girona       0.741308\n",
       "Lleida       0.427208\n",
       "Tarragona    0.790185\n",
       "dtype: float64"
      ]
     },
     "execution_count": 20,
     "metadata": {},
     "output_type": "execute_result"
    }
   ],
   "source": [
    "poblacio[poblacio < 1]"
   ]
  },
  {
   "cell_type": "markdown",
   "metadata": {
    "slideshow": {
     "slide_type": "subslide"
    }
   },
   "source": [
    "Operacions element a element:"
   ]
  },
  {
   "cell_type": "code",
   "execution_count": 21,
   "metadata": {},
   "outputs": [
    {
     "data": {
      "text/plain": [
       "Barcelona    5518430.0\n",
       "Girona        741308.0\n",
       "Lleida        427208.0\n",
       "Tarragona     790185.0\n",
       "dtype: float64"
      ]
     },
     "execution_count": 21,
     "metadata": {},
     "output_type": "execute_result"
    }
   ],
   "source": [
    "poblacio * 1000000"
   ]
  },
  {
   "cell_type": "markdown",
   "metadata": {},
   "source": [
    "Un munt de mètodes:"
   ]
  },
  {
   "cell_type": "code",
   "execution_count": 22,
   "metadata": {},
   "outputs": [
    {
     "data": {
      "text/plain": [
       "1.8692827500000002"
      ]
     },
     "execution_count": 22,
     "metadata": {},
     "output_type": "execute_result"
    }
   ],
   "source": [
    "poblacio.mean()"
   ]
  },
  {
   "cell_type": "markdown",
   "metadata": {
    "slideshow": {
     "slide_type": "subslide"
    }
   },
   "source": [
    "### Alineació!\n",
    "\n",
    "Pren atenció a l'**alineació**: les operacions entre series seràn alineades fent servir l'índex:"
   ]
  },
  {
   "cell_type": "code",
   "execution_count": 23,
   "metadata": {
    "collapsed": true
   },
   "outputs": [],
   "source": [
    "s1 = poblacio[['Barcelona', 'Girona']]\n",
    "s2 = poblacio[['Girona', 'Tarragona']]"
   ]
  },
  {
   "cell_type": "code",
   "execution_count": 24,
   "metadata": {},
   "outputs": [
    {
     "data": {
      "text/plain": [
       "Barcelona    5.518430\n",
       "Girona       0.741308\n",
       "dtype: float64"
      ]
     },
     "execution_count": 24,
     "metadata": {},
     "output_type": "execute_result"
    }
   ],
   "source": [
    "s1"
   ]
  },
  {
   "cell_type": "code",
   "execution_count": 25,
   "metadata": {},
   "outputs": [
    {
     "data": {
      "text/plain": [
       "Girona       0.741308\n",
       "Tarragona    0.790185\n",
       "dtype: float64"
      ]
     },
     "execution_count": 25,
     "metadata": {},
     "output_type": "execute_result"
    }
   ],
   "source": [
    "s2"
   ]
  },
  {
   "cell_type": "code",
   "execution_count": 26,
   "metadata": {},
   "outputs": [
    {
     "data": {
      "text/plain": [
       "Barcelona         NaN\n",
       "Girona       1.482616\n",
       "Tarragona         NaN\n",
       "dtype: float64"
      ]
     },
     "execution_count": 26,
     "metadata": {},
     "output_type": "execute_result"
    }
   ],
   "source": [
    "s1 + s2"
   ]
  },
  {
   "cell_type": "markdown",
   "metadata": {
    "slideshow": {
     "slide_type": "subslide"
    }
   },
   "source": [
    "## DataFrames: Multi-dimensional Data\n",
    "\n",
    "Un DataFrame es una **estructura de dades tabular** (objecte multi-dimensional que conté dades etiquetades) format per files i columnes. Similar a fulls de càlculs, taules de bases de dades relacionals, etc.,. \n",
    "\n",
    "Multiples objectes Series que comparteixen el mateix índex\n",
    "\n",
    "\n",
    "\n",
    "\n"
   ]
  },
  {
   "cell_type": "markdown",
   "metadata": {
    "slideshow": {
     "slide_type": "subslide"
    }
   },
   "source": [
    "Una de les formes més comunes de crear un dataframe es a partir de un diccionari de arrays o llistes.\n",
    "\n",
    "Als notebooks, el dataframe es mostra en format HTML:"
   ]
  },
  {
   "cell_type": "code",
   "execution_count": 27,
   "metadata": {},
   "outputs": [
    {
     "data": {
      "text/html": [
       "<div>\n",
       "<table border=\"1\" class=\"dataframe\">\n",
       "  <thead>\n",
       "    <tr style=\"text-align: right;\">\n",
       "      <th></th>\n",
       "      <th>habitants</th>\n",
       "      <th>muntanya mes alta</th>\n",
       "      <th>provincia</th>\n",
       "      <th>superficie</th>\n",
       "    </tr>\n",
       "  </thead>\n",
       "  <tbody>\n",
       "    <tr>\n",
       "      <th>0</th>\n",
       "      <td>5.518430</td>\n",
       "      <td>Costa Cabriolera</td>\n",
       "      <td>Barcelona</td>\n",
       "      <td>7733</td>\n",
       "    </tr>\n",
       "    <tr>\n",
       "      <th>1</th>\n",
       "      <td>0.741300</td>\n",
       "      <td>Puig Pedros</td>\n",
       "      <td>Girona</td>\n",
       "      <td>5905</td>\n",
       "    </tr>\n",
       "    <tr>\n",
       "      <th>2</th>\n",
       "      <td>0.427208</td>\n",
       "      <td>Pica d'estats</td>\n",
       "      <td>Lleida</td>\n",
       "      <td>12172</td>\n",
       "    </tr>\n",
       "    <tr>\n",
       "      <th>3</th>\n",
       "      <td>0.790185</td>\n",
       "      <td>Caro</td>\n",
       "      <td>Tarragona</td>\n",
       "      <td>6302</td>\n",
       "    </tr>\n",
       "  </tbody>\n",
       "</table>\n",
       "</div>"
      ],
      "text/plain": [
       "   habitants muntanya mes alta  provincia  superficie\n",
       "0   5.518430  Costa Cabriolera  Barcelona        7733\n",
       "1   0.741300       Puig Pedros     Girona        5905\n",
       "2   0.427208     Pica d'estats     Lleida       12172\n",
       "3   0.790185              Caro  Tarragona        6302"
      ]
     },
     "execution_count": 27,
     "metadata": {},
     "output_type": "execute_result"
    }
   ],
   "source": [
    "dades = {'provincia': ['Barcelona', 'Girona', 'Lleida', 'Tarragona'],\n",
    "        'habitants': [5.518430, 0.74130, 0.427208, 0.790185],\n",
    "        'superficie': [7733, 5905, 12172, 6302],\n",
    "        'muntanya mes alta': ['Costa Cabriolera', 'Puig Pedros', \"Pica d'estats\", 'Caro']}\n",
    "provincies = pd.DataFrame(dades)\n",
    "provincies"
   ]
  },
  {
   "cell_type": "markdown",
   "metadata": {
    "slideshow": {
     "slide_type": "subslide"
    }
   },
   "source": [
    "### Atributs de DataFrame\n",
    "\n",
    "A més de l'atribut `index`, DataFrame té l'atribut `columns`:"
   ]
  },
  {
   "cell_type": "code",
   "execution_count": 28,
   "metadata": {},
   "outputs": [
    {
     "data": {
      "text/plain": [
       "RangeIndex(start=0, stop=4, step=1)"
      ]
     },
     "execution_count": 28,
     "metadata": {},
     "output_type": "execute_result"
    }
   ],
   "source": [
    "provincies.index"
   ]
  },
  {
   "cell_type": "code",
   "execution_count": 29,
   "metadata": {},
   "outputs": [
    {
     "data": {
      "text/plain": [
       "Index([u'habitants', u'muntanya mes alta', u'provincia', u'superficie'], dtype='object')"
      ]
     },
     "execution_count": 29,
     "metadata": {},
     "output_type": "execute_result"
    }
   ],
   "source": [
    "provincies.columns"
   ]
  },
  {
   "cell_type": "markdown",
   "metadata": {
    "slideshow": {
     "slide_type": "subslide"
    }
   },
   "source": [
    "Per veure els tipus de dades de les diferents columnes:"
   ]
  },
  {
   "cell_type": "code",
   "execution_count": 30,
   "metadata": {},
   "outputs": [
    {
     "data": {
      "text/plain": [
       "habitants            float64\n",
       "muntanya mes alta     object\n",
       "provincia             object\n",
       "superficie             int64\n",
       "dtype: object"
      ]
     },
     "execution_count": 30,
     "metadata": {},
     "output_type": "execute_result"
    }
   ],
   "source": [
    "provincies.dtypes"
   ]
  },
  {
   "cell_type": "markdown",
   "metadata": {
    "slideshow": {
     "slide_type": "subslide"
    }
   },
   "source": [
    "Un resum d'aquesta informació es pot veure amb el mètode `info()`:"
   ]
  },
  {
   "cell_type": "code",
   "execution_count": 31,
   "metadata": {},
   "outputs": [
    {
     "name": "stdout",
     "output_type": "stream",
     "text": [
      "<class 'pandas.core.frame.DataFrame'>\n",
      "RangeIndex: 4 entries, 0 to 3\n",
      "Data columns (total 4 columns):\n",
      "habitants            4 non-null float64\n",
      "muntanya mes alta    4 non-null object\n",
      "provincia            4 non-null object\n",
      "superficie           4 non-null int64\n",
      "dtypes: float64(1), int64(1), object(2)\n",
      "memory usage: 200.0+ bytes\n"
     ]
    }
   ],
   "source": [
    "provincies.info()"
   ]
  },
  {
   "cell_type": "markdown",
   "metadata": {
    "slideshow": {
     "slide_type": "subslide"
    }
   },
   "source": [
    "El DataFrame també té l'atribut `values`, pero atenció: quan tens dades heterogènies, els valors seràn \"upcasted\":"
   ]
  },
  {
   "cell_type": "code",
   "execution_count": 32,
   "metadata": {},
   "outputs": [
    {
     "data": {
      "text/plain": [
       "array([[5.51843, 'Costa Cabriolera', 'Barcelona', 7733],\n",
       "       [0.7413, 'Puig Pedros', 'Girona', 5905],\n",
       "       [0.427208, \"Pica d'estats\", 'Lleida', 12172],\n",
       "       [0.790185, 'Caro', 'Tarragona', 6302]], dtype=object)"
      ]
     },
     "execution_count": 32,
     "metadata": {},
     "output_type": "execute_result"
    }
   ],
   "source": [
    "provincies.values"
   ]
  },
  {
   "cell_type": "markdown",
   "metadata": {
    "slideshow": {
     "slide_type": "subslide"
    }
   },
   "source": [
    "Si no t'agrada l'index, podem resetejarlo a qualsevol de les nostres columnes:"
   ]
  },
  {
   "cell_type": "code",
   "execution_count": 33,
   "metadata": {},
   "outputs": [
    {
     "data": {
      "text/html": [
       "<div>\n",
       "<table border=\"1\" class=\"dataframe\">\n",
       "  <thead>\n",
       "    <tr style=\"text-align: right;\">\n",
       "      <th></th>\n",
       "      <th>habitants</th>\n",
       "      <th>muntanya mes alta</th>\n",
       "      <th>superficie</th>\n",
       "    </tr>\n",
       "    <tr>\n",
       "      <th>provincia</th>\n",
       "      <th></th>\n",
       "      <th></th>\n",
       "      <th></th>\n",
       "    </tr>\n",
       "  </thead>\n",
       "  <tbody>\n",
       "    <tr>\n",
       "      <th>Barcelona</th>\n",
       "      <td>5.518430</td>\n",
       "      <td>Costa Cabriolera</td>\n",
       "      <td>7733</td>\n",
       "    </tr>\n",
       "    <tr>\n",
       "      <th>Girona</th>\n",
       "      <td>0.741300</td>\n",
       "      <td>Puig Pedros</td>\n",
       "      <td>5905</td>\n",
       "    </tr>\n",
       "    <tr>\n",
       "      <th>Lleida</th>\n",
       "      <td>0.427208</td>\n",
       "      <td>Pica d'estats</td>\n",
       "      <td>12172</td>\n",
       "    </tr>\n",
       "    <tr>\n",
       "      <th>Tarragona</th>\n",
       "      <td>0.790185</td>\n",
       "      <td>Caro</td>\n",
       "      <td>6302</td>\n",
       "    </tr>\n",
       "  </tbody>\n",
       "</table>\n",
       "</div>"
      ],
      "text/plain": [
       "           habitants muntanya mes alta  superficie\n",
       "provincia                                         \n",
       "Barcelona   5.518430  Costa Cabriolera        7733\n",
       "Girona      0.741300       Puig Pedros        5905\n",
       "Lleida      0.427208     Pica d'estats       12172\n",
       "Tarragona   0.790185              Caro        6302"
      ]
     },
     "execution_count": 33,
     "metadata": {},
     "output_type": "execute_result"
    }
   ],
   "source": [
    "provincies = provincies.set_index('provincia')\n",
    "provincies"
   ]
  },
  {
   "cell_type": "markdown",
   "metadata": {
    "slideshow": {
     "slide_type": "subslide"
    }
   },
   "source": [
    "Podem accedir a l'objecte Series que representa cada columna:"
   ]
  },
  {
   "cell_type": "code",
   "execution_count": 34,
   "metadata": {},
   "outputs": [
    {
     "data": {
      "text/plain": [
       "provincia\n",
       "Barcelona     7733\n",
       "Girona        5905\n",
       "Lleida       12172\n",
       "Tarragona     6302\n",
       "Name: superficie, dtype: int64"
      ]
     },
     "execution_count": 34,
     "metadata": {},
     "output_type": "execute_result"
    }
   ],
   "source": [
    "provincies['superficie']"
   ]
  },
  {
   "cell_type": "markdown",
   "metadata": {
    "slideshow": {
     "slide_type": "subslide"
    }
   },
   "source": [
    "A mesura que experimentes amb DataFrames, aviat et donaràs compte que moltes de les operacions que funciones amb arrays NumPy també funcionen amb DataFrames:\n",
    "\n",
    "Calculem la densitat de població de cada província (hab/km²):"
   ]
  },
  {
   "cell_type": "code",
   "execution_count": 35,
   "metadata": {},
   "outputs": [
    {
     "data": {
      "text/plain": [
       "provincia\n",
       "Barcelona    713.62\n",
       "Girona       125.54\n",
       "Lleida        35.10\n",
       "Tarragona    125.39\n",
       "dtype: float64"
      ]
     },
     "execution_count": 35,
     "metadata": {},
     "output_type": "execute_result"
    }
   ],
   "source": [
    "(provincies['habitants']*1000000 / provincies['superficie']).round(2)"
   ]
  },
  {
   "cell_type": "markdown",
   "metadata": {
    "slideshow": {
     "slide_type": "subslide"
    }
   },
   "source": [
    "Afegir una columna nova al dataframe és molt simple:"
   ]
  },
  {
   "cell_type": "code",
   "execution_count": 36,
   "metadata": {},
   "outputs": [
    {
     "data": {
      "text/html": [
       "<div>\n",
       "<table border=\"1\" class=\"dataframe\">\n",
       "  <thead>\n",
       "    <tr style=\"text-align: right;\">\n",
       "      <th></th>\n",
       "      <th>habitants</th>\n",
       "      <th>muntanya mes alta</th>\n",
       "      <th>superficie</th>\n",
       "      <th>densitat</th>\n",
       "    </tr>\n",
       "    <tr>\n",
       "      <th>provincia</th>\n",
       "      <th></th>\n",
       "      <th></th>\n",
       "      <th></th>\n",
       "      <th></th>\n",
       "    </tr>\n",
       "  </thead>\n",
       "  <tbody>\n",
       "    <tr>\n",
       "      <th>Barcelona</th>\n",
       "      <td>5.518430</td>\n",
       "      <td>Costa Cabriolera</td>\n",
       "      <td>7733</td>\n",
       "      <td>713.620846</td>\n",
       "    </tr>\n",
       "    <tr>\n",
       "      <th>Girona</th>\n",
       "      <td>0.741300</td>\n",
       "      <td>Puig Pedros</td>\n",
       "      <td>5905</td>\n",
       "      <td>125.537680</td>\n",
       "    </tr>\n",
       "    <tr>\n",
       "      <th>Lleida</th>\n",
       "      <td>0.427208</td>\n",
       "      <td>Pica d'estats</td>\n",
       "      <td>12172</td>\n",
       "      <td>35.097601</td>\n",
       "    </tr>\n",
       "    <tr>\n",
       "      <th>Tarragona</th>\n",
       "      <td>0.790185</td>\n",
       "      <td>Caro</td>\n",
       "      <td>6302</td>\n",
       "      <td>125.386385</td>\n",
       "    </tr>\n",
       "  </tbody>\n",
       "</table>\n",
       "</div>"
      ],
      "text/plain": [
       "           habitants muntanya mes alta  superficie    densitat\n",
       "provincia                                                     \n",
       "Barcelona   5.518430  Costa Cabriolera        7733  713.620846\n",
       "Girona      0.741300       Puig Pedros        5905  125.537680\n",
       "Lleida      0.427208     Pica d'estats       12172   35.097601\n",
       "Tarragona   0.790185              Caro        6302  125.386385"
      ]
     },
     "execution_count": 36,
     "metadata": {},
     "output_type": "execute_result"
    }
   ],
   "source": [
    "provincies['densitat'] = provincies['habitants']*1000000 / provincies['superficie']\n",
    "provincies"
   ]
  },
  {
   "cell_type": "markdown",
   "metadata": {
    "slideshow": {
     "slide_type": "subslide"
    }
   },
   "source": [
    "Podem utilitzar masking per seleccionar dades:"
   ]
  },
  {
   "cell_type": "code",
   "execution_count": 37,
   "metadata": {},
   "outputs": [
    {
     "data": {
      "text/html": [
       "<div>\n",
       "<table border=\"1\" class=\"dataframe\">\n",
       "  <thead>\n",
       "    <tr style=\"text-align: right;\">\n",
       "      <th></th>\n",
       "      <th>habitants</th>\n",
       "      <th>muntanya mes alta</th>\n",
       "      <th>superficie</th>\n",
       "      <th>densitat</th>\n",
       "    </tr>\n",
       "    <tr>\n",
       "      <th>provincia</th>\n",
       "      <th></th>\n",
       "      <th></th>\n",
       "      <th></th>\n",
       "      <th></th>\n",
       "    </tr>\n",
       "  </thead>\n",
       "  <tbody>\n",
       "    <tr>\n",
       "      <th>Barcelona</th>\n",
       "      <td>5.518430</td>\n",
       "      <td>Costa Cabriolera</td>\n",
       "      <td>7733</td>\n",
       "      <td>713.620846</td>\n",
       "    </tr>\n",
       "    <tr>\n",
       "      <th>Girona</th>\n",
       "      <td>0.741300</td>\n",
       "      <td>Puig Pedros</td>\n",
       "      <td>5905</td>\n",
       "      <td>125.537680</td>\n",
       "    </tr>\n",
       "    <tr>\n",
       "      <th>Tarragona</th>\n",
       "      <td>0.790185</td>\n",
       "      <td>Caro</td>\n",
       "      <td>6302</td>\n",
       "      <td>125.386385</td>\n",
       "    </tr>\n",
       "  </tbody>\n",
       "</table>\n",
       "</div>"
      ],
      "text/plain": [
       "           habitants muntanya mes alta  superficie    densitat\n",
       "provincia                                                     \n",
       "Barcelona   5.518430  Costa Cabriolera        7733  713.620846\n",
       "Girona      0.741300       Puig Pedros        5905  125.537680\n",
       "Tarragona   0.790185              Caro        6302  125.386385"
      ]
     },
     "execution_count": 37,
     "metadata": {},
     "output_type": "execute_result"
    }
   ],
   "source": [
    "provincies[provincies['densitat'] > 100]"
   ]
  },
  {
   "cell_type": "markdown",
   "metadata": {
    "slideshow": {
     "slide_type": "subslide"
    }
   },
   "source": [
    "Podem ordenar el dataframe per un camp:"
   ]
  },
  {
   "cell_type": "code",
   "execution_count": 38,
   "metadata": {},
   "outputs": [
    {
     "data": {
      "text/html": [
       "<div>\n",
       "<table border=\"1\" class=\"dataframe\">\n",
       "  <thead>\n",
       "    <tr style=\"text-align: right;\">\n",
       "      <th></th>\n",
       "      <th>habitants</th>\n",
       "      <th>muntanya mes alta</th>\n",
       "      <th>superficie</th>\n",
       "      <th>densitat</th>\n",
       "    </tr>\n",
       "    <tr>\n",
       "      <th>provincia</th>\n",
       "      <th></th>\n",
       "      <th></th>\n",
       "      <th></th>\n",
       "      <th></th>\n",
       "    </tr>\n",
       "  </thead>\n",
       "  <tbody>\n",
       "    <tr>\n",
       "      <th>Lleida</th>\n",
       "      <td>0.427208</td>\n",
       "      <td>Pica d'estats</td>\n",
       "      <td>12172</td>\n",
       "      <td>35.097601</td>\n",
       "    </tr>\n",
       "    <tr>\n",
       "      <th>Tarragona</th>\n",
       "      <td>0.790185</td>\n",
       "      <td>Caro</td>\n",
       "      <td>6302</td>\n",
       "      <td>125.386385</td>\n",
       "    </tr>\n",
       "    <tr>\n",
       "      <th>Girona</th>\n",
       "      <td>0.741300</td>\n",
       "      <td>Puig Pedros</td>\n",
       "      <td>5905</td>\n",
       "      <td>125.537680</td>\n",
       "    </tr>\n",
       "    <tr>\n",
       "      <th>Barcelona</th>\n",
       "      <td>5.518430</td>\n",
       "      <td>Costa Cabriolera</td>\n",
       "      <td>7733</td>\n",
       "      <td>713.620846</td>\n",
       "    </tr>\n",
       "  </tbody>\n",
       "</table>\n",
       "</div>"
      ],
      "text/plain": [
       "           habitants muntanya mes alta  superficie    densitat\n",
       "provincia                                                     \n",
       "Lleida      0.427208     Pica d'estats       12172   35.097601\n",
       "Tarragona   0.790185              Caro        6302  125.386385\n",
       "Girona      0.741300       Puig Pedros        5905  125.537680\n",
       "Barcelona   5.518430  Costa Cabriolera        7733  713.620846"
      ]
     },
     "execution_count": 38,
     "metadata": {},
     "output_type": "execute_result"
    }
   ],
   "source": [
    "provincies.sort_values(by='densitat', ascending=True)"
   ]
  },
  {
   "cell_type": "markdown",
   "metadata": {
    "slideshow": {
     "slide_type": "subslide"
    }
   },
   "source": [
    "Un mètode molt pràctic es ``describe``, que calcula estadístiques de cada columna:"
   ]
  },
  {
   "cell_type": "code",
   "execution_count": 39,
   "metadata": {},
   "outputs": [
    {
     "data": {
      "text/html": [
       "<div>\n",
       "<table border=\"1\" class=\"dataframe\">\n",
       "  <thead>\n",
       "    <tr style=\"text-align: right;\">\n",
       "      <th></th>\n",
       "      <th>habitants</th>\n",
       "      <th>superficie</th>\n",
       "      <th>densitat</th>\n",
       "    </tr>\n",
       "  </thead>\n",
       "  <tbody>\n",
       "    <tr>\n",
       "      <th>count</th>\n",
       "      <td>4.000000</td>\n",
       "      <td>4.000000</td>\n",
       "      <td>4.000000</td>\n",
       "    </tr>\n",
       "    <tr>\n",
       "      <th>mean</th>\n",
       "      <td>1.869281</td>\n",
       "      <td>8028.000000</td>\n",
       "      <td>249.910628</td>\n",
       "    </tr>\n",
       "    <tr>\n",
       "      <th>std</th>\n",
       "      <td>2.438077</td>\n",
       "      <td>2872.047237</td>\n",
       "      <td>312.061276</td>\n",
       "    </tr>\n",
       "    <tr>\n",
       "      <th>min</th>\n",
       "      <td>0.427208</td>\n",
       "      <td>5905.000000</td>\n",
       "      <td>35.097601</td>\n",
       "    </tr>\n",
       "    <tr>\n",
       "      <th>25%</th>\n",
       "      <td>0.662777</td>\n",
       "      <td>6202.750000</td>\n",
       "      <td>102.814189</td>\n",
       "    </tr>\n",
       "    <tr>\n",
       "      <th>50%</th>\n",
       "      <td>0.765742</td>\n",
       "      <td>7017.500000</td>\n",
       "      <td>125.462033</td>\n",
       "    </tr>\n",
       "    <tr>\n",
       "      <th>75%</th>\n",
       "      <td>1.972246</td>\n",
       "      <td>8842.750000</td>\n",
       "      <td>272.558471</td>\n",
       "    </tr>\n",
       "    <tr>\n",
       "      <th>max</th>\n",
       "      <td>5.518430</td>\n",
       "      <td>12172.000000</td>\n",
       "      <td>713.620846</td>\n",
       "    </tr>\n",
       "  </tbody>\n",
       "</table>\n",
       "</div>"
      ],
      "text/plain": [
       "       habitants    superficie    densitat\n",
       "count   4.000000      4.000000    4.000000\n",
       "mean    1.869281   8028.000000  249.910628\n",
       "std     2.438077   2872.047237  312.061276\n",
       "min     0.427208   5905.000000   35.097601\n",
       "25%     0.662777   6202.750000  102.814189\n",
       "50%     0.765742   7017.500000  125.462033\n",
       "75%     1.972246   8842.750000  272.558471\n",
       "max     5.518430  12172.000000  713.620846"
      ]
     },
     "execution_count": 39,
     "metadata": {},
     "output_type": "execute_result"
    }
   ],
   "source": [
    "provincies.describe()"
   ]
  },
  {
   "cell_type": "markdown",
   "metadata": {
    "slideshow": {
     "slide_type": "subslide"
    }
   },
   "source": [
    "Amb el mètode `plot` podem visualitzar fàcilment les dades de diferent maneres:"
   ]
  },
  {
   "cell_type": "code",
   "execution_count": 76,
   "metadata": {},
   "outputs": [
    {
     "data": {
      "text/plain": [
       "<matplotlib.axes._subplots.AxesSubplot at 0x10a8ffc10>"
      ]
     },
     "execution_count": 76,
     "metadata": {},
     "output_type": "execute_result"
    },
    {
     "data": {
      "image/png": "[encoded data removed]",
      "text/plain": [
       "<matplotlib.figure.Figure at 0x115a7e650>"
      ]
     },
     "metadata": {},
     "output_type": "display_data"
    }
   ],
   "source": [
    "provincies.plot()"
   ]
  },
  {
   "cell_type": "markdown",
   "metadata": {},
   "source": [
    "Per aquest conjunt de dades no diu gaire."
   ]
  },
  {
   "cell_type": "code",
   "execution_count": 77,
   "metadata": {
    "slideshow": {
     "slide_type": "subslide"
    }
   },
   "outputs": [
    {
     "data": {
      "text/plain": [
       "<matplotlib.axes._subplots.AxesSubplot at 0x118ff5550>"
      ]
     },
     "execution_count": 77,
     "metadata": {},
     "output_type": "execute_result"
    },
    {
     "data": {
      "image/png": "[encoded data removed]",
      "text/plain": [
       "<matplotlib.figure.Figure at 0x119013c10>"
      ]
     },
     "metadata": {},
     "output_type": "display_data"
    }
   ],
   "source": [
    "provincies['habitants'].plot(kind='bar')"
   ]
  },
  {
   "cell_type": "code",
   "execution_count": 78,
   "metadata": {
    "slideshow": {
     "slide_type": "subslide"
    }
   },
   "outputs": [
    {
     "data": {
      "text/plain": [
       "<matplotlib.axes._subplots.AxesSubplot at 0x119059610>"
      ]
     },
     "execution_count": 78,
     "metadata": {},
     "output_type": "execute_result"
    },
    {
     "data": {
      "image/png": "[encoded data removed]",
      "text/plain": [
       "<matplotlib.figure.Figure at 0x119321fd0>"
      ]
     },
     "metadata": {},
     "output_type": "display_data"
    }
   ],
   "source": [
    "provincies.plot(kind='scatter', x='habitants', y='superficie')"
   ]
  },
  {
   "cell_type": "markdown",
   "metadata": {},
   "source": [
    "Els tipus de gràfics disponibles són: ‘line’ (per defecte), ‘bar’, ‘barh’, ‘hist’, ‘box’ , ‘kde’, ‘area’, ‘pie’, ‘scatter’, ‘hexbin’.\n",
    "\n"
   ]
  },
  {
   "cell_type": "markdown",
   "metadata": {
    "slideshow": {
     "slide_type": "subslide"
    }
   },
   "source": [
    "## Algunes notes sobre seleccionar dades\n",
    "\n",
    "Una de les funcionalitats bàsiques de pandas és l'etiquetat de files i columnes, però això fa una mica més complexe l'indexat en comparació a numpy. Ara hem de diferenciar entre:\n",
    "\n",
    "- selecció per etiqueta\n",
    "- selecció per posició"
   ]
  },
  {
   "cell_type": "markdown",
   "metadata": {
    "slideshow": {
     "slide_type": "subslide"
    }
   },
   "source": [
    "Per un DataFrame, la indexació bàsica selecciona les columnes:\n",
    "\n",
    "Seleccionar una columna:"
   ]
  },
  {
   "cell_type": "code",
   "execution_count": 43,
   "metadata": {},
   "outputs": [
    {
     "data": {
      "text/plain": [
       "provincia\n",
       "Barcelona     7733\n",
       "Girona        5905\n",
       "Lleida       12172\n",
       "Tarragona     6302\n",
       "Name: superficie, dtype: int64"
      ]
     },
     "execution_count": 43,
     "metadata": {},
     "output_type": "execute_result"
    }
   ],
   "source": [
    "provincies['superficie']"
   ]
  },
  {
   "cell_type": "markdown",
   "metadata": {
    "slideshow": {
     "slide_type": "subslide"
    }
   },
   "source": [
    "o múltiples columnes:"
   ]
  },
  {
   "cell_type": "code",
   "execution_count": 44,
   "metadata": {},
   "outputs": [
    {
     "data": {
      "text/html": [
       "<div>\n",
       "<table border=\"1\" class=\"dataframe\">\n",
       "  <thead>\n",
       "    <tr style=\"text-align: right;\">\n",
       "      <th></th>\n",
       "      <th>superficie</th>\n",
       "      <th>densitat</th>\n",
       "    </tr>\n",
       "    <tr>\n",
       "      <th>provincia</th>\n",
       "      <th></th>\n",
       "      <th></th>\n",
       "    </tr>\n",
       "  </thead>\n",
       "  <tbody>\n",
       "    <tr>\n",
       "      <th>Barcelona</th>\n",
       "      <td>7733</td>\n",
       "      <td>713.620846</td>\n",
       "    </tr>\n",
       "    <tr>\n",
       "      <th>Girona</th>\n",
       "      <td>5905</td>\n",
       "      <td>125.537680</td>\n",
       "    </tr>\n",
       "    <tr>\n",
       "      <th>Lleida</th>\n",
       "      <td>12172</td>\n",
       "      <td>35.097601</td>\n",
       "    </tr>\n",
       "    <tr>\n",
       "      <th>Tarragona</th>\n",
       "      <td>6302</td>\n",
       "      <td>125.386385</td>\n",
       "    </tr>\n",
       "  </tbody>\n",
       "</table>\n",
       "</div>"
      ],
      "text/plain": [
       "           superficie    densitat\n",
       "provincia                        \n",
       "Barcelona        7733  713.620846\n",
       "Girona           5905  125.537680\n",
       "Lleida          12172   35.097601\n",
       "Tarragona        6302  125.386385"
      ]
     },
     "execution_count": 44,
     "metadata": {},
     "output_type": "execute_result"
    }
   ],
   "source": [
    "provincies[['superficie', 'densitat']]"
   ]
  },
  {
   "cell_type": "markdown",
   "metadata": {
    "slideshow": {
     "slide_type": "subslide"
    }
   },
   "source": [
    "L'slicing accedeix a les files:"
   ]
  },
  {
   "cell_type": "code",
   "execution_count": 45,
   "metadata": {},
   "outputs": [
    {
     "data": {
      "text/html": [
       "<div>\n",
       "<table border=\"1\" class=\"dataframe\">\n",
       "  <thead>\n",
       "    <tr style=\"text-align: right;\">\n",
       "      <th></th>\n",
       "      <th>habitants</th>\n",
       "      <th>muntanya mes alta</th>\n",
       "      <th>superficie</th>\n",
       "      <th>densitat</th>\n",
       "    </tr>\n",
       "    <tr>\n",
       "      <th>provincia</th>\n",
       "      <th></th>\n",
       "      <th></th>\n",
       "      <th></th>\n",
       "      <th></th>\n",
       "    </tr>\n",
       "  </thead>\n",
       "  <tbody>\n",
       "    <tr>\n",
       "      <th>Girona</th>\n",
       "      <td>0.741300</td>\n",
       "      <td>Puig Pedros</td>\n",
       "      <td>5905</td>\n",
       "      <td>125.537680</td>\n",
       "    </tr>\n",
       "    <tr>\n",
       "      <th>Lleida</th>\n",
       "      <td>0.427208</td>\n",
       "      <td>Pica d'estats</td>\n",
       "      <td>12172</td>\n",
       "      <td>35.097601</td>\n",
       "    </tr>\n",
       "    <tr>\n",
       "      <th>Tarragona</th>\n",
       "      <td>0.790185</td>\n",
       "      <td>Caro</td>\n",
       "      <td>6302</td>\n",
       "      <td>125.386385</td>\n",
       "    </tr>\n",
       "  </tbody>\n",
       "</table>\n",
       "</div>"
      ],
      "text/plain": [
       "           habitants muntanya mes alta  superficie    densitat\n",
       "provincia                                                     \n",
       "Girona      0.741300       Puig Pedros        5905  125.537680\n",
       "Lleida      0.427208     Pica d'estats       12172   35.097601\n",
       "Tarragona   0.790185              Caro        6302  125.386385"
      ]
     },
     "execution_count": 45,
     "metadata": {},
     "output_type": "execute_result"
    }
   ],
   "source": [
    "provincies['Girona':'Tarragona']"
   ]
  },
  {
   "cell_type": "markdown",
   "metadata": {
    "slideshow": {
     "slide_type": "subslide"
    }
   },
   "source": [
    "Per un indexat més avançat, tenim atributs extra:\n",
    "    \n",
    "* `loc`: selecció per etiqueta\n",
    "* `iloc`: selecció per posició"
   ]
  },
  {
   "cell_type": "code",
   "execution_count": 46,
   "metadata": {},
   "outputs": [
    {
     "data": {
      "text/plain": [
       "5905"
      ]
     },
     "execution_count": 46,
     "metadata": {},
     "output_type": "execute_result"
    }
   ],
   "source": [
    "provincies.loc['Girona', 'superficie']"
   ]
  },
  {
   "cell_type": "code",
   "execution_count": 47,
   "metadata": {},
   "outputs": [
    {
     "data": {
      "text/html": [
       "<div>\n",
       "<table border=\"1\" class=\"dataframe\">\n",
       "  <thead>\n",
       "    <tr style=\"text-align: right;\">\n",
       "      <th></th>\n",
       "      <th>habitants</th>\n",
       "      <th>muntanya mes alta</th>\n",
       "      <th>superficie</th>\n",
       "      <th>densitat</th>\n",
       "    </tr>\n",
       "    <tr>\n",
       "      <th>provincia</th>\n",
       "      <th></th>\n",
       "      <th></th>\n",
       "      <th></th>\n",
       "      <th></th>\n",
       "    </tr>\n",
       "  </thead>\n",
       "  <tbody>\n",
       "    <tr>\n",
       "      <th>Girona</th>\n",
       "      <td>0.741300</td>\n",
       "      <td>Puig Pedros</td>\n",
       "      <td>5905</td>\n",
       "      <td>125.537680</td>\n",
       "    </tr>\n",
       "    <tr>\n",
       "      <th>Lleida</th>\n",
       "      <td>0.427208</td>\n",
       "      <td>Pica d'estats</td>\n",
       "      <td>12172</td>\n",
       "      <td>35.097601</td>\n",
       "    </tr>\n",
       "    <tr>\n",
       "      <th>Tarragona</th>\n",
       "      <td>0.790185</td>\n",
       "      <td>Caro</td>\n",
       "      <td>6302</td>\n",
       "      <td>125.386385</td>\n",
       "    </tr>\n",
       "  </tbody>\n",
       "</table>\n",
       "</div>"
      ],
      "text/plain": [
       "           habitants muntanya mes alta  superficie    densitat\n",
       "provincia                                                     \n",
       "Girona      0.741300       Puig Pedros        5905  125.537680\n",
       "Lleida      0.427208     Pica d'estats       12172   35.097601\n",
       "Tarragona   0.790185              Caro        6302  125.386385"
      ]
     },
     "execution_count": 47,
     "metadata": {},
     "output_type": "execute_result"
    }
   ],
   "source": [
    "provincies.loc['Girona':'Tarragona', :]"
   ]
  },
  {
   "cell_type": "code",
   "execution_count": 48,
   "metadata": {
    "slideshow": {
     "slide_type": "subslide"
    }
   },
   "outputs": [
    {
     "data": {
      "text/html": [
       "<div>\n",
       "<table border=\"1\" class=\"dataframe\">\n",
       "  <thead>\n",
       "    <tr style=\"text-align: right;\">\n",
       "      <th></th>\n",
       "      <th>muntanya mes alta</th>\n",
       "      <th>habitants</th>\n",
       "    </tr>\n",
       "    <tr>\n",
       "      <th>provincia</th>\n",
       "      <th></th>\n",
       "      <th></th>\n",
       "    </tr>\n",
       "  </thead>\n",
       "  <tbody>\n",
       "    <tr>\n",
       "      <th>Barcelona</th>\n",
       "      <td>Costa Cabriolera</td>\n",
       "      <td>5.51843</td>\n",
       "    </tr>\n",
       "  </tbody>\n",
       "</table>\n",
       "</div>"
      ],
      "text/plain": [
       "          muntanya mes alta  habitants\n",
       "provincia                             \n",
       "Barcelona  Costa Cabriolera    5.51843"
      ]
     },
     "execution_count": 48,
     "metadata": {},
     "output_type": "execute_result"
    }
   ],
   "source": [
    "provincies.loc[provincies['densitat']>300, ['muntanya mes alta', 'habitants']]"
   ]
  },
  {
   "cell_type": "markdown",
   "metadata": {
    "slideshow": {
     "slide_type": "subslide"
    }
   },
   "source": [
    "Seleccionar per posició fent servir `iloc` funciona de forma molt similar als arrays numpy:"
   ]
  },
  {
   "cell_type": "code",
   "execution_count": 49,
   "metadata": {},
   "outputs": [
    {
     "data": {
      "text/html": [
       "<div>\n",
       "<table border=\"1\" class=\"dataframe\">\n",
       "  <thead>\n",
       "    <tr style=\"text-align: right;\">\n",
       "      <th></th>\n",
       "      <th>muntanya mes alta</th>\n",
       "      <th>superficie</th>\n",
       "    </tr>\n",
       "    <tr>\n",
       "      <th>provincia</th>\n",
       "      <th></th>\n",
       "      <th></th>\n",
       "    </tr>\n",
       "  </thead>\n",
       "  <tbody>\n",
       "    <tr>\n",
       "      <th>Barcelona</th>\n",
       "      <td>Costa Cabriolera</td>\n",
       "      <td>7733</td>\n",
       "    </tr>\n",
       "    <tr>\n",
       "      <th>Girona</th>\n",
       "      <td>Puig Pedros</td>\n",
       "      <td>5905</td>\n",
       "    </tr>\n",
       "  </tbody>\n",
       "</table>\n",
       "</div>"
      ],
      "text/plain": [
       "          muntanya mes alta  superficie\n",
       "provincia                              \n",
       "Barcelona  Costa Cabriolera        7733\n",
       "Girona          Puig Pedros        5905"
      ]
     },
     "execution_count": 49,
     "metadata": {},
     "output_type": "execute_result"
    }
   ],
   "source": [
    "provincies.iloc[0:2,1:3]"
   ]
  },
  {
   "cell_type": "markdown",
   "metadata": {
    "slideshow": {
     "slide_type": "subslide"
    }
   },
   "source": [
    "Els diferents mètodes de indexació s'utilitzen també per assignar dades:"
   ]
  },
  {
   "cell_type": "code",
   "execution_count": 50,
   "metadata": {
    "collapsed": true
   },
   "outputs": [],
   "source": [
    "provincies.loc['Girona':'Tarragona', 'habitants'] = 10"
   ]
  },
  {
   "cell_type": "code",
   "execution_count": 51,
   "metadata": {},
   "outputs": [
    {
     "data": {
      "text/html": [
       "<div>\n",
       "<table border=\"1\" class=\"dataframe\">\n",
       "  <thead>\n",
       "    <tr style=\"text-align: right;\">\n",
       "      <th></th>\n",
       "      <th>habitants</th>\n",
       "      <th>muntanya mes alta</th>\n",
       "      <th>superficie</th>\n",
       "      <th>densitat</th>\n",
       "    </tr>\n",
       "    <tr>\n",
       "      <th>provincia</th>\n",
       "      <th></th>\n",
       "      <th></th>\n",
       "      <th></th>\n",
       "      <th></th>\n",
       "    </tr>\n",
       "  </thead>\n",
       "  <tbody>\n",
       "    <tr>\n",
       "      <th>Barcelona</th>\n",
       "      <td>5.51843</td>\n",
       "      <td>Costa Cabriolera</td>\n",
       "      <td>7733</td>\n",
       "      <td>713.620846</td>\n",
       "    </tr>\n",
       "    <tr>\n",
       "      <th>Girona</th>\n",
       "      <td>10.00000</td>\n",
       "      <td>Puig Pedros</td>\n",
       "      <td>5905</td>\n",
       "      <td>125.537680</td>\n",
       "    </tr>\n",
       "    <tr>\n",
       "      <th>Lleida</th>\n",
       "      <td>10.00000</td>\n",
       "      <td>Pica d'estats</td>\n",
       "      <td>12172</td>\n",
       "      <td>35.097601</td>\n",
       "    </tr>\n",
       "    <tr>\n",
       "      <th>Tarragona</th>\n",
       "      <td>10.00000</td>\n",
       "      <td>Caro</td>\n",
       "      <td>6302</td>\n",
       "      <td>125.386385</td>\n",
       "    </tr>\n",
       "  </tbody>\n",
       "</table>\n",
       "</div>"
      ],
      "text/plain": [
       "           habitants muntanya mes alta  superficie    densitat\n",
       "provincia                                                     \n",
       "Barcelona    5.51843  Costa Cabriolera        7733  713.620846\n",
       "Girona      10.00000       Puig Pedros        5905  125.537680\n",
       "Lleida      10.00000     Pica d'estats       12172   35.097601\n",
       "Tarragona   10.00000              Caro        6302  125.386385"
      ]
     },
     "execution_count": 51,
     "metadata": {},
     "output_type": "execute_result"
    }
   ],
   "source": [
    "provincies"
   ]
  },
  {
   "cell_type": "markdown",
   "metadata": {},
   "source": [
    "Hi ha moltíssimes més operacions molt interessants que es poden fer amb els objectes Series i DataFrame, però en comptes de continuar amb aquestes dades de joguina, continuarem amb un exemple real, que ens serviràn per ilustrar alguns conceptes més avançats."
   ]
  },
  {
   "cell_type": "markdown",
   "metadata": {
    "slideshow": {
     "slide_type": "slide"
    }
   },
   "source": [
    "# Cas real: Cens de la ciutat de Girona de 2015"
   ]
  },
  {
   "cell_type": "markdown",
   "metadata": {
    "slideshow": {
     "slide_type": "slide"
    }
   },
   "source": [
    "# Importar i netejar les dades"
   ]
  },
  {
   "cell_type": "markdown",
   "metadata": {
    "slideshow": {
     "slide_type": "subslide"
    }
   },
   "source": [
    "## Importar/Exportar dades amb pandas\n",
    "\n",
    "pandas suporta de forma nativa un grapat de formats:\n",
    "\n",
    "* CSV, text\n",
    "* SQL database\n",
    "* Excel\n",
    "* HDF5\n",
    "* json\n",
    "* html\n",
    "* pickle\n",
    "* ..."
   ]
  },
  {
   "cell_type": "markdown",
   "metadata": {
    "slideshow": {
     "slide_type": "subslide"
    }
   },
   "source": [
    "## Per al nostre cas real"
   ]
  },
  {
   "cell_type": "markdown",
   "metadata": {
    "slideshow": {
     "slide_type": "-"
    }
   },
   "source": [
    "He descarregat un CSV amb el padró de 2015 de la ciutat de girona, i l'he inclòs al repo"
   ]
  },
  {
   "cell_type": "code",
   "execution_count": 80,
   "metadata": {
    "collapsed": true
   },
   "outputs": [],
   "source": [
    "data_folder = os.path.join(os.getcwd(), 'data')\n",
    "data = pd.read_csv(\n",
    "    os.path.join(data_folder, '2015-padro.csv'), \n",
    "    sep=';', \n",
    "    parse_dates=[\"data_naixement\", \"data_alta\"])"
   ]
  },
  {
   "cell_type": "code",
   "execution_count": 81,
   "metadata": {},
   "outputs": [
    {
     "name": "stdout",
     "output_type": "stream",
     "text": [
      "<class 'pandas.core.frame.DataFrame'>\n",
      "RangeIndex: 99374 entries, 0 to 99373\n",
      "Data columns (total 17 columns):\n",
      "districte                     99374 non-null int64\n",
      "seccio                        99374 non-null int64\n",
      "sexe                          99374 non-null object\n",
      "codi_nivell_estudis           99374 non-null int64\n",
      "nivell_estudis                99374 non-null object\n",
      "data_naixement                99373 non-null datetime64[ns]\n",
      "codi_municipi_naixement       99374 non-null object\n",
      "municipi_pais_naixement       99374 non-null object\n",
      "codi_provincia_naixement      99374 non-null int64\n",
      "provincia_naixement           99374 non-null object\n",
      "codi_nacionalitat             99374 non-null object\n",
      "nacionalitat                  99374 non-null object\n",
      "data_alta                     99374 non-null datetime64[ns]\n",
      "codi_municipi_procedencia     96026 non-null object\n",
      "municipi_pais_procedencia     96026 non-null object\n",
      "codi_provincia_procedencia    96032 non-null float64\n",
      "provincia_procedencia         96032 non-null object\n",
      "dtypes: datetime64[ns](2), float64(1), int64(4), object(10)\n",
      "memory usage: 12.9+ MB\n"
     ]
    }
   ],
   "source": [
    "data.info()"
   ]
  },
  {
   "cell_type": "markdown",
   "metadata": {
    "slideshow": {
     "slide_type": "subslide"
    }
   },
   "source": [
    "Ens carreguem les columnes que començen per codi"
   ]
  },
  {
   "cell_type": "code",
   "execution_count": 82,
   "metadata": {
    "collapsed": true
   },
   "outputs": [],
   "source": [
    "data = data.drop([col for col in data.columns.values if col.startswith('codi_')], axis=1)"
   ]
  },
  {
   "cell_type": "markdown",
   "metadata": {
    "slideshow": {
     "slide_type": "slide"
    }
   },
   "source": [
    "# Explorant les dades"
   ]
  },
  {
   "cell_type": "markdown",
   "metadata": {
    "slideshow": {
     "slide_type": "subslide"
    }
   },
   "source": [
    "Alguns mètodes interessants:\n",
    "\n",
    "`head` and `tail`"
   ]
  },
  {
   "cell_type": "code",
   "execution_count": 83,
   "metadata": {
    "slideshow": {
     "slide_type": "-"
    }
   },
   "outputs": [
    {
     "data": {
      "text/html": [
       "<div>\n",
       "<table border=\"1\" class=\"dataframe\">\n",
       "  <thead>\n",
       "    <tr style=\"text-align: right;\">\n",
       "      <th></th>\n",
       "      <th>districte</th>\n",
       "      <th>seccio</th>\n",
       "      <th>sexe</th>\n",
       "      <th>nivell_estudis</th>\n",
       "      <th>data_naixement</th>\n",
       "      <th>municipi_pais_naixement</th>\n",
       "      <th>provincia_naixement</th>\n",
       "      <th>nacionalitat</th>\n",
       "      <th>data_alta</th>\n",
       "      <th>municipi_pais_procedencia</th>\n",
       "      <th>provincia_procedencia</th>\n",
       "    </tr>\n",
       "  </thead>\n",
       "  <tbody>\n",
       "    <tr>\n",
       "      <th>0</th>\n",
       "      <td>1</td>\n",
       "      <td>1</td>\n",
       "      <td>HOME</td>\n",
       "      <td>NO APLICABLE MENOR 16</td>\n",
       "      <td>2000-01-01</td>\n",
       "      <td>GIRONA</td>\n",
       "      <td>GIRONA</td>\n",
       "      <td>ESPAÑA</td>\n",
       "      <td>2000-08-14</td>\n",
       "      <td>GIRONA</td>\n",
       "      <td>GIRONA</td>\n",
       "    </tr>\n",
       "    <tr>\n",
       "      <th>1</th>\n",
       "      <td>1</td>\n",
       "      <td>1</td>\n",
       "      <td>DONA</td>\n",
       "      <td>BATXILLER SUPERIOR, BUP</td>\n",
       "      <td>1944-01-01</td>\n",
       "      <td>ARGENTINA</td>\n",
       "      <td>EXTRANJERO</td>\n",
       "      <td>ITALIA</td>\n",
       "      <td>2002-11-21</td>\n",
       "      <td>MATARO</td>\n",
       "      <td>BARCELONA</td>\n",
       "    </tr>\n",
       "    <tr>\n",
       "      <th>2</th>\n",
       "      <td>1</td>\n",
       "      <td>1</td>\n",
       "      <td>HOME</td>\n",
       "      <td>BATXILLER SUPERIOR, BUP</td>\n",
       "      <td>1979-01-01</td>\n",
       "      <td>ARGENTINA</td>\n",
       "      <td>EXTRANJERO</td>\n",
       "      <td>ITALIA</td>\n",
       "      <td>2011-12-05</td>\n",
       "      <td>GIRONA</td>\n",
       "      <td>GIRONA</td>\n",
       "    </tr>\n",
       "  </tbody>\n",
       "</table>\n",
       "</div>"
      ],
      "text/plain": [
       "   districte  seccio  sexe           nivell_estudis data_naixement  \\\n",
       "0          1       1  HOME    NO APLICABLE MENOR 16     2000-01-01   \n",
       "1          1       1  DONA  BATXILLER SUPERIOR, BUP     1944-01-01   \n",
       "2          1       1  HOME  BATXILLER SUPERIOR, BUP     1979-01-01   \n",
       "\n",
       "  municipi_pais_naixement provincia_naixement nacionalitat  data_alta  \\\n",
       "0                  GIRONA              GIRONA       ESPAÑA 2000-08-14   \n",
       "1               ARGENTINA          EXTRANJERO       ITALIA 2002-11-21   \n",
       "2               ARGENTINA          EXTRANJERO       ITALIA 2011-12-05   \n",
       "\n",
       "  municipi_pais_procedencia provincia_procedencia  \n",
       "0                    GIRONA                GIRONA  \n",
       "1                    MATARO             BARCELONA  \n",
       "2                    GIRONA                GIRONA  "
      ]
     },
     "execution_count": 83,
     "metadata": {},
     "output_type": "execute_result"
    }
   ],
   "source": [
    "data.head(3)"
   ]
  },
  {
   "cell_type": "markdown",
   "metadata": {
    "slideshow": {
     "slide_type": "subslide"
    }
   },
   "source": [
    "`info()`"
   ]
  },
  {
   "cell_type": "code",
   "execution_count": 84,
   "metadata": {},
   "outputs": [
    {
     "name": "stdout",
     "output_type": "stream",
     "text": [
      "<class 'pandas.core.frame.DataFrame'>\n",
      "RangeIndex: 99374 entries, 0 to 99373\n",
      "Data columns (total 11 columns):\n",
      "districte                    99374 non-null int64\n",
      "seccio                       99374 non-null int64\n",
      "sexe                         99374 non-null object\n",
      "nivell_estudis               99374 non-null object\n",
      "data_naixement               99373 non-null datetime64[ns]\n",
      "municipi_pais_naixement      99374 non-null object\n",
      "provincia_naixement          99374 non-null object\n",
      "nacionalitat                 99374 non-null object\n",
      "data_alta                    99374 non-null datetime64[ns]\n",
      "municipi_pais_procedencia    96026 non-null object\n",
      "provincia_procedencia        96032 non-null object\n",
      "dtypes: datetime64[ns](2), int64(2), object(7)\n",
      "memory usage: 8.3+ MB\n"
     ]
    }
   ],
   "source": [
    "data.info()"
   ]
  },
  {
   "cell_type": "markdown",
   "metadata": {
    "slideshow": {
     "slide_type": "subslide"
    }
   },
   "source": [
    "Visualitzar ràpidament les dades"
   ]
  },
  {
   "cell_type": "code",
   "execution_count": 85,
   "metadata": {
    "slideshow": {
     "slide_type": "-"
    }
   },
   "outputs": [
    {
     "data": {
      "text/plain": [
       "<matplotlib.axes._subplots.AxesSubplot at 0x114a3e0d0>"
      ]
     },
     "execution_count": 85,
     "metadata": {},
     "output_type": "execute_result"
    },
    {
     "data": {
      "image/png": "[encoded data removed]",
      "text/plain": [
       "<matplotlib.figure.Figure at 0x115e53910>"
      ]
     },
     "metadata": {},
     "output_type": "display_data"
    }
   ],
   "source": [
    " data.plot(kind='box')"
   ]
  },
  {
   "cell_type": "code",
   "execution_count": 86,
   "metadata": {
    "slideshow": {
     "slide_type": "subslide"
    }
   },
   "outputs": [
    {
     "data": {
      "text/plain": [
       "<matplotlib.axes._subplots.AxesSubplot at 0x11492d810>"
      ]
     },
     "execution_count": 86,
     "metadata": {},
     "output_type": "execute_result"
    },
    {
     "data": {
      "image/png": "[encoded data removed]",
      "text/plain": [
       "<matplotlib.figure.Figure at 0x113e421d0>"
      ]
     },
     "metadata": {},
     "output_type": "display_data"
    }
   ],
   "source": [
    "data['sexe'].value_counts().plot(kind='barh')"
   ]
  },
  {
   "cell_type": "markdown",
   "metadata": {
    "slideshow": {
     "slide_type": "slide"
    }
   },
   "source": [
    "## Treballant amb time series"
   ]
  },
  {
   "cell_type": "markdown",
   "metadata": {
    "slideshow": {
     "slide_type": "fragment"
    }
   },
   "source": [
    "Quan el DataFrame conté un `DatetimeIndex`, s'habilita la funcionalitat relacionada amb time-series:"
   ]
  },
  {
   "cell_type": "code",
   "execution_count": 88,
   "metadata": {
    "collapsed": true
   },
   "outputs": [],
   "source": [
    "data = data.set_index(\"data_alta\").sort_index()"
   ]
  },
  {
   "cell_type": "code",
   "execution_count": 89,
   "metadata": {},
   "outputs": [
    {
     "name": "stdout",
     "output_type": "stream",
     "text": [
      "<class 'pandas.core.frame.DataFrame'>\n",
      "DatetimeIndex: 99374 entries, 1977-09-24 to 2015-12-31\n",
      "Data columns (total 10 columns):\n",
      "districte                    99374 non-null int64\n",
      "seccio                       99374 non-null int64\n",
      "sexe                         99374 non-null object\n",
      "nivell_estudis               99374 non-null object\n",
      "data_naixement               99373 non-null datetime64[ns]\n",
      "municipi_pais_naixement      99374 non-null object\n",
      "provincia_naixement          99374 non-null object\n",
      "nacionalitat                 99374 non-null object\n",
      "municipi_pais_procedencia    96026 non-null object\n",
      "provincia_procedencia        96032 non-null object\n",
      "dtypes: datetime64[ns](1), int64(2), object(7)\n",
      "memory usage: 8.3+ MB\n"
     ]
    }
   ],
   "source": [
    "data.info()"
   ]
  },
  {
   "cell_type": "markdown",
   "metadata": {
    "slideshow": {
     "slide_type": "subslide"
    }
   },
   "source": [
    "Indexar un time series funciona amb strings:"
   ]
  },
  {
   "cell_type": "code",
   "execution_count": 90,
   "metadata": {},
   "outputs": [
    {
     "data": {
      "text/html": [
       "<div>\n",
       "<table border=\"1\" class=\"dataframe\">\n",
       "  <thead>\n",
       "    <tr style=\"text-align: right;\">\n",
       "      <th></th>\n",
       "      <th>districte</th>\n",
       "      <th>seccio</th>\n",
       "      <th>sexe</th>\n",
       "      <th>nivell_estudis</th>\n",
       "      <th>data_naixement</th>\n",
       "      <th>municipi_pais_naixement</th>\n",
       "      <th>provincia_naixement</th>\n",
       "      <th>nacionalitat</th>\n",
       "      <th>municipi_pais_procedencia</th>\n",
       "      <th>provincia_procedencia</th>\n",
       "    </tr>\n",
       "    <tr>\n",
       "      <th>data_alta</th>\n",
       "      <th></th>\n",
       "      <th></th>\n",
       "      <th></th>\n",
       "      <th></th>\n",
       "      <th></th>\n",
       "      <th></th>\n",
       "      <th></th>\n",
       "      <th></th>\n",
       "      <th></th>\n",
       "      <th></th>\n",
       "    </tr>\n",
       "  </thead>\n",
       "  <tbody>\n",
       "    <tr>\n",
       "      <th>2010-01-02</th>\n",
       "      <td>6</td>\n",
       "      <td>5</td>\n",
       "      <td>HOME</td>\n",
       "      <td>ESO, PRIMÀRIA O EQUIV.</td>\n",
       "      <td>1970-01-01</td>\n",
       "      <td>MARRUECOS</td>\n",
       "      <td>EXTRANJERO</td>\n",
       "      <td>MARRUECOS</td>\n",
       "      <td>GIRONA</td>\n",
       "      <td>GIRONA</td>\n",
       "    </tr>\n",
       "    <tr>\n",
       "      <th>2010-01-02</th>\n",
       "      <td>2</td>\n",
       "      <td>11</td>\n",
       "      <td>DONA</td>\n",
       "      <td>ESO, PRIMÀRIA O EQUIV.</td>\n",
       "      <td>1978-01-01</td>\n",
       "      <td>VIC</td>\n",
       "      <td>BARCELONA</td>\n",
       "      <td>ESPAÑA</td>\n",
       "      <td>&lt;20</td>\n",
       "      <td>BARCELONA</td>\n",
       "    </tr>\n",
       "    <tr>\n",
       "      <th>2010-01-02</th>\n",
       "      <td>3</td>\n",
       "      <td>12</td>\n",
       "      <td>HOME</td>\n",
       "      <td>SENSE ESTUDIS</td>\n",
       "      <td>1962-01-01</td>\n",
       "      <td>GAMBIA</td>\n",
       "      <td>EXTRANJERO</td>\n",
       "      <td>GAMBIA</td>\n",
       "      <td>GIRONA</td>\n",
       "      <td>GIRONA</td>\n",
       "    </tr>\n",
       "    <tr>\n",
       "      <th>2010-01-02</th>\n",
       "      <td>2</td>\n",
       "      <td>11</td>\n",
       "      <td>HOME</td>\n",
       "      <td>ESO, PRIMÀRIA O EQUIV.</td>\n",
       "      <td>1983-01-01</td>\n",
       "      <td>LLEIDA</td>\n",
       "      <td>LLEIDA</td>\n",
       "      <td>ESPAÑA</td>\n",
       "      <td>LLEIDA</td>\n",
       "      <td>LLEIDA</td>\n",
       "    </tr>\n",
       "    <tr>\n",
       "      <th>2010-01-02</th>\n",
       "      <td>2</td>\n",
       "      <td>17</td>\n",
       "      <td>DONA</td>\n",
       "      <td>SENSE ESTUDIS</td>\n",
       "      <td>1971-01-01</td>\n",
       "      <td>GAMBIA</td>\n",
       "      <td>EXTRANJERO</td>\n",
       "      <td>GAMBIA</td>\n",
       "      <td>SALT</td>\n",
       "      <td>GIRONA</td>\n",
       "    </tr>\n",
       "    <tr>\n",
       "      <th>2010-01-02</th>\n",
       "      <td>3</td>\n",
       "      <td>17</td>\n",
       "      <td>HOME</td>\n",
       "      <td>NO APLICABLE MENOR 16</td>\n",
       "      <td>2007-01-01</td>\n",
       "      <td>GIRONA</td>\n",
       "      <td>GIRONA</td>\n",
       "      <td>ESPAÑA</td>\n",
       "      <td>GIRONA</td>\n",
       "      <td>GIRONA</td>\n",
       "    </tr>\n",
       "    <tr>\n",
       "      <th>2010-01-02</th>\n",
       "      <td>2</td>\n",
       "      <td>19</td>\n",
       "      <td>DONA</td>\n",
       "      <td>BATXILLER SUPERIOR, BUP</td>\n",
       "      <td>1975-01-01</td>\n",
       "      <td>BARCELONA</td>\n",
       "      <td>BARCELONA</td>\n",
       "      <td>ESPAÑA</td>\n",
       "      <td>SANT JOAN DESPI</td>\n",
       "      <td>BARCELONA</td>\n",
       "    </tr>\n",
       "    <tr>\n",
       "      <th>2010-01-02</th>\n",
       "      <td>3</td>\n",
       "      <td>10</td>\n",
       "      <td>DONA</td>\n",
       "      <td>NO APLICABLE MENOR 16</td>\n",
       "      <td>2010-01-01</td>\n",
       "      <td>GIRONA</td>\n",
       "      <td>GIRONA</td>\n",
       "      <td>ESPAÑA</td>\n",
       "      <td>GIRONA</td>\n",
       "      <td>GIRONA</td>\n",
       "    </tr>\n",
       "    <tr>\n",
       "      <th>2010-01-02</th>\n",
       "      <td>2</td>\n",
       "      <td>11</td>\n",
       "      <td>HOME</td>\n",
       "      <td>NO APLICABLE MENOR 16</td>\n",
       "      <td>2010-01-01</td>\n",
       "      <td>GIRONA</td>\n",
       "      <td>GIRONA</td>\n",
       "      <td>ESPAÑA</td>\n",
       "      <td>GIRONA</td>\n",
       "      <td>GIRONA</td>\n",
       "    </tr>\n",
       "    <tr>\n",
       "      <th>2010-01-03</th>\n",
       "      <td>3</td>\n",
       "      <td>7</td>\n",
       "      <td>DONA</td>\n",
       "      <td>ESO, PRIMÀRIA O EQUIV.</td>\n",
       "      <td>1966-01-01</td>\n",
       "      <td>MARRUECOS</td>\n",
       "      <td>EXTRANJERO</td>\n",
       "      <td>MARRUECOS</td>\n",
       "      <td>CERVIA DE TER</td>\n",
       "      <td>GIRONA</td>\n",
       "    </tr>\n",
       "    <tr>\n",
       "      <th>2010-01-03</th>\n",
       "      <td>2</td>\n",
       "      <td>15</td>\n",
       "      <td>HOME</td>\n",
       "      <td>FP 1ER GRAU O MITJÀ</td>\n",
       "      <td>1964-01-01</td>\n",
       "      <td>LLAGOSTERA</td>\n",
       "      <td>GIRONA</td>\n",
       "      <td>ESPAÑA</td>\n",
       "      <td>LLAGOSTERA</td>\n",
       "      <td>GIRONA</td>\n",
       "    </tr>\n",
       "    <tr>\n",
       "      <th>2010-01-03</th>\n",
       "      <td>3</td>\n",
       "      <td>3</td>\n",
       "      <td>HOME</td>\n",
       "      <td>NO APLICABLE MENOR 16</td>\n",
       "      <td>2010-01-01</td>\n",
       "      <td>GIRONA</td>\n",
       "      <td>GIRONA</td>\n",
       "      <td>ESPAÑA</td>\n",
       "      <td>NaN</td>\n",
       "      <td>NaN</td>\n",
       "    </tr>\n",
       "    <tr>\n",
       "      <th>2010-01-03</th>\n",
       "      <td>2</td>\n",
       "      <td>5</td>\n",
       "      <td>HOME</td>\n",
       "      <td>ESO, PRIMÀRIA O EQUIV.</td>\n",
       "      <td>1947-01-01</td>\n",
       "      <td>TORDERA</td>\n",
       "      <td>BARCELONA</td>\n",
       "      <td>ESPAÑA</td>\n",
       "      <td>BELLCAIRE EMPORDA</td>\n",
       "      <td>GIRONA</td>\n",
       "    </tr>\n",
       "    <tr>\n",
       "      <th>2010-01-03</th>\n",
       "      <td>3</td>\n",
       "      <td>5</td>\n",
       "      <td>HOME</td>\n",
       "      <td>DIPLOMAT ESCOLA UNIVERS.</td>\n",
       "      <td>1987-01-01</td>\n",
       "      <td>GIRONA</td>\n",
       "      <td>GIRONA</td>\n",
       "      <td>ESPAÑA</td>\n",
       "      <td>S.JULIA RAMIS</td>\n",
       "      <td>GIRONA</td>\n",
       "    </tr>\n",
       "    <tr>\n",
       "      <th>2010-01-03</th>\n",
       "      <td>1</td>\n",
       "      <td>5</td>\n",
       "      <td>DONA</td>\n",
       "      <td>NO APLICABLE MENOR 16</td>\n",
       "      <td>2010-01-01</td>\n",
       "      <td>GIRONA</td>\n",
       "      <td>GIRONA</td>\n",
       "      <td>MARRUECOS</td>\n",
       "      <td>NaN</td>\n",
       "      <td>NaN</td>\n",
       "    </tr>\n",
       "    <tr>\n",
       "      <th>2010-01-03</th>\n",
       "      <td>3</td>\n",
       "      <td>18</td>\n",
       "      <td>DONA</td>\n",
       "      <td>DIPLOMAT ESCOLA UNIVERS.</td>\n",
       "      <td>1970-01-01</td>\n",
       "      <td>PLANES D'HOSTOLES</td>\n",
       "      <td>GIRONA</td>\n",
       "      <td>ESPAÑA</td>\n",
       "      <td>PLANES D'HOSTOLES</td>\n",
       "      <td>GIRONA</td>\n",
       "    </tr>\n",
       "    <tr>\n",
       "      <th>2010-01-03</th>\n",
       "      <td>3</td>\n",
       "      <td>20</td>\n",
       "      <td>HOME</td>\n",
       "      <td>NO APLICABLE MENOR 16</td>\n",
       "      <td>2010-01-01</td>\n",
       "      <td>GIRONA</td>\n",
       "      <td>GIRONA</td>\n",
       "      <td>UCRANIA</td>\n",
       "      <td>GIRONA</td>\n",
       "      <td>GIRONA</td>\n",
       "    </tr>\n",
       "    <tr>\n",
       "      <th>2010-01-03</th>\n",
       "      <td>3</td>\n",
       "      <td>10</td>\n",
       "      <td>DONA</td>\n",
       "      <td>BATXILLER SUPERIOR, BUP</td>\n",
       "      <td>1983-01-01</td>\n",
       "      <td>BOLIVIA</td>\n",
       "      <td>EXTRANJERO</td>\n",
       "      <td>ESPAÑA</td>\n",
       "      <td>&lt;20</td>\n",
       "      <td>NAVARRA</td>\n",
       "    </tr>\n",
       "    <tr>\n",
       "      <th>2010-01-03</th>\n",
       "      <td>3</td>\n",
       "      <td>3</td>\n",
       "      <td>DONA</td>\n",
       "      <td>BATXILLER SUPERIOR, BUP</td>\n",
       "      <td>1976-01-01</td>\n",
       "      <td>COLOMBIA</td>\n",
       "      <td>EXTRANJERO</td>\n",
       "      <td>COLOMBIA</td>\n",
       "      <td>&lt;20</td>\n",
       "      <td>SEVILLA</td>\n",
       "    </tr>\n",
       "    <tr>\n",
       "      <th>2010-01-04</th>\n",
       "      <td>3</td>\n",
       "      <td>15</td>\n",
       "      <td>DONA</td>\n",
       "      <td>NO APLICABLE MENOR 16</td>\n",
       "      <td>2010-01-01</td>\n",
       "      <td>GIRONA</td>\n",
       "      <td>GIRONA</td>\n",
       "      <td>MARRUECOS</td>\n",
       "      <td>GIRONA</td>\n",
       "      <td>GIRONA</td>\n",
       "    </tr>\n",
       "    <tr>\n",
       "      <th>2010-01-04</th>\n",
       "      <td>2</td>\n",
       "      <td>7</td>\n",
       "      <td>HOME</td>\n",
       "      <td>ESO, PRIMÀRIA O EQUIV.</td>\n",
       "      <td>1936-01-01</td>\n",
       "      <td>&lt;20</td>\n",
       "      <td>GIRONA</td>\n",
       "      <td>ESPAÑA</td>\n",
       "      <td>SALT</td>\n",
       "      <td>GIRONA</td>\n",
       "    </tr>\n",
       "    <tr>\n",
       "      <th>2010-01-04</th>\n",
       "      <td>3</td>\n",
       "      <td>20</td>\n",
       "      <td>HOME</td>\n",
       "      <td>LLICENCIAT O GRAU UNIVER.</td>\n",
       "      <td>1979-01-01</td>\n",
       "      <td>BARCELONA</td>\n",
       "      <td>BARCELONA</td>\n",
       "      <td>ESPAÑA</td>\n",
       "      <td>&lt;20</td>\n",
       "      <td>BARCELONA</td>\n",
       "    </tr>\n",
       "    <tr>\n",
       "      <th>2010-01-04</th>\n",
       "      <td>2</td>\n",
       "      <td>13</td>\n",
       "      <td>HOME</td>\n",
       "      <td>DOCTORAT I POST-GRAU</td>\n",
       "      <td>1968-01-01</td>\n",
       "      <td>BARCELONA</td>\n",
       "      <td>BARCELONA</td>\n",
       "      <td>ESPAÑA</td>\n",
       "      <td>BARCELONA</td>\n",
       "      <td>BARCELONA</td>\n",
       "    </tr>\n",
       "    <tr>\n",
       "      <th>2010-01-04</th>\n",
       "      <td>2</td>\n",
       "      <td>7</td>\n",
       "      <td>DONA</td>\n",
       "      <td>ESO, PRIMÀRIA O EQUIV.</td>\n",
       "      <td>1935-01-01</td>\n",
       "      <td>MANRESA</td>\n",
       "      <td>BARCELONA</td>\n",
       "      <td>ESPAÑA</td>\n",
       "      <td>SALT</td>\n",
       "      <td>GIRONA</td>\n",
       "    </tr>\n",
       "    <tr>\n",
       "      <th>2010-01-04</th>\n",
       "      <td>3</td>\n",
       "      <td>7</td>\n",
       "      <td>HOME</td>\n",
       "      <td>SENSE ESTUDIS</td>\n",
       "      <td>1977-01-01</td>\n",
       "      <td>SENEGAL</td>\n",
       "      <td>EXTRANJERO</td>\n",
       "      <td>SENEGAL</td>\n",
       "      <td>GIRONA</td>\n",
       "      <td>GIRONA</td>\n",
       "    </tr>\n",
       "    <tr>\n",
       "      <th>2010-01-04</th>\n",
       "      <td>6</td>\n",
       "      <td>1</td>\n",
       "      <td>HOME</td>\n",
       "      <td>LLICENCIAT O GRAU UNIVER.</td>\n",
       "      <td>1972-01-01</td>\n",
       "      <td>PORQUERES</td>\n",
       "      <td>GIRONA</td>\n",
       "      <td>ESPAÑA</td>\n",
       "      <td>CORNELLÀ DEL TERRI</td>\n",
       "      <td>GIRONA</td>\n",
       "    </tr>\n",
       "    <tr>\n",
       "      <th>2010-01-04</th>\n",
       "      <td>1</td>\n",
       "      <td>3</td>\n",
       "      <td>DONA</td>\n",
       "      <td>DIPLOMAT ESCOLA UNIVERS.</td>\n",
       "      <td>1972-01-01</td>\n",
       "      <td>SANT GREGORI</td>\n",
       "      <td>GIRONA</td>\n",
       "      <td>ESPAÑA</td>\n",
       "      <td>GIRONA</td>\n",
       "      <td>GIRONA</td>\n",
       "    </tr>\n",
       "    <tr>\n",
       "      <th>2010-01-04</th>\n",
       "      <td>4</td>\n",
       "      <td>2</td>\n",
       "      <td>DONA</td>\n",
       "      <td>LLICENCIAT O GRAU UNIVER.</td>\n",
       "      <td>1970-01-01</td>\n",
       "      <td>RIPOLL</td>\n",
       "      <td>GIRONA</td>\n",
       "      <td>ESPAÑA</td>\n",
       "      <td>BARCELONA</td>\n",
       "      <td>BARCELONA</td>\n",
       "    </tr>\n",
       "    <tr>\n",
       "      <th>2010-01-05</th>\n",
       "      <td>3</td>\n",
       "      <td>12</td>\n",
       "      <td>HOME</td>\n",
       "      <td>NO APLICABLE MENOR 16</td>\n",
       "      <td>2010-01-01</td>\n",
       "      <td>GIRONA</td>\n",
       "      <td>GIRONA</td>\n",
       "      <td>MARRUECOS</td>\n",
       "      <td>GIRONA</td>\n",
       "      <td>GIRONA</td>\n",
       "    </tr>\n",
       "    <tr>\n",
       "      <th>2010-01-06</th>\n",
       "      <td>3</td>\n",
       "      <td>11</td>\n",
       "      <td>DONA</td>\n",
       "      <td>NO APLICABLE MENOR 16</td>\n",
       "      <td>2010-01-01</td>\n",
       "      <td>GIRONA</td>\n",
       "      <td>GIRONA</td>\n",
       "      <td>ESPAÑA</td>\n",
       "      <td>NaN</td>\n",
       "      <td>NaN</td>\n",
       "    </tr>\n",
       "    <tr>\n",
       "      <th>...</th>\n",
       "      <td>...</td>\n",
       "      <td>...</td>\n",
       "      <td>...</td>\n",
       "      <td>...</td>\n",
       "      <td>...</td>\n",
       "      <td>...</td>\n",
       "      <td>...</td>\n",
       "      <td>...</td>\n",
       "      <td>...</td>\n",
       "      <td>...</td>\n",
       "    </tr>\n",
       "    <tr>\n",
       "      <th>2010-12-30</th>\n",
       "      <td>3</td>\n",
       "      <td>1</td>\n",
       "      <td>HOME</td>\n",
       "      <td>LLICENCIAT O GRAU UNIVER.</td>\n",
       "      <td>1982-01-01</td>\n",
       "      <td>GIRONA</td>\n",
       "      <td>GIRONA</td>\n",
       "      <td>ESPAÑA</td>\n",
       "      <td>SANT GREGORI</td>\n",
       "      <td>GIRONA</td>\n",
       "    </tr>\n",
       "    <tr>\n",
       "      <th>2010-12-30</th>\n",
       "      <td>6</td>\n",
       "      <td>5</td>\n",
       "      <td>HOME</td>\n",
       "      <td>ESO, PRIMÀRIA O EQUIV.</td>\n",
       "      <td>1994-01-01</td>\n",
       "      <td>BADALONA</td>\n",
       "      <td>BARCELONA</td>\n",
       "      <td>ESPAÑA</td>\n",
       "      <td>BADALONA</td>\n",
       "      <td>BARCELONA</td>\n",
       "    </tr>\n",
       "    <tr>\n",
       "      <th>2010-12-30</th>\n",
       "      <td>3</td>\n",
       "      <td>19</td>\n",
       "      <td>DONA</td>\n",
       "      <td>NO APLICABLE MENOR 16</td>\n",
       "      <td>2010-01-01</td>\n",
       "      <td>GIRONA</td>\n",
       "      <td>GIRONA</td>\n",
       "      <td>ESPAÑA</td>\n",
       "      <td>NaN</td>\n",
       "      <td>NaN</td>\n",
       "    </tr>\n",
       "    <tr>\n",
       "      <th>2010-12-30</th>\n",
       "      <td>2</td>\n",
       "      <td>13</td>\n",
       "      <td>HOME</td>\n",
       "      <td>LLICENCIAT O GRAU UNIVER.</td>\n",
       "      <td>1957-01-01</td>\n",
       "      <td>GIRONA</td>\n",
       "      <td>GIRONA</td>\n",
       "      <td>ESPAÑA</td>\n",
       "      <td>VENTALLÓ</td>\n",
       "      <td>GIRONA</td>\n",
       "    </tr>\n",
       "    <tr>\n",
       "      <th>2010-12-30</th>\n",
       "      <td>3</td>\n",
       "      <td>6</td>\n",
       "      <td>HOME</td>\n",
       "      <td>LLICENCIAT O GRAU UNIVER.</td>\n",
       "      <td>1978-01-01</td>\n",
       "      <td>VILABLAREIX</td>\n",
       "      <td>GIRONA</td>\n",
       "      <td>ESPAÑA</td>\n",
       "      <td>VILABLAREIX</td>\n",
       "      <td>GIRONA</td>\n",
       "    </tr>\n",
       "    <tr>\n",
       "      <th>2010-12-30</th>\n",
       "      <td>1</td>\n",
       "      <td>4</td>\n",
       "      <td>HOME</td>\n",
       "      <td>PRIMÀRIA INCOMPLETA</td>\n",
       "      <td>1963-01-01</td>\n",
       "      <td>&lt;20</td>\n",
       "      <td>EXTRANJERO</td>\n",
       "      <td>&lt;20</td>\n",
       "      <td>SALT</td>\n",
       "      <td>GIRONA</td>\n",
       "    </tr>\n",
       "    <tr>\n",
       "      <th>2010-12-30</th>\n",
       "      <td>2</td>\n",
       "      <td>6</td>\n",
       "      <td>DONA</td>\n",
       "      <td>NO APLICABLE MENOR 16</td>\n",
       "      <td>2010-01-01</td>\n",
       "      <td>GIRONA</td>\n",
       "      <td>GIRONA</td>\n",
       "      <td>ESPAÑA</td>\n",
       "      <td>GIRONA</td>\n",
       "      <td>GIRONA</td>\n",
       "    </tr>\n",
       "    <tr>\n",
       "      <th>2010-12-30</th>\n",
       "      <td>3</td>\n",
       "      <td>12</td>\n",
       "      <td>HOME</td>\n",
       "      <td>ESO, PRIMÀRIA O EQUIV.</td>\n",
       "      <td>1976-01-01</td>\n",
       "      <td>MARRUECOS</td>\n",
       "      <td>EXTRANJERO</td>\n",
       "      <td>MARRUECOS</td>\n",
       "      <td>&lt;20</td>\n",
       "      <td>ALACANT</td>\n",
       "    </tr>\n",
       "    <tr>\n",
       "      <th>2010-12-30</th>\n",
       "      <td>2</td>\n",
       "      <td>8</td>\n",
       "      <td>DONA</td>\n",
       "      <td>LLICENCIAT O GRAU UNIVER.</td>\n",
       "      <td>1986-01-01</td>\n",
       "      <td>RIPOLL</td>\n",
       "      <td>GIRONA</td>\n",
       "      <td>ESPAÑA</td>\n",
       "      <td>FIGUERES</td>\n",
       "      <td>GIRONA</td>\n",
       "    </tr>\n",
       "    <tr>\n",
       "      <th>2010-12-30</th>\n",
       "      <td>3</td>\n",
       "      <td>1</td>\n",
       "      <td>DONA</td>\n",
       "      <td>LLICENCIAT O GRAU UNIVER.</td>\n",
       "      <td>1973-01-01</td>\n",
       "      <td>AMER</td>\n",
       "      <td>GIRONA</td>\n",
       "      <td>ESPAÑA</td>\n",
       "      <td>AMER</td>\n",
       "      <td>GIRONA</td>\n",
       "    </tr>\n",
       "    <tr>\n",
       "      <th>2010-12-30</th>\n",
       "      <td>3</td>\n",
       "      <td>11</td>\n",
       "      <td>DONA</td>\n",
       "      <td>DIPLOMAT ESCOLA UNIVERS.</td>\n",
       "      <td>1974-01-01</td>\n",
       "      <td>MALAGA</td>\n",
       "      <td>MÁLAGA</td>\n",
       "      <td>ESPAÑA</td>\n",
       "      <td>PALAMÓS</td>\n",
       "      <td>GIRONA</td>\n",
       "    </tr>\n",
       "    <tr>\n",
       "      <th>2010-12-30</th>\n",
       "      <td>2</td>\n",
       "      <td>22</td>\n",
       "      <td>DONA</td>\n",
       "      <td>NO APLICABLE MENOR 16</td>\n",
       "      <td>2010-01-01</td>\n",
       "      <td>GIRONA</td>\n",
       "      <td>GIRONA</td>\n",
       "      <td>ESPAÑA</td>\n",
       "      <td>NaN</td>\n",
       "      <td>NaN</td>\n",
       "    </tr>\n",
       "    <tr>\n",
       "      <th>2010-12-30</th>\n",
       "      <td>2</td>\n",
       "      <td>8</td>\n",
       "      <td>HOME</td>\n",
       "      <td>LLICENCIAT O GRAU UNIVER.</td>\n",
       "      <td>1986-01-01</td>\n",
       "      <td>TERRASSA</td>\n",
       "      <td>BARCELONA</td>\n",
       "      <td>ESPAÑA</td>\n",
       "      <td>TERRASSA</td>\n",
       "      <td>BARCELONA</td>\n",
       "    </tr>\n",
       "    <tr>\n",
       "      <th>2010-12-30</th>\n",
       "      <td>2</td>\n",
       "      <td>5</td>\n",
       "      <td>DONA</td>\n",
       "      <td>FP 1ER GRAU O MITJÀ</td>\n",
       "      <td>1933-01-01</td>\n",
       "      <td>BARCELONA</td>\n",
       "      <td>BARCELONA</td>\n",
       "      <td>ESPAÑA</td>\n",
       "      <td>S.JULIA RAMIS</td>\n",
       "      <td>GIRONA</td>\n",
       "    </tr>\n",
       "    <tr>\n",
       "      <th>2010-12-31</th>\n",
       "      <td>3</td>\n",
       "      <td>13</td>\n",
       "      <td>DONA</td>\n",
       "      <td>ESO, PRIMÀRIA O EQUIV.</td>\n",
       "      <td>1985-01-01</td>\n",
       "      <td>INDIA</td>\n",
       "      <td>EXTRANJERO</td>\n",
       "      <td>INDIA</td>\n",
       "      <td>SALT</td>\n",
       "      <td>GIRONA</td>\n",
       "    </tr>\n",
       "    <tr>\n",
       "      <th>2010-12-31</th>\n",
       "      <td>6</td>\n",
       "      <td>5</td>\n",
       "      <td>HOME</td>\n",
       "      <td>NO APLICABLE MENOR 16</td>\n",
       "      <td>2010-01-01</td>\n",
       "      <td>GIRONA</td>\n",
       "      <td>GIRONA</td>\n",
       "      <td>ESPAÑA</td>\n",
       "      <td>NaN</td>\n",
       "      <td>NaN</td>\n",
       "    </tr>\n",
       "    <tr>\n",
       "      <th>2010-12-31</th>\n",
       "      <td>1</td>\n",
       "      <td>6</td>\n",
       "      <td>HOME</td>\n",
       "      <td>NO APLICABLE MENOR 16</td>\n",
       "      <td>2001-01-01</td>\n",
       "      <td>GIRONA</td>\n",
       "      <td>GIRONA</td>\n",
       "      <td>ESPAÑA</td>\n",
       "      <td>SALT</td>\n",
       "      <td>GIRONA</td>\n",
       "    </tr>\n",
       "    <tr>\n",
       "      <th>2010-12-31</th>\n",
       "      <td>1</td>\n",
       "      <td>1</td>\n",
       "      <td>DONA</td>\n",
       "      <td>LLICENCIAT O GRAU UNIVER.</td>\n",
       "      <td>1986-01-01</td>\n",
       "      <td>GEORGIA</td>\n",
       "      <td>EXTRANJERO</td>\n",
       "      <td>GEORGIA</td>\n",
       "      <td>GEORGIA</td>\n",
       "      <td>EXTRANJERO</td>\n",
       "    </tr>\n",
       "    <tr>\n",
       "      <th>2010-12-31</th>\n",
       "      <td>3</td>\n",
       "      <td>8</td>\n",
       "      <td>HOME</td>\n",
       "      <td>ESO, PRIMÀRIA O EQUIV.</td>\n",
       "      <td>1975-01-01</td>\n",
       "      <td>SENEGAL</td>\n",
       "      <td>EXTRANJERO</td>\n",
       "      <td>SENEGAL</td>\n",
       "      <td>SALT</td>\n",
       "      <td>GIRONA</td>\n",
       "    </tr>\n",
       "    <tr>\n",
       "      <th>2010-12-31</th>\n",
       "      <td>1</td>\n",
       "      <td>6</td>\n",
       "      <td>HOME</td>\n",
       "      <td>NO APLICABLE MENOR 16</td>\n",
       "      <td>2006-01-01</td>\n",
       "      <td>GIRONA</td>\n",
       "      <td>GIRONA</td>\n",
       "      <td>ESPAÑA</td>\n",
       "      <td>SALT</td>\n",
       "      <td>GIRONA</td>\n",
       "    </tr>\n",
       "    <tr>\n",
       "      <th>2010-12-31</th>\n",
       "      <td>3</td>\n",
       "      <td>13</td>\n",
       "      <td>HOME</td>\n",
       "      <td>ESO, PRIMÀRIA O EQUIV.</td>\n",
       "      <td>1974-01-01</td>\n",
       "      <td>INDIA</td>\n",
       "      <td>EXTRANJERO</td>\n",
       "      <td>INDIA</td>\n",
       "      <td>SALT</td>\n",
       "      <td>GIRONA</td>\n",
       "    </tr>\n",
       "    <tr>\n",
       "      <th>2010-12-31</th>\n",
       "      <td>3</td>\n",
       "      <td>8</td>\n",
       "      <td>HOME</td>\n",
       "      <td>NO APLICABLE MENOR 16</td>\n",
       "      <td>1999-01-01</td>\n",
       "      <td>SENEGAL</td>\n",
       "      <td>EXTRANJERO</td>\n",
       "      <td>SENEGAL</td>\n",
       "      <td>SALT</td>\n",
       "      <td>GIRONA</td>\n",
       "    </tr>\n",
       "    <tr>\n",
       "      <th>2010-12-31</th>\n",
       "      <td>1</td>\n",
       "      <td>2</td>\n",
       "      <td>HOME</td>\n",
       "      <td>ARQUITECTE,ENGINYER TÈCNI</td>\n",
       "      <td>1976-01-01</td>\n",
       "      <td>BARCELONA</td>\n",
       "      <td>BARCELONA</td>\n",
       "      <td>ESPAÑA</td>\n",
       "      <td>BARCELONA</td>\n",
       "      <td>BARCELONA</td>\n",
       "    </tr>\n",
       "    <tr>\n",
       "      <th>2010-12-31</th>\n",
       "      <td>3</td>\n",
       "      <td>19</td>\n",
       "      <td>HOME</td>\n",
       "      <td>BATXILLER SUPERIOR, BUP</td>\n",
       "      <td>1968-01-01</td>\n",
       "      <td>GIRONA</td>\n",
       "      <td>GIRONA</td>\n",
       "      <td>ESPAÑA</td>\n",
       "      <td>CALONGE</td>\n",
       "      <td>GIRONA</td>\n",
       "    </tr>\n",
       "    <tr>\n",
       "      <th>2010-12-31</th>\n",
       "      <td>1</td>\n",
       "      <td>4</td>\n",
       "      <td>DONA</td>\n",
       "      <td>BATXILLER SUPERIOR, BUP</td>\n",
       "      <td>1979-01-01</td>\n",
       "      <td>MARRUECOS</td>\n",
       "      <td>EXTRANJERO</td>\n",
       "      <td>MARRUECOS</td>\n",
       "      <td>BESCANÓ</td>\n",
       "      <td>GIRONA</td>\n",
       "    </tr>\n",
       "    <tr>\n",
       "      <th>2010-12-31</th>\n",
       "      <td>2</td>\n",
       "      <td>19</td>\n",
       "      <td>HOME</td>\n",
       "      <td>ESO, PRIMÀRIA O EQUIV.</td>\n",
       "      <td>1947-01-01</td>\n",
       "      <td>&lt;20</td>\n",
       "      <td>EXTRANJERO</td>\n",
       "      <td>&lt;20</td>\n",
       "      <td>GIRONA</td>\n",
       "      <td>GIRONA</td>\n",
       "    </tr>\n",
       "    <tr>\n",
       "      <th>2010-12-31</th>\n",
       "      <td>4</td>\n",
       "      <td>2</td>\n",
       "      <td>DONA</td>\n",
       "      <td>BATXILLER SUPERIOR, BUP</td>\n",
       "      <td>1975-01-01</td>\n",
       "      <td>GIRONA</td>\n",
       "      <td>GIRONA</td>\n",
       "      <td>ESPAÑA</td>\n",
       "      <td>SALT</td>\n",
       "      <td>GIRONA</td>\n",
       "    </tr>\n",
       "    <tr>\n",
       "      <th>2010-12-31</th>\n",
       "      <td>2</td>\n",
       "      <td>3</td>\n",
       "      <td>HOME</td>\n",
       "      <td>BATXILLER SUPERIOR, BUP</td>\n",
       "      <td>1985-01-01</td>\n",
       "      <td>BRASIL</td>\n",
       "      <td>EXTRANJERO</td>\n",
       "      <td>BRASIL</td>\n",
       "      <td>SALT</td>\n",
       "      <td>GIRONA</td>\n",
       "    </tr>\n",
       "    <tr>\n",
       "      <th>2010-12-31</th>\n",
       "      <td>4</td>\n",
       "      <td>2</td>\n",
       "      <td>HOME</td>\n",
       "      <td>BATXILLER SUPERIOR, BUP</td>\n",
       "      <td>1975-01-01</td>\n",
       "      <td>S.COLOMA DE GRAMENET</td>\n",
       "      <td>BARCELONA</td>\n",
       "      <td>ESPAÑA</td>\n",
       "      <td>SALT</td>\n",
       "      <td>GIRONA</td>\n",
       "    </tr>\n",
       "    <tr>\n",
       "      <th>2010-12-31</th>\n",
       "      <td>6</td>\n",
       "      <td>1</td>\n",
       "      <td>HOME</td>\n",
       "      <td>NO APLICABLE MENOR 16</td>\n",
       "      <td>2010-01-01</td>\n",
       "      <td>GIRONA</td>\n",
       "      <td>GIRONA</td>\n",
       "      <td>ESPAÑA</td>\n",
       "      <td>GIRONA</td>\n",
       "      <td>GIRONA</td>\n",
       "    </tr>\n",
       "  </tbody>\n",
       "</table>\n",
       "<p>3743 rows × 10 columns</p>\n",
       "</div>"
      ],
      "text/plain": [
       "            districte  seccio  sexe             nivell_estudis data_naixement  \\\n",
       "data_alta                                                                       \n",
       "2010-01-02          6       5  HOME     ESO, PRIMÀRIA O EQUIV.     1970-01-01   \n",
       "2010-01-02          2      11  DONA     ESO, PRIMÀRIA O EQUIV.     1978-01-01   \n",
       "2010-01-02          3      12  HOME              SENSE ESTUDIS     1962-01-01   \n",
       "2010-01-02          2      11  HOME     ESO, PRIMÀRIA O EQUIV.     1983-01-01   \n",
       "2010-01-02          2      17  DONA              SENSE ESTUDIS     1971-01-01   \n",
       "2010-01-02          3      17  HOME      NO APLICABLE MENOR 16     2007-01-01   \n",
       "2010-01-02          2      19  DONA    BATXILLER SUPERIOR, BUP     1975-01-01   \n",
       "2010-01-02          3      10  DONA      NO APLICABLE MENOR 16     2010-01-01   \n",
       "2010-01-02          2      11  HOME      NO APLICABLE MENOR 16     2010-01-01   \n",
       "2010-01-03          3       7  DONA     ESO, PRIMÀRIA O EQUIV.     1966-01-01   \n",
       "2010-01-03          2      15  HOME        FP 1ER GRAU O MITJÀ     1964-01-01   \n",
       "2010-01-03          3       3  HOME      NO APLICABLE MENOR 16     2010-01-01   \n",
       "2010-01-03          2       5  HOME     ESO, PRIMÀRIA O EQUIV.     1947-01-01   \n",
       "2010-01-03          3       5  HOME   DIPLOMAT ESCOLA UNIVERS.     1987-01-01   \n",
       "2010-01-03          1       5  DONA      NO APLICABLE MENOR 16     2010-01-01   \n",
       "2010-01-03          3      18  DONA   DIPLOMAT ESCOLA UNIVERS.     1970-01-01   \n",
       "2010-01-03          3      20  HOME      NO APLICABLE MENOR 16     2010-01-01   \n",
       "2010-01-03          3      10  DONA    BATXILLER SUPERIOR, BUP     1983-01-01   \n",
       "2010-01-03          3       3  DONA    BATXILLER SUPERIOR, BUP     1976-01-01   \n",
       "2010-01-04          3      15  DONA      NO APLICABLE MENOR 16     2010-01-01   \n",
       "2010-01-04          2       7  HOME     ESO, PRIMÀRIA O EQUIV.     1936-01-01   \n",
       "2010-01-04          3      20  HOME  LLICENCIAT O GRAU UNIVER.     1979-01-01   \n",
       "2010-01-04          2      13  HOME       DOCTORAT I POST-GRAU     1968-01-01   \n",
       "2010-01-04          2       7  DONA     ESO, PRIMÀRIA O EQUIV.     1935-01-01   \n",
       "2010-01-04          3       7  HOME              SENSE ESTUDIS     1977-01-01   \n",
       "2010-01-04          6       1  HOME  LLICENCIAT O GRAU UNIVER.     1972-01-01   \n",
       "2010-01-04          1       3  DONA   DIPLOMAT ESCOLA UNIVERS.     1972-01-01   \n",
       "2010-01-04          4       2  DONA  LLICENCIAT O GRAU UNIVER.     1970-01-01   \n",
       "2010-01-05          3      12  HOME      NO APLICABLE MENOR 16     2010-01-01   \n",
       "2010-01-06          3      11  DONA      NO APLICABLE MENOR 16     2010-01-01   \n",
       "...               ...     ...   ...                        ...            ...   \n",
       "2010-12-30          3       1  HOME  LLICENCIAT O GRAU UNIVER.     1982-01-01   \n",
       "2010-12-30          6       5  HOME     ESO, PRIMÀRIA O EQUIV.     1994-01-01   \n",
       "2010-12-30          3      19  DONA      NO APLICABLE MENOR 16     2010-01-01   \n",
       "2010-12-30          2      13  HOME  LLICENCIAT O GRAU UNIVER.     1957-01-01   \n",
       "2010-12-30          3       6  HOME  LLICENCIAT O GRAU UNIVER.     1978-01-01   \n",
       "2010-12-30          1       4  HOME        PRIMÀRIA INCOMPLETA     1963-01-01   \n",
       "2010-12-30          2       6  DONA      NO APLICABLE MENOR 16     2010-01-01   \n",
       "2010-12-30          3      12  HOME     ESO, PRIMÀRIA O EQUIV.     1976-01-01   \n",
       "2010-12-30          2       8  DONA  LLICENCIAT O GRAU UNIVER.     1986-01-01   \n",
       "2010-12-30          3       1  DONA  LLICENCIAT O GRAU UNIVER.     1973-01-01   \n",
       "2010-12-30          3      11  DONA   DIPLOMAT ESCOLA UNIVERS.     1974-01-01   \n",
       "2010-12-30          2      22  DONA      NO APLICABLE MENOR 16     2010-01-01   \n",
       "2010-12-30          2       8  HOME  LLICENCIAT O GRAU UNIVER.     1986-01-01   \n",
       "2010-12-30          2       5  DONA        FP 1ER GRAU O MITJÀ     1933-01-01   \n",
       "2010-12-31          3      13  DONA     ESO, PRIMÀRIA O EQUIV.     1985-01-01   \n",
       "2010-12-31          6       5  HOME      NO APLICABLE MENOR 16     2010-01-01   \n",
       "2010-12-31          1       6  HOME      NO APLICABLE MENOR 16     2001-01-01   \n",
       "2010-12-31          1       1  DONA  LLICENCIAT O GRAU UNIVER.     1986-01-01   \n",
       "2010-12-31          3       8  HOME     ESO, PRIMÀRIA O EQUIV.     1975-01-01   \n",
       "2010-12-31          1       6  HOME      NO APLICABLE MENOR 16     2006-01-01   \n",
       "2010-12-31          3      13  HOME     ESO, PRIMÀRIA O EQUIV.     1974-01-01   \n",
       "2010-12-31          3       8  HOME      NO APLICABLE MENOR 16     1999-01-01   \n",
       "2010-12-31          1       2  HOME  ARQUITECTE,ENGINYER TÈCNI     1976-01-01   \n",
       "2010-12-31          3      19  HOME    BATXILLER SUPERIOR, BUP     1968-01-01   \n",
       "2010-12-31          1       4  DONA    BATXILLER SUPERIOR, BUP     1979-01-01   \n",
       "2010-12-31          2      19  HOME     ESO, PRIMÀRIA O EQUIV.     1947-01-01   \n",
       "2010-12-31          4       2  DONA    BATXILLER SUPERIOR, BUP     1975-01-01   \n",
       "2010-12-31          2       3  HOME    BATXILLER SUPERIOR, BUP     1985-01-01   \n",
       "2010-12-31          4       2  HOME    BATXILLER SUPERIOR, BUP     1975-01-01   \n",
       "2010-12-31          6       1  HOME      NO APLICABLE MENOR 16     2010-01-01   \n",
       "\n",
       "           municipi_pais_naixement provincia_naixement nacionalitat  \\\n",
       "data_alta                                                             \n",
       "2010-01-02               MARRUECOS          EXTRANJERO    MARRUECOS   \n",
       "2010-01-02                     VIC           BARCELONA       ESPAÑA   \n",
       "2010-01-02                  GAMBIA          EXTRANJERO       GAMBIA   \n",
       "2010-01-02                  LLEIDA              LLEIDA       ESPAÑA   \n",
       "2010-01-02                  GAMBIA          EXTRANJERO       GAMBIA   \n",
       "2010-01-02                  GIRONA              GIRONA       ESPAÑA   \n",
       "2010-01-02               BARCELONA           BARCELONA       ESPAÑA   \n",
       "2010-01-02                  GIRONA              GIRONA       ESPAÑA   \n",
       "2010-01-02                  GIRONA              GIRONA       ESPAÑA   \n",
       "2010-01-03               MARRUECOS          EXTRANJERO    MARRUECOS   \n",
       "2010-01-03              LLAGOSTERA              GIRONA       ESPAÑA   \n",
       "2010-01-03                  GIRONA              GIRONA       ESPAÑA   \n",
       "2010-01-03                 TORDERA           BARCELONA       ESPAÑA   \n",
       "2010-01-03                  GIRONA              GIRONA       ESPAÑA   \n",
       "2010-01-03                  GIRONA              GIRONA    MARRUECOS   \n",
       "2010-01-03       PLANES D'HOSTOLES              GIRONA       ESPAÑA   \n",
       "2010-01-03                  GIRONA              GIRONA      UCRANIA   \n",
       "2010-01-03                 BOLIVIA          EXTRANJERO       ESPAÑA   \n",
       "2010-01-03                COLOMBIA          EXTRANJERO     COLOMBIA   \n",
       "2010-01-04                  GIRONA              GIRONA    MARRUECOS   \n",
       "2010-01-04                     <20              GIRONA       ESPAÑA   \n",
       "2010-01-04               BARCELONA           BARCELONA       ESPAÑA   \n",
       "2010-01-04               BARCELONA           BARCELONA       ESPAÑA   \n",
       "2010-01-04                 MANRESA           BARCELONA       ESPAÑA   \n",
       "2010-01-04                 SENEGAL          EXTRANJERO      SENEGAL   \n",
       "2010-01-04               PORQUERES              GIRONA       ESPAÑA   \n",
       "2010-01-04            SANT GREGORI              GIRONA       ESPAÑA   \n",
       "2010-01-04                  RIPOLL              GIRONA       ESPAÑA   \n",
       "2010-01-05                  GIRONA              GIRONA    MARRUECOS   \n",
       "2010-01-06                  GIRONA              GIRONA       ESPAÑA   \n",
       "...                            ...                 ...          ...   \n",
       "2010-12-30                  GIRONA              GIRONA       ESPAÑA   \n",
       "2010-12-30                BADALONA           BARCELONA       ESPAÑA   \n",
       "2010-12-30                  GIRONA              GIRONA       ESPAÑA   \n",
       "2010-12-30                  GIRONA              GIRONA       ESPAÑA   \n",
       "2010-12-30             VILABLAREIX              GIRONA       ESPAÑA   \n",
       "2010-12-30                     <20          EXTRANJERO          <20   \n",
       "2010-12-30                  GIRONA              GIRONA       ESPAÑA   \n",
       "2010-12-30               MARRUECOS          EXTRANJERO    MARRUECOS   \n",
       "2010-12-30                  RIPOLL              GIRONA       ESPAÑA   \n",
       "2010-12-30                    AMER              GIRONA       ESPAÑA   \n",
       "2010-12-30                  MALAGA              MÁLAGA       ESPAÑA   \n",
       "2010-12-30                  GIRONA              GIRONA       ESPAÑA   \n",
       "2010-12-30                TERRASSA           BARCELONA       ESPAÑA   \n",
       "2010-12-30               BARCELONA           BARCELONA       ESPAÑA   \n",
       "2010-12-31                   INDIA          EXTRANJERO        INDIA   \n",
       "2010-12-31                  GIRONA              GIRONA       ESPAÑA   \n",
       "2010-12-31                  GIRONA              GIRONA       ESPAÑA   \n",
       "2010-12-31                 GEORGIA          EXTRANJERO      GEORGIA   \n",
       "2010-12-31                 SENEGAL          EXTRANJERO      SENEGAL   \n",
       "2010-12-31                  GIRONA              GIRONA       ESPAÑA   \n",
       "2010-12-31                   INDIA          EXTRANJERO        INDIA   \n",
       "2010-12-31                 SENEGAL          EXTRANJERO      SENEGAL   \n",
       "2010-12-31               BARCELONA           BARCELONA       ESPAÑA   \n",
       "2010-12-31                  GIRONA              GIRONA       ESPAÑA   \n",
       "2010-12-31               MARRUECOS          EXTRANJERO    MARRUECOS   \n",
       "2010-12-31                     <20          EXTRANJERO          <20   \n",
       "2010-12-31                  GIRONA              GIRONA       ESPAÑA   \n",
       "2010-12-31                  BRASIL          EXTRANJERO       BRASIL   \n",
       "2010-12-31    S.COLOMA DE GRAMENET           BARCELONA       ESPAÑA   \n",
       "2010-12-31                  GIRONA              GIRONA       ESPAÑA   \n",
       "\n",
       "           municipi_pais_procedencia provincia_procedencia  \n",
       "data_alta                                                   \n",
       "2010-01-02                    GIRONA                GIRONA  \n",
       "2010-01-02                       <20             BARCELONA  \n",
       "2010-01-02                    GIRONA                GIRONA  \n",
       "2010-01-02                    LLEIDA                LLEIDA  \n",
       "2010-01-02                      SALT                GIRONA  \n",
       "2010-01-02                    GIRONA                GIRONA  \n",
       "2010-01-02           SANT JOAN DESPI             BARCELONA  \n",
       "2010-01-02                    GIRONA                GIRONA  \n",
       "2010-01-02                    GIRONA                GIRONA  \n",
       "2010-01-03             CERVIA DE TER                GIRONA  \n",
       "2010-01-03                LLAGOSTERA                GIRONA  \n",
       "2010-01-03                       NaN                   NaN  \n",
       "2010-01-03         BELLCAIRE EMPORDA                GIRONA  \n",
       "2010-01-03             S.JULIA RAMIS                GIRONA  \n",
       "2010-01-03                       NaN                   NaN  \n",
       "2010-01-03         PLANES D'HOSTOLES                GIRONA  \n",
       "2010-01-03                    GIRONA                GIRONA  \n",
       "2010-01-03                       <20               NAVARRA  \n",
       "2010-01-03                       <20               SEVILLA  \n",
       "2010-01-04                    GIRONA                GIRONA  \n",
       "2010-01-04                      SALT                GIRONA  \n",
       "2010-01-04                       <20             BARCELONA  \n",
       "2010-01-04                 BARCELONA             BARCELONA  \n",
       "2010-01-04                      SALT                GIRONA  \n",
       "2010-01-04                    GIRONA                GIRONA  \n",
       "2010-01-04        CORNELLÀ DEL TERRI                GIRONA  \n",
       "2010-01-04                    GIRONA                GIRONA  \n",
       "2010-01-04                 BARCELONA             BARCELONA  \n",
       "2010-01-05                    GIRONA                GIRONA  \n",
       "2010-01-06                       NaN                   NaN  \n",
       "...                              ...                   ...  \n",
       "2010-12-30              SANT GREGORI                GIRONA  \n",
       "2010-12-30                  BADALONA             BARCELONA  \n",
       "2010-12-30                       NaN                   NaN  \n",
       "2010-12-30                  VENTALLÓ                GIRONA  \n",
       "2010-12-30               VILABLAREIX                GIRONA  \n",
       "2010-12-30                      SALT                GIRONA  \n",
       "2010-12-30                    GIRONA                GIRONA  \n",
       "2010-12-30                       <20               ALACANT  \n",
       "2010-12-30                  FIGUERES                GIRONA  \n",
       "2010-12-30                      AMER                GIRONA  \n",
       "2010-12-30                   PALAMÓS                GIRONA  \n",
       "2010-12-30                       NaN                   NaN  \n",
       "2010-12-30                  TERRASSA             BARCELONA  \n",
       "2010-12-30             S.JULIA RAMIS                GIRONA  \n",
       "2010-12-31                      SALT                GIRONA  \n",
       "2010-12-31                       NaN                   NaN  \n",
       "2010-12-31                      SALT                GIRONA  \n",
       "2010-12-31                   GEORGIA            EXTRANJERO  \n",
       "2010-12-31                      SALT                GIRONA  \n",
       "2010-12-31                      SALT                GIRONA  \n",
       "2010-12-31                      SALT                GIRONA  \n",
       "2010-12-31                      SALT                GIRONA  \n",
       "2010-12-31                 BARCELONA             BARCELONA  \n",
       "2010-12-31                   CALONGE                GIRONA  \n",
       "2010-12-31                   BESCANÓ                GIRONA  \n",
       "2010-12-31                    GIRONA                GIRONA  \n",
       "2010-12-31                      SALT                GIRONA  \n",
       "2010-12-31                      SALT                GIRONA  \n",
       "2010-12-31                      SALT                GIRONA  \n",
       "2010-12-31                    GIRONA                GIRONA  \n",
       "\n",
       "[3743 rows x 10 columns]"
      ]
     },
     "execution_count": 90,
     "metadata": {},
     "output_type": "execute_result"
    }
   ],
   "source": [
    "data['2010-01-01':'2010-12-31']"
   ]
  },
  {
   "cell_type": "markdown",
   "metadata": {
    "slideshow": {
     "slide_type": "subslide"
    }
   },
   "source": [
    "Una funcionalitat interessant es la indexació \"partial string\", on podem seleccionar rangs a partir de un datetime string.\n",
    "\n",
    "Ex: Habitants inscrits durant el 2012"
   ]
  },
  {
   "cell_type": "code",
   "execution_count": 91,
   "metadata": {
    "scrolled": true
   },
   "outputs": [
    {
     "data": {
      "text/html": [
       "<div>\n",
       "<table border=\"1\" class=\"dataframe\">\n",
       "  <thead>\n",
       "    <tr style=\"text-align: right;\">\n",
       "      <th></th>\n",
       "      <th>districte</th>\n",
       "      <th>seccio</th>\n",
       "      <th>sexe</th>\n",
       "      <th>nivell_estudis</th>\n",
       "      <th>data_naixement</th>\n",
       "      <th>municipi_pais_naixement</th>\n",
       "      <th>provincia_naixement</th>\n",
       "      <th>nacionalitat</th>\n",
       "      <th>municipi_pais_procedencia</th>\n",
       "      <th>provincia_procedencia</th>\n",
       "    </tr>\n",
       "    <tr>\n",
       "      <th>data_alta</th>\n",
       "      <th></th>\n",
       "      <th></th>\n",
       "      <th></th>\n",
       "      <th></th>\n",
       "      <th></th>\n",
       "      <th></th>\n",
       "      <th></th>\n",
       "      <th></th>\n",
       "      <th></th>\n",
       "      <th></th>\n",
       "    </tr>\n",
       "  </thead>\n",
       "  <tbody>\n",
       "    <tr>\n",
       "      <th>2012-01-01</th>\n",
       "      <td>6</td>\n",
       "      <td>2</td>\n",
       "      <td>DONA</td>\n",
       "      <td>NO APLICABLE MENOR 16</td>\n",
       "      <td>2012-01-01</td>\n",
       "      <td>GIRONA</td>\n",
       "      <td>GIRONA</td>\n",
       "      <td>ESPAÑA</td>\n",
       "      <td>NaN</td>\n",
       "      <td>NaN</td>\n",
       "    </tr>\n",
       "    <tr>\n",
       "      <th>2012-01-02</th>\n",
       "      <td>2</td>\n",
       "      <td>21</td>\n",
       "      <td>DONA</td>\n",
       "      <td>NO APLICABLE MENOR 16</td>\n",
       "      <td>2012-01-01</td>\n",
       "      <td>GIRONA</td>\n",
       "      <td>GIRONA</td>\n",
       "      <td>ESPAÑA</td>\n",
       "      <td>GIRONA</td>\n",
       "      <td>GIRONA</td>\n",
       "    </tr>\n",
       "    <tr>\n",
       "      <th>2012-01-02</th>\n",
       "      <td>2</td>\n",
       "      <td>11</td>\n",
       "      <td>DONA</td>\n",
       "      <td>NO APLICABLE MENOR 16</td>\n",
       "      <td>2012-01-01</td>\n",
       "      <td>GIRONA</td>\n",
       "      <td>GIRONA</td>\n",
       "      <td>ESPAÑA</td>\n",
       "      <td>GIRONA</td>\n",
       "      <td>GIRONA</td>\n",
       "    </tr>\n",
       "    <tr>\n",
       "      <th>2012-01-02</th>\n",
       "      <td>3</td>\n",
       "      <td>4</td>\n",
       "      <td>DONA</td>\n",
       "      <td>NO APLICABLE MENOR 16</td>\n",
       "      <td>2012-01-01</td>\n",
       "      <td>GIRONA</td>\n",
       "      <td>GIRONA</td>\n",
       "      <td>ESPAÑA</td>\n",
       "      <td>NaN</td>\n",
       "      <td>NaN</td>\n",
       "    </tr>\n",
       "    <tr>\n",
       "      <th>2012-01-02</th>\n",
       "      <td>3</td>\n",
       "      <td>12</td>\n",
       "      <td>HOME</td>\n",
       "      <td>ESO, PRIMÀRIA O EQUIV.</td>\n",
       "      <td>1985-01-01</td>\n",
       "      <td>GIRONA</td>\n",
       "      <td>GIRONA</td>\n",
       "      <td>ESPAÑA</td>\n",
       "      <td>CELRÀ</td>\n",
       "      <td>GIRONA</td>\n",
       "    </tr>\n",
       "    <tr>\n",
       "      <th>2012-01-02</th>\n",
       "      <td>3</td>\n",
       "      <td>11</td>\n",
       "      <td>DONA</td>\n",
       "      <td>NO APLICABLE MENOR 16</td>\n",
       "      <td>2012-01-01</td>\n",
       "      <td>GIRONA</td>\n",
       "      <td>GIRONA</td>\n",
       "      <td>ESPAÑA</td>\n",
       "      <td>NaN</td>\n",
       "      <td>NaN</td>\n",
       "    </tr>\n",
       "    <tr>\n",
       "      <th>2012-01-03</th>\n",
       "      <td>3</td>\n",
       "      <td>14</td>\n",
       "      <td>DONA</td>\n",
       "      <td>BATXILLER SUPERIOR, BUP</td>\n",
       "      <td>1932-01-01</td>\n",
       "      <td>URUGUAY</td>\n",
       "      <td>EXTRANJERO</td>\n",
       "      <td>URUGUAY</td>\n",
       "      <td>BLANES</td>\n",
       "      <td>GIRONA</td>\n",
       "    </tr>\n",
       "    <tr>\n",
       "      <th>2012-01-03</th>\n",
       "      <td>3</td>\n",
       "      <td>15</td>\n",
       "      <td>DONA</td>\n",
       "      <td>FP 1ER GRAU O MITJÀ</td>\n",
       "      <td>1953-01-01</td>\n",
       "      <td>S. MIQUEL CAMPMAJOR</td>\n",
       "      <td>GIRONA</td>\n",
       "      <td>ESPAÑA</td>\n",
       "      <td>GIRONA</td>\n",
       "      <td>GIRONA</td>\n",
       "    </tr>\n",
       "    <tr>\n",
       "      <th>2012-01-03</th>\n",
       "      <td>3</td>\n",
       "      <td>8</td>\n",
       "      <td>HOME</td>\n",
       "      <td>NO APLICABLE MENOR 16</td>\n",
       "      <td>2007-01-01</td>\n",
       "      <td>MARRUECOS</td>\n",
       "      <td>EXTRANJERO</td>\n",
       "      <td>MARRUECOS</td>\n",
       "      <td>SALT</td>\n",
       "      <td>GIRONA</td>\n",
       "    </tr>\n",
       "    <tr>\n",
       "      <th>2012-01-03</th>\n",
       "      <td>3</td>\n",
       "      <td>16</td>\n",
       "      <td>HOME</td>\n",
       "      <td>NO APLICABLE MENOR 16</td>\n",
       "      <td>2010-01-01</td>\n",
       "      <td>SALT</td>\n",
       "      <td>GIRONA</td>\n",
       "      <td>ESPAÑA</td>\n",
       "      <td>SALT</td>\n",
       "      <td>GIRONA</td>\n",
       "    </tr>\n",
       "    <tr>\n",
       "      <th>2012-01-03</th>\n",
       "      <td>6</td>\n",
       "      <td>1</td>\n",
       "      <td>HOME</td>\n",
       "      <td>NO APLICABLE MENOR 16</td>\n",
       "      <td>1998-01-01</td>\n",
       "      <td>GIRONA</td>\n",
       "      <td>GIRONA</td>\n",
       "      <td>ESPAÑA</td>\n",
       "      <td>&lt;20</td>\n",
       "      <td>GIRONA</td>\n",
       "    </tr>\n",
       "    <tr>\n",
       "      <th>2012-01-03</th>\n",
       "      <td>5</td>\n",
       "      <td>2</td>\n",
       "      <td>DONA</td>\n",
       "      <td>NO APLICABLE MENOR 16</td>\n",
       "      <td>2008-01-01</td>\n",
       "      <td>SARRIÀ DE TER</td>\n",
       "      <td>GIRONA</td>\n",
       "      <td>ESPAÑA</td>\n",
       "      <td>SARRIÀ DE TER</td>\n",
       "      <td>GIRONA</td>\n",
       "    </tr>\n",
       "    <tr>\n",
       "      <th>2012-01-03</th>\n",
       "      <td>2</td>\n",
       "      <td>6</td>\n",
       "      <td>DONA</td>\n",
       "      <td>NO APLICABLE MENOR 16</td>\n",
       "      <td>2005-01-01</td>\n",
       "      <td>GIRONA</td>\n",
       "      <td>GIRONA</td>\n",
       "      <td>RUMANIA</td>\n",
       "      <td>GIRONA</td>\n",
       "      <td>GIRONA</td>\n",
       "    </tr>\n",
       "    <tr>\n",
       "      <th>2012-01-03</th>\n",
       "      <td>2</td>\n",
       "      <td>18</td>\n",
       "      <td>HOME</td>\n",
       "      <td>BATXILLER SUPERIOR, BUP</td>\n",
       "      <td>1991-01-01</td>\n",
       "      <td>BEGUR</td>\n",
       "      <td>GIRONA</td>\n",
       "      <td>ESPAÑA</td>\n",
       "      <td>BEGUR</td>\n",
       "      <td>GIRONA</td>\n",
       "    </tr>\n",
       "    <tr>\n",
       "      <th>2012-01-03</th>\n",
       "      <td>3</td>\n",
       "      <td>8</td>\n",
       "      <td>DONA</td>\n",
       "      <td>PRIMÀRIA INCOMPLETA</td>\n",
       "      <td>1965-01-01</td>\n",
       "      <td>MARRUECOS</td>\n",
       "      <td>EXTRANJERO</td>\n",
       "      <td>MARRUECOS</td>\n",
       "      <td>SALT</td>\n",
       "      <td>GIRONA</td>\n",
       "    </tr>\n",
       "    <tr>\n",
       "      <th>2012-01-03</th>\n",
       "      <td>3</td>\n",
       "      <td>15</td>\n",
       "      <td>DONA</td>\n",
       "      <td>LLICENCIAT O GRAU UNIVER.</td>\n",
       "      <td>1979-01-01</td>\n",
       "      <td>GIRONA</td>\n",
       "      <td>GIRONA</td>\n",
       "      <td>ESPAÑA</td>\n",
       "      <td>GIRONA</td>\n",
       "      <td>GIRONA</td>\n",
       "    </tr>\n",
       "    <tr>\n",
       "      <th>2012-01-03</th>\n",
       "      <td>3</td>\n",
       "      <td>16</td>\n",
       "      <td>HOME</td>\n",
       "      <td>LLICENCIAT O GRAU UNIVER.</td>\n",
       "      <td>1977-01-01</td>\n",
       "      <td>GIRONA</td>\n",
       "      <td>GIRONA</td>\n",
       "      <td>ESPAÑA</td>\n",
       "      <td>SALT</td>\n",
       "      <td>GIRONA</td>\n",
       "    </tr>\n",
       "    <tr>\n",
       "      <th>2012-01-03</th>\n",
       "      <td>2</td>\n",
       "      <td>19</td>\n",
       "      <td>HOME</td>\n",
       "      <td>ALTRES TÍTOLS DE GRAU MIG</td>\n",
       "      <td>1941-01-01</td>\n",
       "      <td>BARCELONA</td>\n",
       "      <td>BARCELONA</td>\n",
       "      <td>ESPAÑA</td>\n",
       "      <td>SABADELL</td>\n",
       "      <td>BARCELONA</td>\n",
       "    </tr>\n",
       "    <tr>\n",
       "      <th>2012-01-03</th>\n",
       "      <td>1</td>\n",
       "      <td>4</td>\n",
       "      <td>HOME</td>\n",
       "      <td>BATXILLER SUPERIOR, BUP</td>\n",
       "      <td>1972-01-01</td>\n",
       "      <td>COLOMBIA</td>\n",
       "      <td>EXTRANJERO</td>\n",
       "      <td>ESPAÑA</td>\n",
       "      <td>SALT</td>\n",
       "      <td>GIRONA</td>\n",
       "    </tr>\n",
       "    <tr>\n",
       "      <th>2012-01-03</th>\n",
       "      <td>3</td>\n",
       "      <td>9</td>\n",
       "      <td>HOME</td>\n",
       "      <td>ESO, PRIMÀRIA O EQUIV.</td>\n",
       "      <td>1970-01-01</td>\n",
       "      <td>MARRUECOS</td>\n",
       "      <td>EXTRANJERO</td>\n",
       "      <td>ESPAÑA</td>\n",
       "      <td>BANYOLES</td>\n",
       "      <td>GIRONA</td>\n",
       "    </tr>\n",
       "    <tr>\n",
       "      <th>2012-01-03</th>\n",
       "      <td>5</td>\n",
       "      <td>3</td>\n",
       "      <td>HOME</td>\n",
       "      <td>ESO, PRIMÀRIA O EQUIV.</td>\n",
       "      <td>1969-01-01</td>\n",
       "      <td>BRASIL</td>\n",
       "      <td>EXTRANJERO</td>\n",
       "      <td>BRASIL</td>\n",
       "      <td>S.JULIA RAMIS</td>\n",
       "      <td>GIRONA</td>\n",
       "    </tr>\n",
       "    <tr>\n",
       "      <th>2012-01-03</th>\n",
       "      <td>3</td>\n",
       "      <td>9</td>\n",
       "      <td>DONA</td>\n",
       "      <td>LLICENCIAT O GRAU UNIVER.</td>\n",
       "      <td>1982-01-01</td>\n",
       "      <td>MARRUECOS</td>\n",
       "      <td>EXTRANJERO</td>\n",
       "      <td>MARRUECOS</td>\n",
       "      <td>BANYOLES</td>\n",
       "      <td>GIRONA</td>\n",
       "    </tr>\n",
       "    <tr>\n",
       "      <th>2012-01-03</th>\n",
       "      <td>3</td>\n",
       "      <td>9</td>\n",
       "      <td>DONA</td>\n",
       "      <td>NO APLICABLE MENOR 16</td>\n",
       "      <td>2009-01-01</td>\n",
       "      <td>BANYOLES</td>\n",
       "      <td>GIRONA</td>\n",
       "      <td>ESPAÑA</td>\n",
       "      <td>BANYOLES</td>\n",
       "      <td>GIRONA</td>\n",
       "    </tr>\n",
       "    <tr>\n",
       "      <th>2012-01-03</th>\n",
       "      <td>2</td>\n",
       "      <td>11</td>\n",
       "      <td>HOME</td>\n",
       "      <td>BATXILLER SUPERIOR, BUP</td>\n",
       "      <td>1977-01-01</td>\n",
       "      <td>FRANCIA</td>\n",
       "      <td>EXTRANJERO</td>\n",
       "      <td>FRANCIA</td>\n",
       "      <td>CASSÀ DE LA SELVA</td>\n",
       "      <td>GIRONA</td>\n",
       "    </tr>\n",
       "    <tr>\n",
       "      <th>2012-01-03</th>\n",
       "      <td>3</td>\n",
       "      <td>11</td>\n",
       "      <td>DONA</td>\n",
       "      <td>NO APLICABLE MENOR 16</td>\n",
       "      <td>2005-01-01</td>\n",
       "      <td>SALT</td>\n",
       "      <td>GIRONA</td>\n",
       "      <td>ESPAÑA</td>\n",
       "      <td>SALT</td>\n",
       "      <td>GIRONA</td>\n",
       "    </tr>\n",
       "    <tr>\n",
       "      <th>2012-01-03</th>\n",
       "      <td>5</td>\n",
       "      <td>3</td>\n",
       "      <td>DONA</td>\n",
       "      <td>FP 1ER GRAU O MITJÀ</td>\n",
       "      <td>1973-01-01</td>\n",
       "      <td>UCRANIA</td>\n",
       "      <td>EXTRANJERO</td>\n",
       "      <td>ESPAÑA</td>\n",
       "      <td>CAMÓS</td>\n",
       "      <td>GIRONA</td>\n",
       "    </tr>\n",
       "    <tr>\n",
       "      <th>2012-01-03</th>\n",
       "      <td>5</td>\n",
       "      <td>3</td>\n",
       "      <td>DONA</td>\n",
       "      <td>ESO, PRIMÀRIA O EQUIV.</td>\n",
       "      <td>1995-01-01</td>\n",
       "      <td>UCRANIA</td>\n",
       "      <td>EXTRANJERO</td>\n",
       "      <td>ESPAÑA</td>\n",
       "      <td>CAMÓS</td>\n",
       "      <td>GIRONA</td>\n",
       "    </tr>\n",
       "    <tr>\n",
       "      <th>2012-01-03</th>\n",
       "      <td>2</td>\n",
       "      <td>4</td>\n",
       "      <td>DONA</td>\n",
       "      <td>BATXILLER SUPERIOR, BUP</td>\n",
       "      <td>1976-01-01</td>\n",
       "      <td>GIRONA</td>\n",
       "      <td>GIRONA</td>\n",
       "      <td>ESPAÑA</td>\n",
       "      <td>ANDORRA</td>\n",
       "      <td>EXTRANJERO</td>\n",
       "    </tr>\n",
       "    <tr>\n",
       "      <th>2012-01-04</th>\n",
       "      <td>3</td>\n",
       "      <td>9</td>\n",
       "      <td>HOME</td>\n",
       "      <td>NO APLICABLE MENOR 16</td>\n",
       "      <td>2012-01-01</td>\n",
       "      <td>GIRONA</td>\n",
       "      <td>GIRONA</td>\n",
       "      <td>ESPAÑA</td>\n",
       "      <td>GIRONA</td>\n",
       "      <td>GIRONA</td>\n",
       "    </tr>\n",
       "    <tr>\n",
       "      <th>2012-01-05</th>\n",
       "      <td>2</td>\n",
       "      <td>11</td>\n",
       "      <td>HOME</td>\n",
       "      <td>NO APLICABLE MENOR 16</td>\n",
       "      <td>2012-01-01</td>\n",
       "      <td>GIRONA</td>\n",
       "      <td>GIRONA</td>\n",
       "      <td>ESPAÑA</td>\n",
       "      <td>GIRONA</td>\n",
       "      <td>GIRONA</td>\n",
       "    </tr>\n",
       "    <tr>\n",
       "      <th>...</th>\n",
       "      <td>...</td>\n",
       "      <td>...</td>\n",
       "      <td>...</td>\n",
       "      <td>...</td>\n",
       "      <td>...</td>\n",
       "      <td>...</td>\n",
       "      <td>...</td>\n",
       "      <td>...</td>\n",
       "      <td>...</td>\n",
       "      <td>...</td>\n",
       "    </tr>\n",
       "    <tr>\n",
       "      <th>2012-12-28</th>\n",
       "      <td>3</td>\n",
       "      <td>2</td>\n",
       "      <td>HOME</td>\n",
       "      <td>LLICENCIAT O GRAU UNIVER.</td>\n",
       "      <td>1948-01-01</td>\n",
       "      <td>TORROELLA MONTGRI</td>\n",
       "      <td>GIRONA</td>\n",
       "      <td>ESPAÑA</td>\n",
       "      <td>BARCELONA</td>\n",
       "      <td>BARCELONA</td>\n",
       "    </tr>\n",
       "    <tr>\n",
       "      <th>2012-12-28</th>\n",
       "      <td>1</td>\n",
       "      <td>2</td>\n",
       "      <td>DONA</td>\n",
       "      <td>LLICENCIAT O GRAU UNIVER.</td>\n",
       "      <td>1980-01-01</td>\n",
       "      <td>S.JULIA RAMIS</td>\n",
       "      <td>GIRONA</td>\n",
       "      <td>ESPAÑA</td>\n",
       "      <td>S.JULIA RAMIS</td>\n",
       "      <td>GIRONA</td>\n",
       "    </tr>\n",
       "    <tr>\n",
       "      <th>2012-12-28</th>\n",
       "      <td>3</td>\n",
       "      <td>18</td>\n",
       "      <td>DONA</td>\n",
       "      <td>ESO, PRIMÀRIA O EQUIV.</td>\n",
       "      <td>1989-01-01</td>\n",
       "      <td>RUMANIA</td>\n",
       "      <td>EXTRANJERO</td>\n",
       "      <td>RUMANIA</td>\n",
       "      <td>&lt;20</td>\n",
       "      <td>MADRID</td>\n",
       "    </tr>\n",
       "    <tr>\n",
       "      <th>2012-12-28</th>\n",
       "      <td>3</td>\n",
       "      <td>1</td>\n",
       "      <td>DONA</td>\n",
       "      <td>ESO, PRIMÀRIA O EQUIV.</td>\n",
       "      <td>1932-01-01</td>\n",
       "      <td>&lt;20</td>\n",
       "      <td>TERUEL</td>\n",
       "      <td>ESPAÑA</td>\n",
       "      <td>CALONGE</td>\n",
       "      <td>GIRONA</td>\n",
       "    </tr>\n",
       "    <tr>\n",
       "      <th>2012-12-28</th>\n",
       "      <td>3</td>\n",
       "      <td>18</td>\n",
       "      <td>HOME</td>\n",
       "      <td>ESO, PRIMÀRIA O EQUIV.</td>\n",
       "      <td>1985-01-01</td>\n",
       "      <td>RUMANIA</td>\n",
       "      <td>EXTRANJERO</td>\n",
       "      <td>RUMANIA</td>\n",
       "      <td>&lt;20</td>\n",
       "      <td>CIUDAD REAL</td>\n",
       "    </tr>\n",
       "    <tr>\n",
       "      <th>2012-12-28</th>\n",
       "      <td>2</td>\n",
       "      <td>9</td>\n",
       "      <td>HOME</td>\n",
       "      <td>NO APLICABLE MENOR 16</td>\n",
       "      <td>2012-01-01</td>\n",
       "      <td>GIRONA</td>\n",
       "      <td>GIRONA</td>\n",
       "      <td>ESPAÑA</td>\n",
       "      <td>GIRONA</td>\n",
       "      <td>GIRONA</td>\n",
       "    </tr>\n",
       "    <tr>\n",
       "      <th>2012-12-29</th>\n",
       "      <td>2</td>\n",
       "      <td>19</td>\n",
       "      <td>DONA</td>\n",
       "      <td>DIPLOMAT ESCOLA UNIVERS.</td>\n",
       "      <td>1978-01-01</td>\n",
       "      <td>BARCELONA</td>\n",
       "      <td>BARCELONA</td>\n",
       "      <td>ESPAÑA</td>\n",
       "      <td>CASSÀ DE LA SELVA</td>\n",
       "      <td>GIRONA</td>\n",
       "    </tr>\n",
       "    <tr>\n",
       "      <th>2012-12-29</th>\n",
       "      <td>2</td>\n",
       "      <td>19</td>\n",
       "      <td>HOME</td>\n",
       "      <td>NO APLICABLE MENOR 16</td>\n",
       "      <td>2008-01-01</td>\n",
       "      <td>GIRONA</td>\n",
       "      <td>GIRONA</td>\n",
       "      <td>ESPAÑA</td>\n",
       "      <td>CASSÀ DE LA SELVA</td>\n",
       "      <td>GIRONA</td>\n",
       "    </tr>\n",
       "    <tr>\n",
       "      <th>2012-12-29</th>\n",
       "      <td>4</td>\n",
       "      <td>1</td>\n",
       "      <td>HOME</td>\n",
       "      <td>NO APLICABLE MENOR 16</td>\n",
       "      <td>2012-01-01</td>\n",
       "      <td>GIRONA</td>\n",
       "      <td>GIRONA</td>\n",
       "      <td>ESPAÑA</td>\n",
       "      <td>NaN</td>\n",
       "      <td>NaN</td>\n",
       "    </tr>\n",
       "    <tr>\n",
       "      <th>2012-12-29</th>\n",
       "      <td>1</td>\n",
       "      <td>6</td>\n",
       "      <td>HOME</td>\n",
       "      <td>NO APLICABLE MENOR 16</td>\n",
       "      <td>2012-01-01</td>\n",
       "      <td>GIRONA</td>\n",
       "      <td>GIRONA</td>\n",
       "      <td>MARRUECOS</td>\n",
       "      <td>GIRONA</td>\n",
       "      <td>GIRONA</td>\n",
       "    </tr>\n",
       "    <tr>\n",
       "      <th>2012-12-29</th>\n",
       "      <td>2</td>\n",
       "      <td>19</td>\n",
       "      <td>HOME</td>\n",
       "      <td>NO APLICABLE MENOR 16</td>\n",
       "      <td>2011-01-01</td>\n",
       "      <td>CASSÀ DE LA SELVA</td>\n",
       "      <td>GIRONA</td>\n",
       "      <td>ESPAÑA</td>\n",
       "      <td>CASSÀ DE LA SELVA</td>\n",
       "      <td>GIRONA</td>\n",
       "    </tr>\n",
       "    <tr>\n",
       "      <th>2012-12-30</th>\n",
       "      <td>2</td>\n",
       "      <td>22</td>\n",
       "      <td>DONA</td>\n",
       "      <td>NO APLICABLE MENOR 16</td>\n",
       "      <td>2012-01-01</td>\n",
       "      <td>GIRONA</td>\n",
       "      <td>GIRONA</td>\n",
       "      <td>ESPAÑA</td>\n",
       "      <td>GIRONA</td>\n",
       "      <td>GIRONA</td>\n",
       "    </tr>\n",
       "    <tr>\n",
       "      <th>2012-12-30</th>\n",
       "      <td>2</td>\n",
       "      <td>8</td>\n",
       "      <td>DONA</td>\n",
       "      <td>NO APLICABLE MENOR 16</td>\n",
       "      <td>2012-01-01</td>\n",
       "      <td>GIRONA</td>\n",
       "      <td>GIRONA</td>\n",
       "      <td>MARRUECOS</td>\n",
       "      <td>GIRONA</td>\n",
       "      <td>GIRONA</td>\n",
       "    </tr>\n",
       "    <tr>\n",
       "      <th>2012-12-30</th>\n",
       "      <td>1</td>\n",
       "      <td>1</td>\n",
       "      <td>HOME</td>\n",
       "      <td>NO APLICABLE MENOR 16</td>\n",
       "      <td>2012-01-01</td>\n",
       "      <td>GIRONA</td>\n",
       "      <td>GIRONA</td>\n",
       "      <td>ESPAÑA</td>\n",
       "      <td>GIRONA</td>\n",
       "      <td>GIRONA</td>\n",
       "    </tr>\n",
       "    <tr>\n",
       "      <th>2012-12-30</th>\n",
       "      <td>2</td>\n",
       "      <td>11</td>\n",
       "      <td>DONA</td>\n",
       "      <td>NO APLICABLE MENOR 16</td>\n",
       "      <td>2012-01-01</td>\n",
       "      <td>GIRONA</td>\n",
       "      <td>GIRONA</td>\n",
       "      <td>RUMANIA</td>\n",
       "      <td>GIRONA</td>\n",
       "      <td>GIRONA</td>\n",
       "    </tr>\n",
       "    <tr>\n",
       "      <th>2012-12-30</th>\n",
       "      <td>5</td>\n",
       "      <td>5</td>\n",
       "      <td>HOME</td>\n",
       "      <td>NO APLICABLE MENOR 16</td>\n",
       "      <td>2012-01-01</td>\n",
       "      <td>GIRONA</td>\n",
       "      <td>GIRONA</td>\n",
       "      <td>ESPAÑA</td>\n",
       "      <td>GIRONA</td>\n",
       "      <td>GIRONA</td>\n",
       "    </tr>\n",
       "    <tr>\n",
       "      <th>2012-12-30</th>\n",
       "      <td>3</td>\n",
       "      <td>10</td>\n",
       "      <td>DONA</td>\n",
       "      <td>NO APLICABLE MENOR 16</td>\n",
       "      <td>2012-01-01</td>\n",
       "      <td>GIRONA</td>\n",
       "      <td>GIRONA</td>\n",
       "      <td>BULGARIA</td>\n",
       "      <td>NaN</td>\n",
       "      <td>NaN</td>\n",
       "    </tr>\n",
       "    <tr>\n",
       "      <th>2012-12-31</th>\n",
       "      <td>3</td>\n",
       "      <td>13</td>\n",
       "      <td>DONA</td>\n",
       "      <td>NO APLICABLE MENOR 16</td>\n",
       "      <td>2012-01-01</td>\n",
       "      <td>GIRONA</td>\n",
       "      <td>GIRONA</td>\n",
       "      <td>HONDURAS</td>\n",
       "      <td>NaN</td>\n",
       "      <td>NaN</td>\n",
       "    </tr>\n",
       "    <tr>\n",
       "      <th>2012-12-31</th>\n",
       "      <td>3</td>\n",
       "      <td>10</td>\n",
       "      <td>DONA</td>\n",
       "      <td>ESO, PRIMÀRIA O EQUIV.</td>\n",
       "      <td>1986-01-01</td>\n",
       "      <td>MOLDAVIA</td>\n",
       "      <td>EXTRANJERO</td>\n",
       "      <td>MOLDAVIA</td>\n",
       "      <td>FLAÇÀ</td>\n",
       "      <td>GIRONA</td>\n",
       "    </tr>\n",
       "    <tr>\n",
       "      <th>2012-12-31</th>\n",
       "      <td>1</td>\n",
       "      <td>1</td>\n",
       "      <td>HOME</td>\n",
       "      <td>FP 2ON GRAU O SUPERIOR</td>\n",
       "      <td>1981-01-01</td>\n",
       "      <td>SANT CELONI</td>\n",
       "      <td>BARCELONA</td>\n",
       "      <td>ESPAÑA</td>\n",
       "      <td>SANT CELONI</td>\n",
       "      <td>BARCELONA</td>\n",
       "    </tr>\n",
       "    <tr>\n",
       "      <th>2012-12-31</th>\n",
       "      <td>5</td>\n",
       "      <td>3</td>\n",
       "      <td>HOME</td>\n",
       "      <td>NO APLICABLE MENOR 16</td>\n",
       "      <td>2012-01-01</td>\n",
       "      <td>GIRONA</td>\n",
       "      <td>GIRONA</td>\n",
       "      <td>ESPAÑA</td>\n",
       "      <td>GIRONA</td>\n",
       "      <td>GIRONA</td>\n",
       "    </tr>\n",
       "    <tr>\n",
       "      <th>2012-12-31</th>\n",
       "      <td>5</td>\n",
       "      <td>2</td>\n",
       "      <td>DONA</td>\n",
       "      <td>NO APLICABLE MENOR 16</td>\n",
       "      <td>2012-01-01</td>\n",
       "      <td>GIRONA</td>\n",
       "      <td>GIRONA</td>\n",
       "      <td>ESPAÑA</td>\n",
       "      <td>GIRONA</td>\n",
       "      <td>GIRONA</td>\n",
       "    </tr>\n",
       "    <tr>\n",
       "      <th>2012-12-31</th>\n",
       "      <td>6</td>\n",
       "      <td>3</td>\n",
       "      <td>DONA</td>\n",
       "      <td>LLICENCIAT O GRAU UNIVER.</td>\n",
       "      <td>1987-01-01</td>\n",
       "      <td>GIRONA</td>\n",
       "      <td>GIRONA</td>\n",
       "      <td>ESPAÑA</td>\n",
       "      <td>SARRIÀ DE TER</td>\n",
       "      <td>GIRONA</td>\n",
       "    </tr>\n",
       "    <tr>\n",
       "      <th>2012-12-31</th>\n",
       "      <td>3</td>\n",
       "      <td>2</td>\n",
       "      <td>DONA</td>\n",
       "      <td>NO APLICABLE MENOR 16</td>\n",
       "      <td>2010-01-01</td>\n",
       "      <td>BANYOLES</td>\n",
       "      <td>GIRONA</td>\n",
       "      <td>ESPAÑA</td>\n",
       "      <td>BANYOLES</td>\n",
       "      <td>GIRONA</td>\n",
       "    </tr>\n",
       "    <tr>\n",
       "      <th>2012-12-31</th>\n",
       "      <td>3</td>\n",
       "      <td>10</td>\n",
       "      <td>HOME</td>\n",
       "      <td>NO APLICABLE MENOR 16</td>\n",
       "      <td>2011-01-01</td>\n",
       "      <td>GIRONA</td>\n",
       "      <td>GIRONA</td>\n",
       "      <td>MOLDAVIA</td>\n",
       "      <td>FLAÇÀ</td>\n",
       "      <td>GIRONA</td>\n",
       "    </tr>\n",
       "    <tr>\n",
       "      <th>2012-12-31</th>\n",
       "      <td>2</td>\n",
       "      <td>18</td>\n",
       "      <td>DONA</td>\n",
       "      <td>NO APLICABLE MENOR 16</td>\n",
       "      <td>2012-01-01</td>\n",
       "      <td>GIRONA</td>\n",
       "      <td>GIRONA</td>\n",
       "      <td>ESPAÑA</td>\n",
       "      <td>GIRONA</td>\n",
       "      <td>GIRONA</td>\n",
       "    </tr>\n",
       "    <tr>\n",
       "      <th>2012-12-31</th>\n",
       "      <td>3</td>\n",
       "      <td>4</td>\n",
       "      <td>DONA</td>\n",
       "      <td>LLICENCIAT O GRAU UNIVER.</td>\n",
       "      <td>1946-01-01</td>\n",
       "      <td>GIRONA</td>\n",
       "      <td>GIRONA</td>\n",
       "      <td>ESPAÑA</td>\n",
       "      <td>GIRONA</td>\n",
       "      <td>GIRONA</td>\n",
       "    </tr>\n",
       "    <tr>\n",
       "      <th>2012-12-31</th>\n",
       "      <td>2</td>\n",
       "      <td>13</td>\n",
       "      <td>HOME</td>\n",
       "      <td>LLICENCIAT O GRAU UNIVER.</td>\n",
       "      <td>1976-01-01</td>\n",
       "      <td>UCRANIA</td>\n",
       "      <td>EXTRANJERO</td>\n",
       "      <td>UCRANIA</td>\n",
       "      <td>GIRONA</td>\n",
       "      <td>GIRONA</td>\n",
       "    </tr>\n",
       "    <tr>\n",
       "      <th>2012-12-31</th>\n",
       "      <td>3</td>\n",
       "      <td>14</td>\n",
       "      <td>DONA</td>\n",
       "      <td>ESO, PRIMÀRIA O EQUIV.</td>\n",
       "      <td>1961-01-01</td>\n",
       "      <td>RUMANIA</td>\n",
       "      <td>EXTRANJERO</td>\n",
       "      <td>RUMANIA</td>\n",
       "      <td>RUMANIA</td>\n",
       "      <td>EXTRANJERO</td>\n",
       "    </tr>\n",
       "    <tr>\n",
       "      <th>2012-12-31</th>\n",
       "      <td>3</td>\n",
       "      <td>10</td>\n",
       "      <td>HOME</td>\n",
       "      <td>ESO, PRIMÀRIA O EQUIV.</td>\n",
       "      <td>1982-01-01</td>\n",
       "      <td>MOLDAVIA</td>\n",
       "      <td>EXTRANJERO</td>\n",
       "      <td>MOLDAVIA</td>\n",
       "      <td>FLAÇÀ</td>\n",
       "      <td>GIRONA</td>\n",
       "    </tr>\n",
       "  </tbody>\n",
       "</table>\n",
       "<p>4106 rows × 10 columns</p>\n",
       "</div>"
      ],
      "text/plain": [
       "            districte  seccio  sexe             nivell_estudis data_naixement  \\\n",
       "data_alta                                                                       \n",
       "2012-01-01          6       2  DONA      NO APLICABLE MENOR 16     2012-01-01   \n",
       "2012-01-02          2      21  DONA      NO APLICABLE MENOR 16     2012-01-01   \n",
       "2012-01-02          2      11  DONA      NO APLICABLE MENOR 16     2012-01-01   \n",
       "2012-01-02          3       4  DONA      NO APLICABLE MENOR 16     2012-01-01   \n",
       "2012-01-02          3      12  HOME     ESO, PRIMÀRIA O EQUIV.     1985-01-01   \n",
       "2012-01-02          3      11  DONA      NO APLICABLE MENOR 16     2012-01-01   \n",
       "2012-01-03          3      14  DONA    BATXILLER SUPERIOR, BUP     1932-01-01   \n",
       "2012-01-03          3      15  DONA        FP 1ER GRAU O MITJÀ     1953-01-01   \n",
       "2012-01-03          3       8  HOME      NO APLICABLE MENOR 16     2007-01-01   \n",
       "2012-01-03          3      16  HOME      NO APLICABLE MENOR 16     2010-01-01   \n",
       "2012-01-03          6       1  HOME      NO APLICABLE MENOR 16     1998-01-01   \n",
       "2012-01-03          5       2  DONA      NO APLICABLE MENOR 16     2008-01-01   \n",
       "2012-01-03          2       6  DONA      NO APLICABLE MENOR 16     2005-01-01   \n",
       "2012-01-03          2      18  HOME    BATXILLER SUPERIOR, BUP     1991-01-01   \n",
       "2012-01-03          3       8  DONA        PRIMÀRIA INCOMPLETA     1965-01-01   \n",
       "2012-01-03          3      15  DONA  LLICENCIAT O GRAU UNIVER.     1979-01-01   \n",
       "2012-01-03          3      16  HOME  LLICENCIAT O GRAU UNIVER.     1977-01-01   \n",
       "2012-01-03          2      19  HOME  ALTRES TÍTOLS DE GRAU MIG     1941-01-01   \n",
       "2012-01-03          1       4  HOME    BATXILLER SUPERIOR, BUP     1972-01-01   \n",
       "2012-01-03          3       9  HOME     ESO, PRIMÀRIA O EQUIV.     1970-01-01   \n",
       "2012-01-03          5       3  HOME     ESO, PRIMÀRIA O EQUIV.     1969-01-01   \n",
       "2012-01-03          3       9  DONA  LLICENCIAT O GRAU UNIVER.     1982-01-01   \n",
       "2012-01-03          3       9  DONA      NO APLICABLE MENOR 16     2009-01-01   \n",
       "2012-01-03          2      11  HOME    BATXILLER SUPERIOR, BUP     1977-01-01   \n",
       "2012-01-03          3      11  DONA      NO APLICABLE MENOR 16     2005-01-01   \n",
       "2012-01-03          5       3  DONA        FP 1ER GRAU O MITJÀ     1973-01-01   \n",
       "2012-01-03          5       3  DONA     ESO, PRIMÀRIA O EQUIV.     1995-01-01   \n",
       "2012-01-03          2       4  DONA    BATXILLER SUPERIOR, BUP     1976-01-01   \n",
       "2012-01-04          3       9  HOME      NO APLICABLE MENOR 16     2012-01-01   \n",
       "2012-01-05          2      11  HOME      NO APLICABLE MENOR 16     2012-01-01   \n",
       "...               ...     ...   ...                        ...            ...   \n",
       "2012-12-28          3       2  HOME  LLICENCIAT O GRAU UNIVER.     1948-01-01   \n",
       "2012-12-28          1       2  DONA  LLICENCIAT O GRAU UNIVER.     1980-01-01   \n",
       "2012-12-28          3      18  DONA     ESO, PRIMÀRIA O EQUIV.     1989-01-01   \n",
       "2012-12-28          3       1  DONA     ESO, PRIMÀRIA O EQUIV.     1932-01-01   \n",
       "2012-12-28          3      18  HOME     ESO, PRIMÀRIA O EQUIV.     1985-01-01   \n",
       "2012-12-28          2       9  HOME      NO APLICABLE MENOR 16     2012-01-01   \n",
       "2012-12-29          2      19  DONA   DIPLOMAT ESCOLA UNIVERS.     1978-01-01   \n",
       "2012-12-29          2      19  HOME      NO APLICABLE MENOR 16     2008-01-01   \n",
       "2012-12-29          4       1  HOME      NO APLICABLE MENOR 16     2012-01-01   \n",
       "2012-12-29          1       6  HOME      NO APLICABLE MENOR 16     2012-01-01   \n",
       "2012-12-29          2      19  HOME      NO APLICABLE MENOR 16     2011-01-01   \n",
       "2012-12-30          2      22  DONA      NO APLICABLE MENOR 16     2012-01-01   \n",
       "2012-12-30          2       8  DONA      NO APLICABLE MENOR 16     2012-01-01   \n",
       "2012-12-30          1       1  HOME      NO APLICABLE MENOR 16     2012-01-01   \n",
       "2012-12-30          2      11  DONA      NO APLICABLE MENOR 16     2012-01-01   \n",
       "2012-12-30          5       5  HOME      NO APLICABLE MENOR 16     2012-01-01   \n",
       "2012-12-30          3      10  DONA      NO APLICABLE MENOR 16     2012-01-01   \n",
       "2012-12-31          3      13  DONA      NO APLICABLE MENOR 16     2012-01-01   \n",
       "2012-12-31          3      10  DONA     ESO, PRIMÀRIA O EQUIV.     1986-01-01   \n",
       "2012-12-31          1       1  HOME     FP 2ON GRAU O SUPERIOR     1981-01-01   \n",
       "2012-12-31          5       3  HOME      NO APLICABLE MENOR 16     2012-01-01   \n",
       "2012-12-31          5       2  DONA      NO APLICABLE MENOR 16     2012-01-01   \n",
       "2012-12-31          6       3  DONA  LLICENCIAT O GRAU UNIVER.     1987-01-01   \n",
       "2012-12-31          3       2  DONA      NO APLICABLE MENOR 16     2010-01-01   \n",
       "2012-12-31          3      10  HOME      NO APLICABLE MENOR 16     2011-01-01   \n",
       "2012-12-31          2      18  DONA      NO APLICABLE MENOR 16     2012-01-01   \n",
       "2012-12-31          3       4  DONA  LLICENCIAT O GRAU UNIVER.     1946-01-01   \n",
       "2012-12-31          2      13  HOME  LLICENCIAT O GRAU UNIVER.     1976-01-01   \n",
       "2012-12-31          3      14  DONA     ESO, PRIMÀRIA O EQUIV.     1961-01-01   \n",
       "2012-12-31          3      10  HOME     ESO, PRIMÀRIA O EQUIV.     1982-01-01   \n",
       "\n",
       "           municipi_pais_naixement provincia_naixement nacionalitat  \\\n",
       "data_alta                                                             \n",
       "2012-01-01                  GIRONA              GIRONA       ESPAÑA   \n",
       "2012-01-02                  GIRONA              GIRONA       ESPAÑA   \n",
       "2012-01-02                  GIRONA              GIRONA       ESPAÑA   \n",
       "2012-01-02                  GIRONA              GIRONA       ESPAÑA   \n",
       "2012-01-02                  GIRONA              GIRONA       ESPAÑA   \n",
       "2012-01-02                  GIRONA              GIRONA       ESPAÑA   \n",
       "2012-01-03                 URUGUAY          EXTRANJERO      URUGUAY   \n",
       "2012-01-03     S. MIQUEL CAMPMAJOR              GIRONA       ESPAÑA   \n",
       "2012-01-03               MARRUECOS          EXTRANJERO    MARRUECOS   \n",
       "2012-01-03                    SALT              GIRONA       ESPAÑA   \n",
       "2012-01-03                  GIRONA              GIRONA       ESPAÑA   \n",
       "2012-01-03           SARRIÀ DE TER              GIRONA       ESPAÑA   \n",
       "2012-01-03                  GIRONA              GIRONA      RUMANIA   \n",
       "2012-01-03                   BEGUR              GIRONA       ESPAÑA   \n",
       "2012-01-03               MARRUECOS          EXTRANJERO    MARRUECOS   \n",
       "2012-01-03                  GIRONA              GIRONA       ESPAÑA   \n",
       "2012-01-03                  GIRONA              GIRONA       ESPAÑA   \n",
       "2012-01-03               BARCELONA           BARCELONA       ESPAÑA   \n",
       "2012-01-03                COLOMBIA          EXTRANJERO       ESPAÑA   \n",
       "2012-01-03               MARRUECOS          EXTRANJERO       ESPAÑA   \n",
       "2012-01-03                  BRASIL          EXTRANJERO       BRASIL   \n",
       "2012-01-03               MARRUECOS          EXTRANJERO    MARRUECOS   \n",
       "2012-01-03                BANYOLES              GIRONA       ESPAÑA   \n",
       "2012-01-03                 FRANCIA          EXTRANJERO      FRANCIA   \n",
       "2012-01-03                    SALT              GIRONA       ESPAÑA   \n",
       "2012-01-03                 UCRANIA          EXTRANJERO       ESPAÑA   \n",
       "2012-01-03                 UCRANIA          EXTRANJERO       ESPAÑA   \n",
       "2012-01-03                  GIRONA              GIRONA       ESPAÑA   \n",
       "2012-01-04                  GIRONA              GIRONA       ESPAÑA   \n",
       "2012-01-05                  GIRONA              GIRONA       ESPAÑA   \n",
       "...                            ...                 ...          ...   \n",
       "2012-12-28       TORROELLA MONTGRI              GIRONA       ESPAÑA   \n",
       "2012-12-28           S.JULIA RAMIS              GIRONA       ESPAÑA   \n",
       "2012-12-28                 RUMANIA          EXTRANJERO      RUMANIA   \n",
       "2012-12-28                     <20              TERUEL       ESPAÑA   \n",
       "2012-12-28                 RUMANIA          EXTRANJERO      RUMANIA   \n",
       "2012-12-28                  GIRONA              GIRONA       ESPAÑA   \n",
       "2012-12-29               BARCELONA           BARCELONA       ESPAÑA   \n",
       "2012-12-29                  GIRONA              GIRONA       ESPAÑA   \n",
       "2012-12-29                  GIRONA              GIRONA       ESPAÑA   \n",
       "2012-12-29                  GIRONA              GIRONA    MARRUECOS   \n",
       "2012-12-29       CASSÀ DE LA SELVA              GIRONA       ESPAÑA   \n",
       "2012-12-30                  GIRONA              GIRONA       ESPAÑA   \n",
       "2012-12-30                  GIRONA              GIRONA    MARRUECOS   \n",
       "2012-12-30                  GIRONA              GIRONA       ESPAÑA   \n",
       "2012-12-30                  GIRONA              GIRONA      RUMANIA   \n",
       "2012-12-30                  GIRONA              GIRONA       ESPAÑA   \n",
       "2012-12-30                  GIRONA              GIRONA     BULGARIA   \n",
       "2012-12-31                  GIRONA              GIRONA     HONDURAS   \n",
       "2012-12-31                MOLDAVIA          EXTRANJERO     MOLDAVIA   \n",
       "2012-12-31             SANT CELONI           BARCELONA       ESPAÑA   \n",
       "2012-12-31                  GIRONA              GIRONA       ESPAÑA   \n",
       "2012-12-31                  GIRONA              GIRONA       ESPAÑA   \n",
       "2012-12-31                  GIRONA              GIRONA       ESPAÑA   \n",
       "2012-12-31                BANYOLES              GIRONA       ESPAÑA   \n",
       "2012-12-31                  GIRONA              GIRONA     MOLDAVIA   \n",
       "2012-12-31                  GIRONA              GIRONA       ESPAÑA   \n",
       "2012-12-31                  GIRONA              GIRONA       ESPAÑA   \n",
       "2012-12-31                 UCRANIA          EXTRANJERO      UCRANIA   \n",
       "2012-12-31                 RUMANIA          EXTRANJERO      RUMANIA   \n",
       "2012-12-31                MOLDAVIA          EXTRANJERO     MOLDAVIA   \n",
       "\n",
       "           municipi_pais_procedencia provincia_procedencia  \n",
       "data_alta                                                   \n",
       "2012-01-01                       NaN                   NaN  \n",
       "2012-01-02                    GIRONA                GIRONA  \n",
       "2012-01-02                    GIRONA                GIRONA  \n",
       "2012-01-02                       NaN                   NaN  \n",
       "2012-01-02                     CELRÀ                GIRONA  \n",
       "2012-01-02                       NaN                   NaN  \n",
       "2012-01-03                    BLANES                GIRONA  \n",
       "2012-01-03                    GIRONA                GIRONA  \n",
       "2012-01-03                      SALT                GIRONA  \n",
       "2012-01-03                      SALT                GIRONA  \n",
       "2012-01-03                       <20                GIRONA  \n",
       "2012-01-03             SARRIÀ DE TER                GIRONA  \n",
       "2012-01-03                    GIRONA                GIRONA  \n",
       "2012-01-03                     BEGUR                GIRONA  \n",
       "2012-01-03                      SALT                GIRONA  \n",
       "2012-01-03                    GIRONA                GIRONA  \n",
       "2012-01-03                      SALT                GIRONA  \n",
       "2012-01-03                  SABADELL             BARCELONA  \n",
       "2012-01-03                      SALT                GIRONA  \n",
       "2012-01-03                  BANYOLES                GIRONA  \n",
       "2012-01-03             S.JULIA RAMIS                GIRONA  \n",
       "2012-01-03                  BANYOLES                GIRONA  \n",
       "2012-01-03                  BANYOLES                GIRONA  \n",
       "2012-01-03         CASSÀ DE LA SELVA                GIRONA  \n",
       "2012-01-03                      SALT                GIRONA  \n",
       "2012-01-03                     CAMÓS                GIRONA  \n",
       "2012-01-03                     CAMÓS                GIRONA  \n",
       "2012-01-03                   ANDORRA            EXTRANJERO  \n",
       "2012-01-04                    GIRONA                GIRONA  \n",
       "2012-01-05                    GIRONA                GIRONA  \n",
       "...                              ...                   ...  \n",
       "2012-12-28                 BARCELONA             BARCELONA  \n",
       "2012-12-28             S.JULIA RAMIS                GIRONA  \n",
       "2012-12-28                       <20                MADRID  \n",
       "2012-12-28                   CALONGE                GIRONA  \n",
       "2012-12-28                       <20           CIUDAD REAL  \n",
       "2012-12-28                    GIRONA                GIRONA  \n",
       "2012-12-29         CASSÀ DE LA SELVA                GIRONA  \n",
       "2012-12-29         CASSÀ DE LA SELVA                GIRONA  \n",
       "2012-12-29                       NaN                   NaN  \n",
       "2012-12-29                    GIRONA                GIRONA  \n",
       "2012-12-29         CASSÀ DE LA SELVA                GIRONA  \n",
       "2012-12-30                    GIRONA                GIRONA  \n",
       "2012-12-30                    GIRONA                GIRONA  \n",
       "2012-12-30                    GIRONA                GIRONA  \n",
       "2012-12-30                    GIRONA                GIRONA  \n",
       "2012-12-30                    GIRONA                GIRONA  \n",
       "2012-12-30                       NaN                   NaN  \n",
       "2012-12-31                       NaN                   NaN  \n",
       "2012-12-31                     FLAÇÀ                GIRONA  \n",
       "2012-12-31               SANT CELONI             BARCELONA  \n",
       "2012-12-31                    GIRONA                GIRONA  \n",
       "2012-12-31                    GIRONA                GIRONA  \n",
       "2012-12-31             SARRIÀ DE TER                GIRONA  \n",
       "2012-12-31                  BANYOLES                GIRONA  \n",
       "2012-12-31                     FLAÇÀ                GIRONA  \n",
       "2012-12-31                    GIRONA                GIRONA  \n",
       "2012-12-31                    GIRONA                GIRONA  \n",
       "2012-12-31                    GIRONA                GIRONA  \n",
       "2012-12-31                   RUMANIA            EXTRANJERO  \n",
       "2012-12-31                     FLAÇÀ                GIRONA  \n",
       "\n",
       "[4106 rows x 10 columns]"
      ]
     },
     "execution_count": 91,
     "metadata": {},
     "output_type": "execute_result"
    }
   ],
   "source": [
    "data['2012']"
   ]
  },
  {
   "cell_type": "markdown",
   "metadata": {
    "slideshow": {
     "slide_type": "-"
    }
   },
   "source": [
    "O tots els habitants inscrits de Gener a Març de 2012:"
   ]
  },
  {
   "cell_type": "code",
   "execution_count": 92,
   "metadata": {
    "scrolled": true
   },
   "outputs": [
    {
     "data": {
      "text/html": [
       "<div>\n",
       "<table border=\"1\" class=\"dataframe\">\n",
       "  <thead>\n",
       "    <tr style=\"text-align: right;\">\n",
       "      <th></th>\n",
       "      <th>districte</th>\n",
       "      <th>seccio</th>\n",
       "      <th>sexe</th>\n",
       "      <th>nivell_estudis</th>\n",
       "      <th>data_naixement</th>\n",
       "      <th>municipi_pais_naixement</th>\n",
       "      <th>provincia_naixement</th>\n",
       "      <th>nacionalitat</th>\n",
       "      <th>municipi_pais_procedencia</th>\n",
       "      <th>provincia_procedencia</th>\n",
       "    </tr>\n",
       "    <tr>\n",
       "      <th>data_alta</th>\n",
       "      <th></th>\n",
       "      <th></th>\n",
       "      <th></th>\n",
       "      <th></th>\n",
       "      <th></th>\n",
       "      <th></th>\n",
       "      <th></th>\n",
       "      <th></th>\n",
       "      <th></th>\n",
       "      <th></th>\n",
       "    </tr>\n",
       "  </thead>\n",
       "  <tbody>\n",
       "    <tr>\n",
       "      <th>2012-01-01</th>\n",
       "      <td>6</td>\n",
       "      <td>2</td>\n",
       "      <td>DONA</td>\n",
       "      <td>NO APLICABLE MENOR 16</td>\n",
       "      <td>2012-01-01</td>\n",
       "      <td>GIRONA</td>\n",
       "      <td>GIRONA</td>\n",
       "      <td>ESPAÑA</td>\n",
       "      <td>NaN</td>\n",
       "      <td>NaN</td>\n",
       "    </tr>\n",
       "    <tr>\n",
       "      <th>2012-01-02</th>\n",
       "      <td>2</td>\n",
       "      <td>21</td>\n",
       "      <td>DONA</td>\n",
       "      <td>NO APLICABLE MENOR 16</td>\n",
       "      <td>2012-01-01</td>\n",
       "      <td>GIRONA</td>\n",
       "      <td>GIRONA</td>\n",
       "      <td>ESPAÑA</td>\n",
       "      <td>GIRONA</td>\n",
       "      <td>GIRONA</td>\n",
       "    </tr>\n",
       "    <tr>\n",
       "      <th>2012-01-02</th>\n",
       "      <td>2</td>\n",
       "      <td>11</td>\n",
       "      <td>DONA</td>\n",
       "      <td>NO APLICABLE MENOR 16</td>\n",
       "      <td>2012-01-01</td>\n",
       "      <td>GIRONA</td>\n",
       "      <td>GIRONA</td>\n",
       "      <td>ESPAÑA</td>\n",
       "      <td>GIRONA</td>\n",
       "      <td>GIRONA</td>\n",
       "    </tr>\n",
       "    <tr>\n",
       "      <th>2012-01-02</th>\n",
       "      <td>3</td>\n",
       "      <td>4</td>\n",
       "      <td>DONA</td>\n",
       "      <td>NO APLICABLE MENOR 16</td>\n",
       "      <td>2012-01-01</td>\n",
       "      <td>GIRONA</td>\n",
       "      <td>GIRONA</td>\n",
       "      <td>ESPAÑA</td>\n",
       "      <td>NaN</td>\n",
       "      <td>NaN</td>\n",
       "    </tr>\n",
       "    <tr>\n",
       "      <th>2012-01-02</th>\n",
       "      <td>3</td>\n",
       "      <td>12</td>\n",
       "      <td>HOME</td>\n",
       "      <td>ESO, PRIMÀRIA O EQUIV.</td>\n",
       "      <td>1985-01-01</td>\n",
       "      <td>GIRONA</td>\n",
       "      <td>GIRONA</td>\n",
       "      <td>ESPAÑA</td>\n",
       "      <td>CELRÀ</td>\n",
       "      <td>GIRONA</td>\n",
       "    </tr>\n",
       "    <tr>\n",
       "      <th>2012-01-02</th>\n",
       "      <td>3</td>\n",
       "      <td>11</td>\n",
       "      <td>DONA</td>\n",
       "      <td>NO APLICABLE MENOR 16</td>\n",
       "      <td>2012-01-01</td>\n",
       "      <td>GIRONA</td>\n",
       "      <td>GIRONA</td>\n",
       "      <td>ESPAÑA</td>\n",
       "      <td>NaN</td>\n",
       "      <td>NaN</td>\n",
       "    </tr>\n",
       "    <tr>\n",
       "      <th>2012-01-03</th>\n",
       "      <td>3</td>\n",
       "      <td>14</td>\n",
       "      <td>DONA</td>\n",
       "      <td>BATXILLER SUPERIOR, BUP</td>\n",
       "      <td>1932-01-01</td>\n",
       "      <td>URUGUAY</td>\n",
       "      <td>EXTRANJERO</td>\n",
       "      <td>URUGUAY</td>\n",
       "      <td>BLANES</td>\n",
       "      <td>GIRONA</td>\n",
       "    </tr>\n",
       "    <tr>\n",
       "      <th>2012-01-03</th>\n",
       "      <td>3</td>\n",
       "      <td>15</td>\n",
       "      <td>DONA</td>\n",
       "      <td>FP 1ER GRAU O MITJÀ</td>\n",
       "      <td>1953-01-01</td>\n",
       "      <td>S. MIQUEL CAMPMAJOR</td>\n",
       "      <td>GIRONA</td>\n",
       "      <td>ESPAÑA</td>\n",
       "      <td>GIRONA</td>\n",
       "      <td>GIRONA</td>\n",
       "    </tr>\n",
       "    <tr>\n",
       "      <th>2012-01-03</th>\n",
       "      <td>3</td>\n",
       "      <td>8</td>\n",
       "      <td>HOME</td>\n",
       "      <td>NO APLICABLE MENOR 16</td>\n",
       "      <td>2007-01-01</td>\n",
       "      <td>MARRUECOS</td>\n",
       "      <td>EXTRANJERO</td>\n",
       "      <td>MARRUECOS</td>\n",
       "      <td>SALT</td>\n",
       "      <td>GIRONA</td>\n",
       "    </tr>\n",
       "    <tr>\n",
       "      <th>2012-01-03</th>\n",
       "      <td>3</td>\n",
       "      <td>16</td>\n",
       "      <td>HOME</td>\n",
       "      <td>NO APLICABLE MENOR 16</td>\n",
       "      <td>2010-01-01</td>\n",
       "      <td>SALT</td>\n",
       "      <td>GIRONA</td>\n",
       "      <td>ESPAÑA</td>\n",
       "      <td>SALT</td>\n",
       "      <td>GIRONA</td>\n",
       "    </tr>\n",
       "    <tr>\n",
       "      <th>2012-01-03</th>\n",
       "      <td>6</td>\n",
       "      <td>1</td>\n",
       "      <td>HOME</td>\n",
       "      <td>NO APLICABLE MENOR 16</td>\n",
       "      <td>1998-01-01</td>\n",
       "      <td>GIRONA</td>\n",
       "      <td>GIRONA</td>\n",
       "      <td>ESPAÑA</td>\n",
       "      <td>&lt;20</td>\n",
       "      <td>GIRONA</td>\n",
       "    </tr>\n",
       "    <tr>\n",
       "      <th>2012-01-03</th>\n",
       "      <td>5</td>\n",
       "      <td>2</td>\n",
       "      <td>DONA</td>\n",
       "      <td>NO APLICABLE MENOR 16</td>\n",
       "      <td>2008-01-01</td>\n",
       "      <td>SARRIÀ DE TER</td>\n",
       "      <td>GIRONA</td>\n",
       "      <td>ESPAÑA</td>\n",
       "      <td>SARRIÀ DE TER</td>\n",
       "      <td>GIRONA</td>\n",
       "    </tr>\n",
       "    <tr>\n",
       "      <th>2012-01-03</th>\n",
       "      <td>2</td>\n",
       "      <td>6</td>\n",
       "      <td>DONA</td>\n",
       "      <td>NO APLICABLE MENOR 16</td>\n",
       "      <td>2005-01-01</td>\n",
       "      <td>GIRONA</td>\n",
       "      <td>GIRONA</td>\n",
       "      <td>RUMANIA</td>\n",
       "      <td>GIRONA</td>\n",
       "      <td>GIRONA</td>\n",
       "    </tr>\n",
       "    <tr>\n",
       "      <th>2012-01-03</th>\n",
       "      <td>2</td>\n",
       "      <td>18</td>\n",
       "      <td>HOME</td>\n",
       "      <td>BATXILLER SUPERIOR, BUP</td>\n",
       "      <td>1991-01-01</td>\n",
       "      <td>BEGUR</td>\n",
       "      <td>GIRONA</td>\n",
       "      <td>ESPAÑA</td>\n",
       "      <td>BEGUR</td>\n",
       "      <td>GIRONA</td>\n",
       "    </tr>\n",
       "    <tr>\n",
       "      <th>2012-01-03</th>\n",
       "      <td>3</td>\n",
       "      <td>8</td>\n",
       "      <td>DONA</td>\n",
       "      <td>PRIMÀRIA INCOMPLETA</td>\n",
       "      <td>1965-01-01</td>\n",
       "      <td>MARRUECOS</td>\n",
       "      <td>EXTRANJERO</td>\n",
       "      <td>MARRUECOS</td>\n",
       "      <td>SALT</td>\n",
       "      <td>GIRONA</td>\n",
       "    </tr>\n",
       "    <tr>\n",
       "      <th>2012-01-03</th>\n",
       "      <td>3</td>\n",
       "      <td>15</td>\n",
       "      <td>DONA</td>\n",
       "      <td>LLICENCIAT O GRAU UNIVER.</td>\n",
       "      <td>1979-01-01</td>\n",
       "      <td>GIRONA</td>\n",
       "      <td>GIRONA</td>\n",
       "      <td>ESPAÑA</td>\n",
       "      <td>GIRONA</td>\n",
       "      <td>GIRONA</td>\n",
       "    </tr>\n",
       "    <tr>\n",
       "      <th>2012-01-03</th>\n",
       "      <td>3</td>\n",
       "      <td>16</td>\n",
       "      <td>HOME</td>\n",
       "      <td>LLICENCIAT O GRAU UNIVER.</td>\n",
       "      <td>1977-01-01</td>\n",
       "      <td>GIRONA</td>\n",
       "      <td>GIRONA</td>\n",
       "      <td>ESPAÑA</td>\n",
       "      <td>SALT</td>\n",
       "      <td>GIRONA</td>\n",
       "    </tr>\n",
       "    <tr>\n",
       "      <th>2012-01-03</th>\n",
       "      <td>2</td>\n",
       "      <td>19</td>\n",
       "      <td>HOME</td>\n",
       "      <td>ALTRES TÍTOLS DE GRAU MIG</td>\n",
       "      <td>1941-01-01</td>\n",
       "      <td>BARCELONA</td>\n",
       "      <td>BARCELONA</td>\n",
       "      <td>ESPAÑA</td>\n",
       "      <td>SABADELL</td>\n",
       "      <td>BARCELONA</td>\n",
       "    </tr>\n",
       "    <tr>\n",
       "      <th>2012-01-03</th>\n",
       "      <td>1</td>\n",
       "      <td>4</td>\n",
       "      <td>HOME</td>\n",
       "      <td>BATXILLER SUPERIOR, BUP</td>\n",
       "      <td>1972-01-01</td>\n",
       "      <td>COLOMBIA</td>\n",
       "      <td>EXTRANJERO</td>\n",
       "      <td>ESPAÑA</td>\n",
       "      <td>SALT</td>\n",
       "      <td>GIRONA</td>\n",
       "    </tr>\n",
       "    <tr>\n",
       "      <th>2012-01-03</th>\n",
       "      <td>3</td>\n",
       "      <td>9</td>\n",
       "      <td>HOME</td>\n",
       "      <td>ESO, PRIMÀRIA O EQUIV.</td>\n",
       "      <td>1970-01-01</td>\n",
       "      <td>MARRUECOS</td>\n",
       "      <td>EXTRANJERO</td>\n",
       "      <td>ESPAÑA</td>\n",
       "      <td>BANYOLES</td>\n",
       "      <td>GIRONA</td>\n",
       "    </tr>\n",
       "    <tr>\n",
       "      <th>2012-01-03</th>\n",
       "      <td>5</td>\n",
       "      <td>3</td>\n",
       "      <td>HOME</td>\n",
       "      <td>ESO, PRIMÀRIA O EQUIV.</td>\n",
       "      <td>1969-01-01</td>\n",
       "      <td>BRASIL</td>\n",
       "      <td>EXTRANJERO</td>\n",
       "      <td>BRASIL</td>\n",
       "      <td>S.JULIA RAMIS</td>\n",
       "      <td>GIRONA</td>\n",
       "    </tr>\n",
       "    <tr>\n",
       "      <th>2012-01-03</th>\n",
       "      <td>3</td>\n",
       "      <td>9</td>\n",
       "      <td>DONA</td>\n",
       "      <td>LLICENCIAT O GRAU UNIVER.</td>\n",
       "      <td>1982-01-01</td>\n",
       "      <td>MARRUECOS</td>\n",
       "      <td>EXTRANJERO</td>\n",
       "      <td>MARRUECOS</td>\n",
       "      <td>BANYOLES</td>\n",
       "      <td>GIRONA</td>\n",
       "    </tr>\n",
       "    <tr>\n",
       "      <th>2012-01-03</th>\n",
       "      <td>3</td>\n",
       "      <td>9</td>\n",
       "      <td>DONA</td>\n",
       "      <td>NO APLICABLE MENOR 16</td>\n",
       "      <td>2009-01-01</td>\n",
       "      <td>BANYOLES</td>\n",
       "      <td>GIRONA</td>\n",
       "      <td>ESPAÑA</td>\n",
       "      <td>BANYOLES</td>\n",
       "      <td>GIRONA</td>\n",
       "    </tr>\n",
       "    <tr>\n",
       "      <th>2012-01-03</th>\n",
       "      <td>2</td>\n",
       "      <td>11</td>\n",
       "      <td>HOME</td>\n",
       "      <td>BATXILLER SUPERIOR, BUP</td>\n",
       "      <td>1977-01-01</td>\n",
       "      <td>FRANCIA</td>\n",
       "      <td>EXTRANJERO</td>\n",
       "      <td>FRANCIA</td>\n",
       "      <td>CASSÀ DE LA SELVA</td>\n",
       "      <td>GIRONA</td>\n",
       "    </tr>\n",
       "    <tr>\n",
       "      <th>2012-01-03</th>\n",
       "      <td>3</td>\n",
       "      <td>11</td>\n",
       "      <td>DONA</td>\n",
       "      <td>NO APLICABLE MENOR 16</td>\n",
       "      <td>2005-01-01</td>\n",
       "      <td>SALT</td>\n",
       "      <td>GIRONA</td>\n",
       "      <td>ESPAÑA</td>\n",
       "      <td>SALT</td>\n",
       "      <td>GIRONA</td>\n",
       "    </tr>\n",
       "    <tr>\n",
       "      <th>2012-01-03</th>\n",
       "      <td>5</td>\n",
       "      <td>3</td>\n",
       "      <td>DONA</td>\n",
       "      <td>FP 1ER GRAU O MITJÀ</td>\n",
       "      <td>1973-01-01</td>\n",
       "      <td>UCRANIA</td>\n",
       "      <td>EXTRANJERO</td>\n",
       "      <td>ESPAÑA</td>\n",
       "      <td>CAMÓS</td>\n",
       "      <td>GIRONA</td>\n",
       "    </tr>\n",
       "    <tr>\n",
       "      <th>2012-01-03</th>\n",
       "      <td>5</td>\n",
       "      <td>3</td>\n",
       "      <td>DONA</td>\n",
       "      <td>ESO, PRIMÀRIA O EQUIV.</td>\n",
       "      <td>1995-01-01</td>\n",
       "      <td>UCRANIA</td>\n",
       "      <td>EXTRANJERO</td>\n",
       "      <td>ESPAÑA</td>\n",
       "      <td>CAMÓS</td>\n",
       "      <td>GIRONA</td>\n",
       "    </tr>\n",
       "    <tr>\n",
       "      <th>2012-01-03</th>\n",
       "      <td>2</td>\n",
       "      <td>4</td>\n",
       "      <td>DONA</td>\n",
       "      <td>BATXILLER SUPERIOR, BUP</td>\n",
       "      <td>1976-01-01</td>\n",
       "      <td>GIRONA</td>\n",
       "      <td>GIRONA</td>\n",
       "      <td>ESPAÑA</td>\n",
       "      <td>ANDORRA</td>\n",
       "      <td>EXTRANJERO</td>\n",
       "    </tr>\n",
       "    <tr>\n",
       "      <th>2012-01-04</th>\n",
       "      <td>3</td>\n",
       "      <td>9</td>\n",
       "      <td>HOME</td>\n",
       "      <td>NO APLICABLE MENOR 16</td>\n",
       "      <td>2012-01-01</td>\n",
       "      <td>GIRONA</td>\n",
       "      <td>GIRONA</td>\n",
       "      <td>ESPAÑA</td>\n",
       "      <td>GIRONA</td>\n",
       "      <td>GIRONA</td>\n",
       "    </tr>\n",
       "    <tr>\n",
       "      <th>2012-01-05</th>\n",
       "      <td>2</td>\n",
       "      <td>11</td>\n",
       "      <td>HOME</td>\n",
       "      <td>NO APLICABLE MENOR 16</td>\n",
       "      <td>2012-01-01</td>\n",
       "      <td>GIRONA</td>\n",
       "      <td>GIRONA</td>\n",
       "      <td>ESPAÑA</td>\n",
       "      <td>GIRONA</td>\n",
       "      <td>GIRONA</td>\n",
       "    </tr>\n",
       "    <tr>\n",
       "      <th>...</th>\n",
       "      <td>...</td>\n",
       "      <td>...</td>\n",
       "      <td>...</td>\n",
       "      <td>...</td>\n",
       "      <td>...</td>\n",
       "      <td>...</td>\n",
       "      <td>...</td>\n",
       "      <td>...</td>\n",
       "      <td>...</td>\n",
       "      <td>...</td>\n",
       "    </tr>\n",
       "    <tr>\n",
       "      <th>2012-03-29</th>\n",
       "      <td>3</td>\n",
       "      <td>1</td>\n",
       "      <td>DONA</td>\n",
       "      <td>ESO, PRIMÀRIA O EQUIV.</td>\n",
       "      <td>1982-01-01</td>\n",
       "      <td>BRASIL</td>\n",
       "      <td>EXTRANJERO</td>\n",
       "      <td>BRASIL</td>\n",
       "      <td>SALT</td>\n",
       "      <td>GIRONA</td>\n",
       "    </tr>\n",
       "    <tr>\n",
       "      <th>2012-03-29</th>\n",
       "      <td>2</td>\n",
       "      <td>19</td>\n",
       "      <td>HOME</td>\n",
       "      <td>NO APLICABLE MENOR 16</td>\n",
       "      <td>2000-01-01</td>\n",
       "      <td>BRASIL</td>\n",
       "      <td>EXTRANJERO</td>\n",
       "      <td>ESPAÑA</td>\n",
       "      <td>A CORUÑA</td>\n",
       "      <td>LA CORUÑA</td>\n",
       "    </tr>\n",
       "    <tr>\n",
       "      <th>2012-03-29</th>\n",
       "      <td>5</td>\n",
       "      <td>6</td>\n",
       "      <td>HOME</td>\n",
       "      <td>DIPLOMAT ESCOLA UNIVERS.</td>\n",
       "      <td>1950-01-01</td>\n",
       "      <td>GIRONA</td>\n",
       "      <td>GIRONA</td>\n",
       "      <td>ESPAÑA</td>\n",
       "      <td>VILOBI D'ONYAR</td>\n",
       "      <td>GIRONA</td>\n",
       "    </tr>\n",
       "    <tr>\n",
       "      <th>2012-03-29</th>\n",
       "      <td>6</td>\n",
       "      <td>1</td>\n",
       "      <td>HOME</td>\n",
       "      <td>NO APLICABLE MENOR 16</td>\n",
       "      <td>2012-01-01</td>\n",
       "      <td>GIRONA</td>\n",
       "      <td>GIRONA</td>\n",
       "      <td>ESPAÑA</td>\n",
       "      <td>GIRONA</td>\n",
       "      <td>GIRONA</td>\n",
       "    </tr>\n",
       "    <tr>\n",
       "      <th>2012-03-29</th>\n",
       "      <td>2</td>\n",
       "      <td>19</td>\n",
       "      <td>HOME</td>\n",
       "      <td>NO APLICABLE MENOR 16</td>\n",
       "      <td>2012-01-01</td>\n",
       "      <td>A CORUÑA</td>\n",
       "      <td>LA CORUÑA</td>\n",
       "      <td>ESPAÑA</td>\n",
       "      <td>A CORUÑA</td>\n",
       "      <td>LA CORUÑA</td>\n",
       "    </tr>\n",
       "    <tr>\n",
       "      <th>2012-03-29</th>\n",
       "      <td>2</td>\n",
       "      <td>19</td>\n",
       "      <td>HOME</td>\n",
       "      <td>NO APLICABLE MENOR 16</td>\n",
       "      <td>2005-01-01</td>\n",
       "      <td>BRASIL</td>\n",
       "      <td>EXTRANJERO</td>\n",
       "      <td>ESPAÑA</td>\n",
       "      <td>A CORUÑA</td>\n",
       "      <td>LA CORUÑA</td>\n",
       "    </tr>\n",
       "    <tr>\n",
       "      <th>2012-03-29</th>\n",
       "      <td>2</td>\n",
       "      <td>11</td>\n",
       "      <td>HOME</td>\n",
       "      <td>NO APLICABLE MENOR 16</td>\n",
       "      <td>2012-01-01</td>\n",
       "      <td>GIRONA</td>\n",
       "      <td>GIRONA</td>\n",
       "      <td>ESPAÑA</td>\n",
       "      <td>GIRONA</td>\n",
       "      <td>GIRONA</td>\n",
       "    </tr>\n",
       "    <tr>\n",
       "      <th>2012-03-29</th>\n",
       "      <td>3</td>\n",
       "      <td>7</td>\n",
       "      <td>HOME</td>\n",
       "      <td>ESO, PRIMÀRIA O EQUIV.</td>\n",
       "      <td>1968-01-01</td>\n",
       "      <td>JAEN</td>\n",
       "      <td>JAÉN</td>\n",
       "      <td>ESPAÑA</td>\n",
       "      <td>GIRONA</td>\n",
       "      <td>GIRONA</td>\n",
       "    </tr>\n",
       "    <tr>\n",
       "      <th>2012-03-30</th>\n",
       "      <td>3</td>\n",
       "      <td>12</td>\n",
       "      <td>HOME</td>\n",
       "      <td>NO APLICABLE MENOR 16</td>\n",
       "      <td>2012-01-01</td>\n",
       "      <td>GIRONA</td>\n",
       "      <td>GIRONA</td>\n",
       "      <td>ESPAÑA</td>\n",
       "      <td>GIRONA</td>\n",
       "      <td>GIRONA</td>\n",
       "    </tr>\n",
       "    <tr>\n",
       "      <th>2012-03-30</th>\n",
       "      <td>2</td>\n",
       "      <td>1</td>\n",
       "      <td>DONA</td>\n",
       "      <td>ESO, PRIMÀRIA O EQUIV.</td>\n",
       "      <td>1946-01-01</td>\n",
       "      <td>SUIZA</td>\n",
       "      <td>EXTRANJERO</td>\n",
       "      <td>&lt;20</td>\n",
       "      <td>GIRONA</td>\n",
       "      <td>GIRONA</td>\n",
       "    </tr>\n",
       "    <tr>\n",
       "      <th>2012-03-30</th>\n",
       "      <td>2</td>\n",
       "      <td>19</td>\n",
       "      <td>DONA</td>\n",
       "      <td>NO APLICABLE MENOR 16</td>\n",
       "      <td>2012-01-01</td>\n",
       "      <td>GIRONA</td>\n",
       "      <td>GIRONA</td>\n",
       "      <td>ESPAÑA</td>\n",
       "      <td>GIRONA</td>\n",
       "      <td>GIRONA</td>\n",
       "    </tr>\n",
       "    <tr>\n",
       "      <th>2012-03-30</th>\n",
       "      <td>6</td>\n",
       "      <td>1</td>\n",
       "      <td>DONA</td>\n",
       "      <td>NO APLICABLE MENOR 16</td>\n",
       "      <td>2002-01-01</td>\n",
       "      <td>GIRONA</td>\n",
       "      <td>GIRONA</td>\n",
       "      <td>ESPAÑA</td>\n",
       "      <td>GIRONA</td>\n",
       "      <td>GIRONA</td>\n",
       "    </tr>\n",
       "    <tr>\n",
       "      <th>2012-03-30</th>\n",
       "      <td>3</td>\n",
       "      <td>7</td>\n",
       "      <td>HOME</td>\n",
       "      <td>LLICENCIAT O GRAU UNIVER.</td>\n",
       "      <td>1979-01-01</td>\n",
       "      <td>VIC</td>\n",
       "      <td>BARCELONA</td>\n",
       "      <td>ESPAÑA</td>\n",
       "      <td>FORNELLS SELVA</td>\n",
       "      <td>GIRONA</td>\n",
       "    </tr>\n",
       "    <tr>\n",
       "      <th>2012-03-30</th>\n",
       "      <td>2</td>\n",
       "      <td>10</td>\n",
       "      <td>HOME</td>\n",
       "      <td>LLICENCIAT O GRAU UNIVER.</td>\n",
       "      <td>1982-01-01</td>\n",
       "      <td>GIRONA</td>\n",
       "      <td>GIRONA</td>\n",
       "      <td>ESPAÑA</td>\n",
       "      <td>CHINA</td>\n",
       "      <td>EXTRANJERO</td>\n",
       "    </tr>\n",
       "    <tr>\n",
       "      <th>2012-03-30</th>\n",
       "      <td>6</td>\n",
       "      <td>1</td>\n",
       "      <td>DONA</td>\n",
       "      <td>ESO, PRIMÀRIA O EQUIV.</td>\n",
       "      <td>1976-01-01</td>\n",
       "      <td>GIRONA</td>\n",
       "      <td>GIRONA</td>\n",
       "      <td>ESPAÑA</td>\n",
       "      <td>GIRONA</td>\n",
       "      <td>GIRONA</td>\n",
       "    </tr>\n",
       "    <tr>\n",
       "      <th>2012-03-30</th>\n",
       "      <td>2</td>\n",
       "      <td>4</td>\n",
       "      <td>HOME</td>\n",
       "      <td>BATXILLER SUPERIOR, BUP</td>\n",
       "      <td>1953-01-01</td>\n",
       "      <td>TORDERA</td>\n",
       "      <td>BARCELONA</td>\n",
       "      <td>ESPAÑA</td>\n",
       "      <td>CALONGE</td>\n",
       "      <td>GIRONA</td>\n",
       "    </tr>\n",
       "    <tr>\n",
       "      <th>2012-03-30</th>\n",
       "      <td>1</td>\n",
       "      <td>3</td>\n",
       "      <td>DONA</td>\n",
       "      <td>ESO, PRIMÀRIA O EQUIV.</td>\n",
       "      <td>1988-01-01</td>\n",
       "      <td>HONDURAS</td>\n",
       "      <td>EXTRANJERO</td>\n",
       "      <td>HONDURAS</td>\n",
       "      <td>HONDURAS</td>\n",
       "      <td>EXTRANJERO</td>\n",
       "    </tr>\n",
       "    <tr>\n",
       "      <th>2012-03-30</th>\n",
       "      <td>2</td>\n",
       "      <td>15</td>\n",
       "      <td>DONA</td>\n",
       "      <td>ESO, PRIMÀRIA O EQUIV.</td>\n",
       "      <td>1928-01-01</td>\n",
       "      <td>&lt;20</td>\n",
       "      <td>TERUEL</td>\n",
       "      <td>ESPAÑA</td>\n",
       "      <td>BESCANÓ</td>\n",
       "      <td>GIRONA</td>\n",
       "    </tr>\n",
       "    <tr>\n",
       "      <th>2012-03-30</th>\n",
       "      <td>3</td>\n",
       "      <td>2</td>\n",
       "      <td>DONA</td>\n",
       "      <td>BATXILLER SUPERIOR, BUP</td>\n",
       "      <td>1936-01-01</td>\n",
       "      <td>GIRONA</td>\n",
       "      <td>GIRONA</td>\n",
       "      <td>ESPAÑA</td>\n",
       "      <td>FORNELLS SELVA</td>\n",
       "      <td>GIRONA</td>\n",
       "    </tr>\n",
       "    <tr>\n",
       "      <th>2012-03-30</th>\n",
       "      <td>3</td>\n",
       "      <td>11</td>\n",
       "      <td>HOME</td>\n",
       "      <td>NO APLICABLE MENOR 16</td>\n",
       "      <td>2008-01-01</td>\n",
       "      <td>PERÚ</td>\n",
       "      <td>EXTRANJERO</td>\n",
       "      <td>ESPAÑA</td>\n",
       "      <td>PERÚ</td>\n",
       "      <td>EXTRANJERO</td>\n",
       "    </tr>\n",
       "    <tr>\n",
       "      <th>2012-03-30</th>\n",
       "      <td>2</td>\n",
       "      <td>4</td>\n",
       "      <td>DONA</td>\n",
       "      <td>LLICENCIAT O GRAU UNIVER.</td>\n",
       "      <td>1975-01-01</td>\n",
       "      <td>GIRONA</td>\n",
       "      <td>GIRONA</td>\n",
       "      <td>ESPAÑA</td>\n",
       "      <td>CASTELLDEFELS</td>\n",
       "      <td>BARCELONA</td>\n",
       "    </tr>\n",
       "    <tr>\n",
       "      <th>2012-03-30</th>\n",
       "      <td>2</td>\n",
       "      <td>19</td>\n",
       "      <td>HOME</td>\n",
       "      <td>BATXILLER SUPERIOR, BUP</td>\n",
       "      <td>1970-01-01</td>\n",
       "      <td>BARCELONA</td>\n",
       "      <td>BARCELONA</td>\n",
       "      <td>ESPAÑA</td>\n",
       "      <td>QUART</td>\n",
       "      <td>GIRONA</td>\n",
       "    </tr>\n",
       "    <tr>\n",
       "      <th>2012-03-30</th>\n",
       "      <td>3</td>\n",
       "      <td>8</td>\n",
       "      <td>HOME</td>\n",
       "      <td>LLICENCIAT O GRAU UNIVER.</td>\n",
       "      <td>1973-01-01</td>\n",
       "      <td>REPÚBLICA DOMINICANA</td>\n",
       "      <td>EXTRANJERO</td>\n",
       "      <td>REPÚBLICA DOMINICANA</td>\n",
       "      <td>REPÚBLICA DOMINICANA</td>\n",
       "      <td>EXTRANJERO</td>\n",
       "    </tr>\n",
       "    <tr>\n",
       "      <th>2012-03-30</th>\n",
       "      <td>3</td>\n",
       "      <td>8</td>\n",
       "      <td>HOME</td>\n",
       "      <td>NO APLICABLE MENOR 16</td>\n",
       "      <td>2004-01-01</td>\n",
       "      <td>REPÚBLICA DOMINICANA</td>\n",
       "      <td>EXTRANJERO</td>\n",
       "      <td>REPÚBLICA DOMINICANA</td>\n",
       "      <td>REPÚBLICA DOMINICANA</td>\n",
       "      <td>EXTRANJERO</td>\n",
       "    </tr>\n",
       "    <tr>\n",
       "      <th>2012-03-30</th>\n",
       "      <td>1</td>\n",
       "      <td>1</td>\n",
       "      <td>HOME</td>\n",
       "      <td>BATXILLER SUPERIOR, BUP</td>\n",
       "      <td>1952-01-01</td>\n",
       "      <td>&lt;20</td>\n",
       "      <td>TERUEL</td>\n",
       "      <td>ESPAÑA</td>\n",
       "      <td>GIRONA</td>\n",
       "      <td>GIRONA</td>\n",
       "    </tr>\n",
       "    <tr>\n",
       "      <th>2012-03-30</th>\n",
       "      <td>3</td>\n",
       "      <td>8</td>\n",
       "      <td>DONA</td>\n",
       "      <td>NO APLICABLE MENOR 16</td>\n",
       "      <td>2006-01-01</td>\n",
       "      <td>REPÚBLICA DOMINICANA</td>\n",
       "      <td>EXTRANJERO</td>\n",
       "      <td>REPÚBLICA DOMINICANA</td>\n",
       "      <td>REPÚBLICA DOMINICANA</td>\n",
       "      <td>EXTRANJERO</td>\n",
       "    </tr>\n",
       "    <tr>\n",
       "      <th>2012-03-31</th>\n",
       "      <td>3</td>\n",
       "      <td>14</td>\n",
       "      <td>DONA</td>\n",
       "      <td>ESO, PRIMÀRIA O EQUIV.</td>\n",
       "      <td>1986-01-01</td>\n",
       "      <td>HONDURAS</td>\n",
       "      <td>EXTRANJERO</td>\n",
       "      <td>HONDURAS</td>\n",
       "      <td>HONDURAS</td>\n",
       "      <td>EXTRANJERO</td>\n",
       "    </tr>\n",
       "    <tr>\n",
       "      <th>2012-03-31</th>\n",
       "      <td>3</td>\n",
       "      <td>6</td>\n",
       "      <td>HOME</td>\n",
       "      <td>ARQUITECTE,ENGINYER TÈCNI</td>\n",
       "      <td>1957-01-01</td>\n",
       "      <td>BARCELONA</td>\n",
       "      <td>BARCELONA</td>\n",
       "      <td>ESPAÑA</td>\n",
       "      <td>AMER</td>\n",
       "      <td>GIRONA</td>\n",
       "    </tr>\n",
       "    <tr>\n",
       "      <th>2012-03-31</th>\n",
       "      <td>3</td>\n",
       "      <td>6</td>\n",
       "      <td>DONA</td>\n",
       "      <td>DIPLOMAT ESCOLA UNIVERS.</td>\n",
       "      <td>1959-01-01</td>\n",
       "      <td>BARCELONA</td>\n",
       "      <td>BARCELONA</td>\n",
       "      <td>ESPAÑA</td>\n",
       "      <td>AMER</td>\n",
       "      <td>GIRONA</td>\n",
       "    </tr>\n",
       "    <tr>\n",
       "      <th>2012-03-31</th>\n",
       "      <td>1</td>\n",
       "      <td>2</td>\n",
       "      <td>HOME</td>\n",
       "      <td>NO APLICABLE MENOR 16</td>\n",
       "      <td>2012-01-01</td>\n",
       "      <td>GIRONA</td>\n",
       "      <td>GIRONA</td>\n",
       "      <td>ESPAÑA</td>\n",
       "      <td>GIRONA</td>\n",
       "      <td>GIRONA</td>\n",
       "    </tr>\n",
       "  </tbody>\n",
       "</table>\n",
       "<p>1068 rows × 10 columns</p>\n",
       "</div>"
      ],
      "text/plain": [
       "            districte  seccio  sexe             nivell_estudis data_naixement  \\\n",
       "data_alta                                                                       \n",
       "2012-01-01          6       2  DONA      NO APLICABLE MENOR 16     2012-01-01   \n",
       "2012-01-02          2      21  DONA      NO APLICABLE MENOR 16     2012-01-01   \n",
       "2012-01-02          2      11  DONA      NO APLICABLE MENOR 16     2012-01-01   \n",
       "2012-01-02          3       4  DONA      NO APLICABLE MENOR 16     2012-01-01   \n",
       "2012-01-02          3      12  HOME     ESO, PRIMÀRIA O EQUIV.     1985-01-01   \n",
       "2012-01-02          3      11  DONA      NO APLICABLE MENOR 16     2012-01-01   \n",
       "2012-01-03          3      14  DONA    BATXILLER SUPERIOR, BUP     1932-01-01   \n",
       "2012-01-03          3      15  DONA        FP 1ER GRAU O MITJÀ     1953-01-01   \n",
       "2012-01-03          3       8  HOME      NO APLICABLE MENOR 16     2007-01-01   \n",
       "2012-01-03          3      16  HOME      NO APLICABLE MENOR 16     2010-01-01   \n",
       "2012-01-03          6       1  HOME      NO APLICABLE MENOR 16     1998-01-01   \n",
       "2012-01-03          5       2  DONA      NO APLICABLE MENOR 16     2008-01-01   \n",
       "2012-01-03          2       6  DONA      NO APLICABLE MENOR 16     2005-01-01   \n",
       "2012-01-03          2      18  HOME    BATXILLER SUPERIOR, BUP     1991-01-01   \n",
       "2012-01-03          3       8  DONA        PRIMÀRIA INCOMPLETA     1965-01-01   \n",
       "2012-01-03          3      15  DONA  LLICENCIAT O GRAU UNIVER.     1979-01-01   \n",
       "2012-01-03          3      16  HOME  LLICENCIAT O GRAU UNIVER.     1977-01-01   \n",
       "2012-01-03          2      19  HOME  ALTRES TÍTOLS DE GRAU MIG     1941-01-01   \n",
       "2012-01-03          1       4  HOME    BATXILLER SUPERIOR, BUP     1972-01-01   \n",
       "2012-01-03          3       9  HOME     ESO, PRIMÀRIA O EQUIV.     1970-01-01   \n",
       "2012-01-03          5       3  HOME     ESO, PRIMÀRIA O EQUIV.     1969-01-01   \n",
       "2012-01-03          3       9  DONA  LLICENCIAT O GRAU UNIVER.     1982-01-01   \n",
       "2012-01-03          3       9  DONA      NO APLICABLE MENOR 16     2009-01-01   \n",
       "2012-01-03          2      11  HOME    BATXILLER SUPERIOR, BUP     1977-01-01   \n",
       "2012-01-03          3      11  DONA      NO APLICABLE MENOR 16     2005-01-01   \n",
       "2012-01-03          5       3  DONA        FP 1ER GRAU O MITJÀ     1973-01-01   \n",
       "2012-01-03          5       3  DONA     ESO, PRIMÀRIA O EQUIV.     1995-01-01   \n",
       "2012-01-03          2       4  DONA    BATXILLER SUPERIOR, BUP     1976-01-01   \n",
       "2012-01-04          3       9  HOME      NO APLICABLE MENOR 16     2012-01-01   \n",
       "2012-01-05          2      11  HOME      NO APLICABLE MENOR 16     2012-01-01   \n",
       "...               ...     ...   ...                        ...            ...   \n",
       "2012-03-29          3       1  DONA     ESO, PRIMÀRIA O EQUIV.     1982-01-01   \n",
       "2012-03-29          2      19  HOME      NO APLICABLE MENOR 16     2000-01-01   \n",
       "2012-03-29          5       6  HOME   DIPLOMAT ESCOLA UNIVERS.     1950-01-01   \n",
       "2012-03-29          6       1  HOME      NO APLICABLE MENOR 16     2012-01-01   \n",
       "2012-03-29          2      19  HOME      NO APLICABLE MENOR 16     2012-01-01   \n",
       "2012-03-29          2      19  HOME      NO APLICABLE MENOR 16     2005-01-01   \n",
       "2012-03-29          2      11  HOME      NO APLICABLE MENOR 16     2012-01-01   \n",
       "2012-03-29          3       7  HOME     ESO, PRIMÀRIA O EQUIV.     1968-01-01   \n",
       "2012-03-30          3      12  HOME      NO APLICABLE MENOR 16     2012-01-01   \n",
       "2012-03-30          2       1  DONA     ESO, PRIMÀRIA O EQUIV.     1946-01-01   \n",
       "2012-03-30          2      19  DONA      NO APLICABLE MENOR 16     2012-01-01   \n",
       "2012-03-30          6       1  DONA      NO APLICABLE MENOR 16     2002-01-01   \n",
       "2012-03-30          3       7  HOME  LLICENCIAT O GRAU UNIVER.     1979-01-01   \n",
       "2012-03-30          2      10  HOME  LLICENCIAT O GRAU UNIVER.     1982-01-01   \n",
       "2012-03-30          6       1  DONA     ESO, PRIMÀRIA O EQUIV.     1976-01-01   \n",
       "2012-03-30          2       4  HOME    BATXILLER SUPERIOR, BUP     1953-01-01   \n",
       "2012-03-30          1       3  DONA     ESO, PRIMÀRIA O EQUIV.     1988-01-01   \n",
       "2012-03-30          2      15  DONA     ESO, PRIMÀRIA O EQUIV.     1928-01-01   \n",
       "2012-03-30          3       2  DONA    BATXILLER SUPERIOR, BUP     1936-01-01   \n",
       "2012-03-30          3      11  HOME      NO APLICABLE MENOR 16     2008-01-01   \n",
       "2012-03-30          2       4  DONA  LLICENCIAT O GRAU UNIVER.     1975-01-01   \n",
       "2012-03-30          2      19  HOME    BATXILLER SUPERIOR, BUP     1970-01-01   \n",
       "2012-03-30          3       8  HOME  LLICENCIAT O GRAU UNIVER.     1973-01-01   \n",
       "2012-03-30          3       8  HOME      NO APLICABLE MENOR 16     2004-01-01   \n",
       "2012-03-30          1       1  HOME    BATXILLER SUPERIOR, BUP     1952-01-01   \n",
       "2012-03-30          3       8  DONA      NO APLICABLE MENOR 16     2006-01-01   \n",
       "2012-03-31          3      14  DONA     ESO, PRIMÀRIA O EQUIV.     1986-01-01   \n",
       "2012-03-31          3       6  HOME  ARQUITECTE,ENGINYER TÈCNI     1957-01-01   \n",
       "2012-03-31          3       6  DONA   DIPLOMAT ESCOLA UNIVERS.     1959-01-01   \n",
       "2012-03-31          1       2  HOME      NO APLICABLE MENOR 16     2012-01-01   \n",
       "\n",
       "           municipi_pais_naixement provincia_naixement          nacionalitat  \\\n",
       "data_alta                                                                      \n",
       "2012-01-01                  GIRONA              GIRONA                ESPAÑA   \n",
       "2012-01-02                  GIRONA              GIRONA                ESPAÑA   \n",
       "2012-01-02                  GIRONA              GIRONA                ESPAÑA   \n",
       "2012-01-02                  GIRONA              GIRONA                ESPAÑA   \n",
       "2012-01-02                  GIRONA              GIRONA                ESPAÑA   \n",
       "2012-01-02                  GIRONA              GIRONA                ESPAÑA   \n",
       "2012-01-03                 URUGUAY          EXTRANJERO               URUGUAY   \n",
       "2012-01-03     S. MIQUEL CAMPMAJOR              GIRONA                ESPAÑA   \n",
       "2012-01-03               MARRUECOS          EXTRANJERO             MARRUECOS   \n",
       "2012-01-03                    SALT              GIRONA                ESPAÑA   \n",
       "2012-01-03                  GIRONA              GIRONA                ESPAÑA   \n",
       "2012-01-03           SARRIÀ DE TER              GIRONA                ESPAÑA   \n",
       "2012-01-03                  GIRONA              GIRONA               RUMANIA   \n",
       "2012-01-03                   BEGUR              GIRONA                ESPAÑA   \n",
       "2012-01-03               MARRUECOS          EXTRANJERO             MARRUECOS   \n",
       "2012-01-03                  GIRONA              GIRONA                ESPAÑA   \n",
       "2012-01-03                  GIRONA              GIRONA                ESPAÑA   \n",
       "2012-01-03               BARCELONA           BARCELONA                ESPAÑA   \n",
       "2012-01-03                COLOMBIA          EXTRANJERO                ESPAÑA   \n",
       "2012-01-03               MARRUECOS          EXTRANJERO                ESPAÑA   \n",
       "2012-01-03                  BRASIL          EXTRANJERO                BRASIL   \n",
       "2012-01-03               MARRUECOS          EXTRANJERO             MARRUECOS   \n",
       "2012-01-03                BANYOLES              GIRONA                ESPAÑA   \n",
       "2012-01-03                 FRANCIA          EXTRANJERO               FRANCIA   \n",
       "2012-01-03                    SALT              GIRONA                ESPAÑA   \n",
       "2012-01-03                 UCRANIA          EXTRANJERO                ESPAÑA   \n",
       "2012-01-03                 UCRANIA          EXTRANJERO                ESPAÑA   \n",
       "2012-01-03                  GIRONA              GIRONA                ESPAÑA   \n",
       "2012-01-04                  GIRONA              GIRONA                ESPAÑA   \n",
       "2012-01-05                  GIRONA              GIRONA                ESPAÑA   \n",
       "...                            ...                 ...                   ...   \n",
       "2012-03-29                  BRASIL          EXTRANJERO                BRASIL   \n",
       "2012-03-29                  BRASIL          EXTRANJERO                ESPAÑA   \n",
       "2012-03-29                  GIRONA              GIRONA                ESPAÑA   \n",
       "2012-03-29                  GIRONA              GIRONA                ESPAÑA   \n",
       "2012-03-29                A CORUÑA           LA CORUÑA                ESPAÑA   \n",
       "2012-03-29                  BRASIL          EXTRANJERO                ESPAÑA   \n",
       "2012-03-29                  GIRONA              GIRONA                ESPAÑA   \n",
       "2012-03-29                    JAEN                JAÉN                ESPAÑA   \n",
       "2012-03-30                  GIRONA              GIRONA                ESPAÑA   \n",
       "2012-03-30                   SUIZA          EXTRANJERO                   <20   \n",
       "2012-03-30                  GIRONA              GIRONA                ESPAÑA   \n",
       "2012-03-30                  GIRONA              GIRONA                ESPAÑA   \n",
       "2012-03-30                     VIC           BARCELONA                ESPAÑA   \n",
       "2012-03-30                  GIRONA              GIRONA                ESPAÑA   \n",
       "2012-03-30                  GIRONA              GIRONA                ESPAÑA   \n",
       "2012-03-30                 TORDERA           BARCELONA                ESPAÑA   \n",
       "2012-03-30                HONDURAS          EXTRANJERO              HONDURAS   \n",
       "2012-03-30                     <20              TERUEL                ESPAÑA   \n",
       "2012-03-30                  GIRONA              GIRONA                ESPAÑA   \n",
       "2012-03-30                    PERÚ          EXTRANJERO                ESPAÑA   \n",
       "2012-03-30                  GIRONA              GIRONA                ESPAÑA   \n",
       "2012-03-30               BARCELONA           BARCELONA                ESPAÑA   \n",
       "2012-03-30    REPÚBLICA DOMINICANA          EXTRANJERO  REPÚBLICA DOMINICANA   \n",
       "2012-03-30    REPÚBLICA DOMINICANA          EXTRANJERO  REPÚBLICA DOMINICANA   \n",
       "2012-03-30                     <20              TERUEL                ESPAÑA   \n",
       "2012-03-30    REPÚBLICA DOMINICANA          EXTRANJERO  REPÚBLICA DOMINICANA   \n",
       "2012-03-31                HONDURAS          EXTRANJERO              HONDURAS   \n",
       "2012-03-31               BARCELONA           BARCELONA                ESPAÑA   \n",
       "2012-03-31               BARCELONA           BARCELONA                ESPAÑA   \n",
       "2012-03-31                  GIRONA              GIRONA                ESPAÑA   \n",
       "\n",
       "           municipi_pais_procedencia provincia_procedencia  \n",
       "data_alta                                                   \n",
       "2012-01-01                       NaN                   NaN  \n",
       "2012-01-02                    GIRONA                GIRONA  \n",
       "2012-01-02                    GIRONA                GIRONA  \n",
       "2012-01-02                       NaN                   NaN  \n",
       "2012-01-02                     CELRÀ                GIRONA  \n",
       "2012-01-02                       NaN                   NaN  \n",
       "2012-01-03                    BLANES                GIRONA  \n",
       "2012-01-03                    GIRONA                GIRONA  \n",
       "2012-01-03                      SALT                GIRONA  \n",
       "2012-01-03                      SALT                GIRONA  \n",
       "2012-01-03                       <20                GIRONA  \n",
       "2012-01-03             SARRIÀ DE TER                GIRONA  \n",
       "2012-01-03                    GIRONA                GIRONA  \n",
       "2012-01-03                     BEGUR                GIRONA  \n",
       "2012-01-03                      SALT                GIRONA  \n",
       "2012-01-03                    GIRONA                GIRONA  \n",
       "2012-01-03                      SALT                GIRONA  \n",
       "2012-01-03                  SABADELL             BARCELONA  \n",
       "2012-01-03                      SALT                GIRONA  \n",
       "2012-01-03                  BANYOLES                GIRONA  \n",
       "2012-01-03             S.JULIA RAMIS                GIRONA  \n",
       "2012-01-03                  BANYOLES                GIRONA  \n",
       "2012-01-03                  BANYOLES                GIRONA  \n",
       "2012-01-03         CASSÀ DE LA SELVA                GIRONA  \n",
       "2012-01-03                      SALT                GIRONA  \n",
       "2012-01-03                     CAMÓS                GIRONA  \n",
       "2012-01-03                     CAMÓS                GIRONA  \n",
       "2012-01-03                   ANDORRA            EXTRANJERO  \n",
       "2012-01-04                    GIRONA                GIRONA  \n",
       "2012-01-05                    GIRONA                GIRONA  \n",
       "...                              ...                   ...  \n",
       "2012-03-29                      SALT                GIRONA  \n",
       "2012-03-29                  A CORUÑA             LA CORUÑA  \n",
       "2012-03-29            VILOBI D'ONYAR                GIRONA  \n",
       "2012-03-29                    GIRONA                GIRONA  \n",
       "2012-03-29                  A CORUÑA             LA CORUÑA  \n",
       "2012-03-29                  A CORUÑA             LA CORUÑA  \n",
       "2012-03-29                    GIRONA                GIRONA  \n",
       "2012-03-29                    GIRONA                GIRONA  \n",
       "2012-03-30                    GIRONA                GIRONA  \n",
       "2012-03-30                    GIRONA                GIRONA  \n",
       "2012-03-30                    GIRONA                GIRONA  \n",
       "2012-03-30                    GIRONA                GIRONA  \n",
       "2012-03-30            FORNELLS SELVA                GIRONA  \n",
       "2012-03-30                     CHINA            EXTRANJERO  \n",
       "2012-03-30                    GIRONA                GIRONA  \n",
       "2012-03-30                   CALONGE                GIRONA  \n",
       "2012-03-30                  HONDURAS            EXTRANJERO  \n",
       "2012-03-30                   BESCANÓ                GIRONA  \n",
       "2012-03-30            FORNELLS SELVA                GIRONA  \n",
       "2012-03-30                      PERÚ            EXTRANJERO  \n",
       "2012-03-30             CASTELLDEFELS             BARCELONA  \n",
       "2012-03-30                     QUART                GIRONA  \n",
       "2012-03-30      REPÚBLICA DOMINICANA            EXTRANJERO  \n",
       "2012-03-30      REPÚBLICA DOMINICANA            EXTRANJERO  \n",
       "2012-03-30                    GIRONA                GIRONA  \n",
       "2012-03-30      REPÚBLICA DOMINICANA            EXTRANJERO  \n",
       "2012-03-31                  HONDURAS            EXTRANJERO  \n",
       "2012-03-31                      AMER                GIRONA  \n",
       "2012-03-31                      AMER                GIRONA  \n",
       "2012-03-31                    GIRONA                GIRONA  \n",
       "\n",
       "[1068 rows x 10 columns]"
      ]
     },
     "execution_count": 92,
     "metadata": {},
     "output_type": "execute_result"
    }
   ],
   "source": [
    "data['2012-01':'2012-03']"
   ]
  },
  {
   "cell_type": "markdown",
   "metadata": {
    "slideshow": {
     "slide_type": "subslide"
    }
   },
   "source": [
    "Els components de Hora i Data són accessibles desde l'index:"
   ]
  },
  {
   "cell_type": "code",
   "execution_count": 93,
   "metadata": {},
   "outputs": [
    {
     "data": {
      "text/plain": [
       "array([ 9,  1,  1, ..., 12, 12, 12], dtype=int32)"
      ]
     },
     "execution_count": 93,
     "metadata": {},
     "output_type": "execute_result"
    }
   ],
   "source": [
    "data.index.month"
   ]
  },
  {
   "cell_type": "code",
   "execution_count": 94,
   "metadata": {},
   "outputs": [
    {
     "data": {
      "text/plain": [
       "array([1977, 1996, 1996, ..., 2015, 2015, 2015], dtype=int32)"
      ]
     },
     "execution_count": 94,
     "metadata": {},
     "output_type": "execute_result"
    }
   ],
   "source": [
    "data.index.year"
   ]
  },
  {
   "cell_type": "markdown",
   "metadata": {
    "slideshow": {
     "slide_type": "subslide"
    }
   },
   "source": [
    "## La potència de pandas: `resample`"
   ]
  },
  {
   "cell_type": "markdown",
   "metadata": {},
   "source": [
    "Un mètode molt potent es **`resample`: convertir la frecuència del time series** (per exemple de dades diaries a dades mensuals).\n",
    "\n",
    "Aquest time series té una frecuencia diària: Vull canviar-ho a mensual:"
   ]
  },
  {
   "cell_type": "code",
   "execution_count": 95,
   "metadata": {},
   "outputs": [
    {
     "data": {
      "text/html": [
       "<div>\n",
       "<table border=\"1\" class=\"dataframe\">\n",
       "  <thead>\n",
       "    <tr style=\"text-align: right;\">\n",
       "      <th></th>\n",
       "      <th>nous inscrits</th>\n",
       "    </tr>\n",
       "    <tr>\n",
       "      <th>data_alta</th>\n",
       "      <th></th>\n",
       "    </tr>\n",
       "  </thead>\n",
       "  <tbody>\n",
       "    <tr>\n",
       "      <th>2015-08-31</th>\n",
       "      <td>573</td>\n",
       "    </tr>\n",
       "    <tr>\n",
       "      <th>2015-09-30</th>\n",
       "      <td>785</td>\n",
       "    </tr>\n",
       "    <tr>\n",
       "      <th>2015-10-31</th>\n",
       "      <td>739</td>\n",
       "    </tr>\n",
       "    <tr>\n",
       "      <th>2015-11-30</th>\n",
       "      <td>554</td>\n",
       "    </tr>\n",
       "    <tr>\n",
       "      <th>2015-12-31</th>\n",
       "      <td>564</td>\n",
       "    </tr>\n",
       "  </tbody>\n",
       "</table>\n",
       "</div>"
      ],
      "text/plain": [
       "            nous inscrits\n",
       "data_alta                \n",
       "2015-08-31            573\n",
       "2015-09-30            785\n",
       "2015-10-31            739\n",
       "2015-11-30            554\n",
       "2015-12-31            564"
      ]
     },
     "execution_count": 95,
     "metadata": {},
     "output_type": "execute_result"
    }
   ],
   "source": [
    "data.resample('M').size().tail().to_frame(\"nous inscrits\")"
   ]
  },
  {
   "cell_type": "markdown",
   "metadata": {
    "slideshow": {
     "slide_type": "subslide"
    }
   },
   "source": [
    "Exemples de exploració de dades:"
   ]
  },
  {
   "cell_type": "code",
   "execution_count": 96,
   "metadata": {},
   "outputs": [
    {
     "data": {
      "text/plain": [
       "<matplotlib.axes._subplots.AxesSubplot at 0x11cdb2250>"
      ]
     },
     "execution_count": 96,
     "metadata": {},
     "output_type": "execute_result"
    },
    {
     "data": {
      "image/png": "[encoded data removed]",
      "text/plain": [
       "<matplotlib.figure.Figure at 0x11cd8cd90>"
      ]
     },
     "metadata": {},
     "output_type": "display_data"
    }
   ],
   "source": [
    "data['2010':].resample('M').size().plot()\n",
    "data['2010':].resample('M').size().rolling(10).mean().plot()"
   ]
  },
  {
   "cell_type": "markdown",
   "metadata": {
    "slideshow": {
     "slide_type": "slide"
    }
   },
   "source": [
    "# Analitzant les dades"
   ]
  },
  {
   "cell_type": "markdown",
   "metadata": {
    "slideshow": {
     "slide_type": "subslide"
    }
   },
   "source": [
    "## La operació groupby (split-apply-combine)\n",
    "\n",
    "Per \"group by\" ens referim al procés que inclou un o més dels següents passos:\n",
    "\n",
    "* **Splitting** the data into groups based on some criteria\n",
    "* **Applying** a function to each group independently\n",
    "* **Combining** the results into a data structure\n",
    "\n",
    "\n",
    "Similar a SQL `GROUP BY`"
   ]
  },
  {
   "cell_type": "code",
   "execution_count": 68,
   "metadata": {
    "collapsed": true,
    "slideshow": {
     "slide_type": "skip"
    }
   },
   "outputs": [],
   "source": [
    "data_folder = os.path.join(os.getcwd(), 'data')\n",
    "data = pd.read_csv(\n",
    "    os.path.join(data_folder, '2015-padro.csv'), \n",
    "    sep=';', \n",
    "    parse_dates=[\"data_naixement\", \"data_alta\"])"
   ]
  },
  {
   "cell_type": "markdown",
   "metadata": {
    "slideshow": {
     "slide_type": "subslide"
    }
   },
   "source": [
    "**Pregunta: Quines promocions son les millors formades?**\n",
    "\n",
    "Primer afegim una columna universitari si/no"
   ]
  },
  {
   "cell_type": "code",
   "execution_count": 69,
   "metadata": {
    "collapsed": true
   },
   "outputs": [],
   "source": [
    "titulacio_universitaria_o_superior = [\n",
    "    \"LLICENCIAT O GRAU UNIVER.\",\n",
    "    \"DIPLOMAT ESCOLA UNIVERS.\",\n",
    "    \"DOCTORAT I POST-GRAU\",\n",
    "    \"ARQUITECTE,ENGINYER T\\xc3\\x88CNI\"\n",
    "]\n",
    "data[\"universitari\"]=False\n",
    "data.loc[data[\"nivell_estudis\"].isin(titulacio_universitaria_o_superior), \"universitari\"]=True"
   ]
  },
  {
   "cell_type": "code",
   "execution_count": 72,
   "metadata": {
    "slideshow": {
     "slide_type": "subslide"
    }
   },
   "outputs": [
    {
     "data": {
      "image/png": "[encoded data removed]",
      "text/plain": [
       "<matplotlib.figure.Figure at 0x11498b290>"
      ]
     },
     "metadata": {},
     "output_type": "display_data"
    }
   ],
   "source": [
    "mask = (data[\"nivell_estudis\"]!=\"NO APLICABLE MENOR 16\") \\\n",
    "        & (data[\"data_naixement\"]>='1960') \\\n",
    "        & (data[\"data_naixement\"]<'1995')\n",
    "\n",
    "universitaris = data[mask] \\\n",
    "    .groupby([\"data_naixement\",\"universitari\"]) \\\n",
    "    .size() \\\n",
    "    .unstack(['universitari']) \\\n",
    "    .apply(lambda x: (x / x.sum()), axis=1)\n",
    "\n",
    "universitaris.columns=\"No-Universitari\",\"Universitari\"\n",
    "\n",
    "universitaris.plot(kind='bar', stacked=True, legend=False);"
   ]
  },
  {
   "cell_type": "markdown",
   "metadata": {
    "collapsed": true,
    "slideshow": {
     "slide_type": "slide"
    }
   },
   "source": [
    "## Gràcies per escoltar! Preguntes?\n",
    "\n",
    "\n",
    "- https://github.com/victormartingarcia\n",
    "- <mailto:victor.martin.garcia@gmail.com>\n",
    "- [@victormartin](https://twitter.com/victormartin)\n",
    "\n",
    "\n",
    "Slides and data: Source: https://github.com/victormartingarcia/2017-pyGrn-intropandas\n",
    "\n",
    "\n",
    "Slides presented with 'live reveal' https://github.com/damianavila/RISE\n"
   ]
  }
 ],
 "metadata": {
  "celltoolbar": "Slideshow",
  "kernelspec": {
   "display_name": "Python2 (systemia-research)",
   "language": "python",
   "name": "systemia-research"
  },
  "language_info": {
   "codemirror_mode": {
    "name": "ipython",
    "version": 2
   },
   "file_extension": ".py",
   "mimetype": "text/x-python",
   "name": "python",
   "nbconvert_exporter": "python",
   "pygments_lexer": "ipython2",
   "version": "2.7.13"
  }
 },
 "nbformat": 4,
 "nbformat_minor": 1
}
